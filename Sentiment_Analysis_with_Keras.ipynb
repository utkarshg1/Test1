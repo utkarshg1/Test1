{
  "nbformat": 4,
  "nbformat_minor": 0,
  "metadata": {
    "colab": {
      "provenance": [],
      "authorship_tag": "ABX9TyOtlZ8CJ2rvIkdy7ErgAxVX",
      "include_colab_link": true
    },
    "kernelspec": {
      "name": "python3",
      "display_name": "Python 3"
    },
    "language_info": {
      "name": "python"
    }
  },
  "cells": [
    {
      "cell_type": "markdown",
      "metadata": {
        "id": "view-in-github",
        "colab_type": "text"
      },
      "source": [
        "<a href=\"https://colab.research.google.com/github/utkarshg1/Test1/blob/main/Sentiment_Analysis_with_Keras.ipynb\" target=\"_parent\"><img src=\"https://colab.research.google.com/assets/colab-badge.svg\" alt=\"Open In Colab\"/></a>"
      ]
    },
    {
      "cell_type": "markdown",
      "source": [
        "# Sentiment analysis"
      ],
      "metadata": {
        "id": "N_NgCNRrkj-S"
      }
    },
    {
      "cell_type": "code",
      "execution_count": 10,
      "metadata": {
        "id": "1k_koybrg2Xy"
      },
      "outputs": [],
      "source": [
        "from warnings import filterwarnings\n",
        "filterwarnings(\"ignore\")"
      ]
    },
    {
      "cell_type": "markdown",
      "source": [
        "# Step 1 - Data Ingestion"
      ],
      "metadata": {
        "id": "QJxTPdeikud2"
      }
    },
    {
      "cell_type": "code",
      "source": [
        "url1 = \"https://raw.githubusercontent.com/utkarshg1/Neural-Net-Datasets/refs/heads/main/Restaurant_Reviews.tsv\"\n",
        "print(url1)"
      ],
      "metadata": {
        "colab": {
          "base_uri": "https://localhost:8080/"
        },
        "id": "YhwCmDsOksDt",
        "outputId": "aca33887-17fd-4dad-a7cf-e9338441eb7a"
      },
      "execution_count": 11,
      "outputs": [
        {
          "output_type": "stream",
          "name": "stdout",
          "text": [
            "https://raw.githubusercontent.com/utkarshg1/Neural-Net-Datasets/refs/heads/main/Restaurant_Reviews.tsv\n"
          ]
        }
      ]
    },
    {
      "cell_type": "code",
      "source": [
        "import pandas as pd\n",
        "df = pd.read_csv(url1, sep = \"\\t\")\n",
        "df.head()"
      ],
      "metadata": {
        "colab": {
          "base_uri": "https://localhost:8080/",
          "height": 206
        },
        "id": "LL8Dki28lG_K",
        "outputId": "48812543-fab7-4a7f-8abf-ceb46cd07c41"
      },
      "execution_count": 12,
      "outputs": [
        {
          "output_type": "execute_result",
          "data": {
            "text/plain": [
              "                                              Review  Liked\n",
              "0                           Wow... Loved this place.      1\n",
              "1                                 Crust is not good.      0\n",
              "2          Not tasty and the texture was just nasty.      0\n",
              "3  Stopped by during the late May bank holiday of...      1\n",
              "4  The selection on the menu was great and so wer...      1"
            ],
            "text/html": [
              "\n",
              "  <div id=\"df-94b9c6f4-25e7-4e2f-9c0b-c8b304d95dd7\" class=\"colab-df-container\">\n",
              "    <div>\n",
              "<style scoped>\n",
              "    .dataframe tbody tr th:only-of-type {\n",
              "        vertical-align: middle;\n",
              "    }\n",
              "\n",
              "    .dataframe tbody tr th {\n",
              "        vertical-align: top;\n",
              "    }\n",
              "\n",
              "    .dataframe thead th {\n",
              "        text-align: right;\n",
              "    }\n",
              "</style>\n",
              "<table border=\"1\" class=\"dataframe\">\n",
              "  <thead>\n",
              "    <tr style=\"text-align: right;\">\n",
              "      <th></th>\n",
              "      <th>Review</th>\n",
              "      <th>Liked</th>\n",
              "    </tr>\n",
              "  </thead>\n",
              "  <tbody>\n",
              "    <tr>\n",
              "      <th>0</th>\n",
              "      <td>Wow... Loved this place.</td>\n",
              "      <td>1</td>\n",
              "    </tr>\n",
              "    <tr>\n",
              "      <th>1</th>\n",
              "      <td>Crust is not good.</td>\n",
              "      <td>0</td>\n",
              "    </tr>\n",
              "    <tr>\n",
              "      <th>2</th>\n",
              "      <td>Not tasty and the texture was just nasty.</td>\n",
              "      <td>0</td>\n",
              "    </tr>\n",
              "    <tr>\n",
              "      <th>3</th>\n",
              "      <td>Stopped by during the late May bank holiday of...</td>\n",
              "      <td>1</td>\n",
              "    </tr>\n",
              "    <tr>\n",
              "      <th>4</th>\n",
              "      <td>The selection on the menu was great and so wer...</td>\n",
              "      <td>1</td>\n",
              "    </tr>\n",
              "  </tbody>\n",
              "</table>\n",
              "</div>\n",
              "    <div class=\"colab-df-buttons\">\n",
              "\n",
              "  <div class=\"colab-df-container\">\n",
              "    <button class=\"colab-df-convert\" onclick=\"convertToInteractive('df-94b9c6f4-25e7-4e2f-9c0b-c8b304d95dd7')\"\n",
              "            title=\"Convert this dataframe to an interactive table.\"\n",
              "            style=\"display:none;\">\n",
              "\n",
              "  <svg xmlns=\"http://www.w3.org/2000/svg\" height=\"24px\" viewBox=\"0 -960 960 960\">\n",
              "    <path d=\"M120-120v-720h720v720H120Zm60-500h600v-160H180v160Zm220 220h160v-160H400v160Zm0 220h160v-160H400v160ZM180-400h160v-160H180v160Zm440 0h160v-160H620v160ZM180-180h160v-160H180v160Zm440 0h160v-160H620v160Z\"/>\n",
              "  </svg>\n",
              "    </button>\n",
              "\n",
              "  <style>\n",
              "    .colab-df-container {\n",
              "      display:flex;\n",
              "      gap: 12px;\n",
              "    }\n",
              "\n",
              "    .colab-df-convert {\n",
              "      background-color: #E8F0FE;\n",
              "      border: none;\n",
              "      border-radius: 50%;\n",
              "      cursor: pointer;\n",
              "      display: none;\n",
              "      fill: #1967D2;\n",
              "      height: 32px;\n",
              "      padding: 0 0 0 0;\n",
              "      width: 32px;\n",
              "    }\n",
              "\n",
              "    .colab-df-convert:hover {\n",
              "      background-color: #E2EBFA;\n",
              "      box-shadow: 0px 1px 2px rgba(60, 64, 67, 0.3), 0px 1px 3px 1px rgba(60, 64, 67, 0.15);\n",
              "      fill: #174EA6;\n",
              "    }\n",
              "\n",
              "    .colab-df-buttons div {\n",
              "      margin-bottom: 4px;\n",
              "    }\n",
              "\n",
              "    [theme=dark] .colab-df-convert {\n",
              "      background-color: #3B4455;\n",
              "      fill: #D2E3FC;\n",
              "    }\n",
              "\n",
              "    [theme=dark] .colab-df-convert:hover {\n",
              "      background-color: #434B5C;\n",
              "      box-shadow: 0px 1px 3px 1px rgba(0, 0, 0, 0.15);\n",
              "      filter: drop-shadow(0px 1px 2px rgba(0, 0, 0, 0.3));\n",
              "      fill: #FFFFFF;\n",
              "    }\n",
              "  </style>\n",
              "\n",
              "    <script>\n",
              "      const buttonEl =\n",
              "        document.querySelector('#df-94b9c6f4-25e7-4e2f-9c0b-c8b304d95dd7 button.colab-df-convert');\n",
              "      buttonEl.style.display =\n",
              "        google.colab.kernel.accessAllowed ? 'block' : 'none';\n",
              "\n",
              "      async function convertToInteractive(key) {\n",
              "        const element = document.querySelector('#df-94b9c6f4-25e7-4e2f-9c0b-c8b304d95dd7');\n",
              "        const dataTable =\n",
              "          await google.colab.kernel.invokeFunction('convertToInteractive',\n",
              "                                                    [key], {});\n",
              "        if (!dataTable) return;\n",
              "\n",
              "        const docLinkHtml = 'Like what you see? Visit the ' +\n",
              "          '<a target=\"_blank\" href=https://colab.research.google.com/notebooks/data_table.ipynb>data table notebook</a>'\n",
              "          + ' to learn more about interactive tables.';\n",
              "        element.innerHTML = '';\n",
              "        dataTable['output_type'] = 'display_data';\n",
              "        await google.colab.output.renderOutput(dataTable, element);\n",
              "        const docLink = document.createElement('div');\n",
              "        docLink.innerHTML = docLinkHtml;\n",
              "        element.appendChild(docLink);\n",
              "      }\n",
              "    </script>\n",
              "  </div>\n",
              "\n",
              "\n",
              "    <div id=\"df-18cfe7fa-0999-4910-8483-ee1dcc774732\">\n",
              "      <button class=\"colab-df-quickchart\" onclick=\"quickchart('df-18cfe7fa-0999-4910-8483-ee1dcc774732')\"\n",
              "                title=\"Suggest charts\"\n",
              "                style=\"display:none;\">\n",
              "\n",
              "<svg xmlns=\"http://www.w3.org/2000/svg\" height=\"24px\"viewBox=\"0 0 24 24\"\n",
              "     width=\"24px\">\n",
              "    <g>\n",
              "        <path d=\"M19 3H5c-1.1 0-2 .9-2 2v14c0 1.1.9 2 2 2h14c1.1 0 2-.9 2-2V5c0-1.1-.9-2-2-2zM9 17H7v-7h2v7zm4 0h-2V7h2v10zm4 0h-2v-4h2v4z\"/>\n",
              "    </g>\n",
              "</svg>\n",
              "      </button>\n",
              "\n",
              "<style>\n",
              "  .colab-df-quickchart {\n",
              "      --bg-color: #E8F0FE;\n",
              "      --fill-color: #1967D2;\n",
              "      --hover-bg-color: #E2EBFA;\n",
              "      --hover-fill-color: #174EA6;\n",
              "      --disabled-fill-color: #AAA;\n",
              "      --disabled-bg-color: #DDD;\n",
              "  }\n",
              "\n",
              "  [theme=dark] .colab-df-quickchart {\n",
              "      --bg-color: #3B4455;\n",
              "      --fill-color: #D2E3FC;\n",
              "      --hover-bg-color: #434B5C;\n",
              "      --hover-fill-color: #FFFFFF;\n",
              "      --disabled-bg-color: #3B4455;\n",
              "      --disabled-fill-color: #666;\n",
              "  }\n",
              "\n",
              "  .colab-df-quickchart {\n",
              "    background-color: var(--bg-color);\n",
              "    border: none;\n",
              "    border-radius: 50%;\n",
              "    cursor: pointer;\n",
              "    display: none;\n",
              "    fill: var(--fill-color);\n",
              "    height: 32px;\n",
              "    padding: 0;\n",
              "    width: 32px;\n",
              "  }\n",
              "\n",
              "  .colab-df-quickchart:hover {\n",
              "    background-color: var(--hover-bg-color);\n",
              "    box-shadow: 0 1px 2px rgba(60, 64, 67, 0.3), 0 1px 3px 1px rgba(60, 64, 67, 0.15);\n",
              "    fill: var(--button-hover-fill-color);\n",
              "  }\n",
              "\n",
              "  .colab-df-quickchart-complete:disabled,\n",
              "  .colab-df-quickchart-complete:disabled:hover {\n",
              "    background-color: var(--disabled-bg-color);\n",
              "    fill: var(--disabled-fill-color);\n",
              "    box-shadow: none;\n",
              "  }\n",
              "\n",
              "  .colab-df-spinner {\n",
              "    border: 2px solid var(--fill-color);\n",
              "    border-color: transparent;\n",
              "    border-bottom-color: var(--fill-color);\n",
              "    animation:\n",
              "      spin 1s steps(1) infinite;\n",
              "  }\n",
              "\n",
              "  @keyframes spin {\n",
              "    0% {\n",
              "      border-color: transparent;\n",
              "      border-bottom-color: var(--fill-color);\n",
              "      border-left-color: var(--fill-color);\n",
              "    }\n",
              "    20% {\n",
              "      border-color: transparent;\n",
              "      border-left-color: var(--fill-color);\n",
              "      border-top-color: var(--fill-color);\n",
              "    }\n",
              "    30% {\n",
              "      border-color: transparent;\n",
              "      border-left-color: var(--fill-color);\n",
              "      border-top-color: var(--fill-color);\n",
              "      border-right-color: var(--fill-color);\n",
              "    }\n",
              "    40% {\n",
              "      border-color: transparent;\n",
              "      border-right-color: var(--fill-color);\n",
              "      border-top-color: var(--fill-color);\n",
              "    }\n",
              "    60% {\n",
              "      border-color: transparent;\n",
              "      border-right-color: var(--fill-color);\n",
              "    }\n",
              "    80% {\n",
              "      border-color: transparent;\n",
              "      border-right-color: var(--fill-color);\n",
              "      border-bottom-color: var(--fill-color);\n",
              "    }\n",
              "    90% {\n",
              "      border-color: transparent;\n",
              "      border-bottom-color: var(--fill-color);\n",
              "    }\n",
              "  }\n",
              "</style>\n",
              "\n",
              "      <script>\n",
              "        async function quickchart(key) {\n",
              "          const quickchartButtonEl =\n",
              "            document.querySelector('#' + key + ' button');\n",
              "          quickchartButtonEl.disabled = true;  // To prevent multiple clicks.\n",
              "          quickchartButtonEl.classList.add('colab-df-spinner');\n",
              "          try {\n",
              "            const charts = await google.colab.kernel.invokeFunction(\n",
              "                'suggestCharts', [key], {});\n",
              "          } catch (error) {\n",
              "            console.error('Error during call to suggestCharts:', error);\n",
              "          }\n",
              "          quickchartButtonEl.classList.remove('colab-df-spinner');\n",
              "          quickchartButtonEl.classList.add('colab-df-quickchart-complete');\n",
              "        }\n",
              "        (() => {\n",
              "          let quickchartButtonEl =\n",
              "            document.querySelector('#df-18cfe7fa-0999-4910-8483-ee1dcc774732 button');\n",
              "          quickchartButtonEl.style.display =\n",
              "            google.colab.kernel.accessAllowed ? 'block' : 'none';\n",
              "        })();\n",
              "      </script>\n",
              "    </div>\n",
              "\n",
              "    </div>\n",
              "  </div>\n"
            ],
            "application/vnd.google.colaboratory.intrinsic+json": {
              "type": "dataframe",
              "variable_name": "df",
              "summary": "{\n  \"name\": \"df\",\n  \"rows\": 1000,\n  \"fields\": [\n    {\n      \"column\": \"Review\",\n      \"properties\": {\n        \"dtype\": \"string\",\n        \"num_unique_values\": 996,\n        \"samples\": [\n          \"They were excellent.\",\n          \"Your servers suck, wait, correction, our server Heimer sucked.\",\n          \"Will be back again!\"\n        ],\n        \"semantic_type\": \"\",\n        \"description\": \"\"\n      }\n    },\n    {\n      \"column\": \"Liked\",\n      \"properties\": {\n        \"dtype\": \"number\",\n        \"std\": 0,\n        \"min\": 0,\n        \"max\": 1,\n        \"num_unique_values\": 2,\n        \"samples\": [\n          0,\n          1\n        ],\n        \"semantic_type\": \"\",\n        \"description\": \"\"\n      }\n    }\n  ]\n}"
            }
          },
          "metadata": {},
          "execution_count": 12
        }
      ]
    },
    {
      "cell_type": "markdown",
      "source": [
        "# Step 2 - Perform preprocessing on the text"
      ],
      "metadata": {
        "id": "p2AjRVlYlasD"
      }
    },
    {
      "cell_type": "code",
      "source": [
        "text = \"Wow... Loved this place\"\n",
        "print(text)"
      ],
      "metadata": {
        "colab": {
          "base_uri": "https://localhost:8080/"
        },
        "id": "-kO5eIkjlgd6",
        "outputId": "d5e25974-9cf2-4944-dc30-ee4d69bc14ff"
      },
      "execution_count": 13,
      "outputs": [
        {
          "output_type": "stream",
          "name": "stdout",
          "text": [
            "Wow... Loved this place\n"
          ]
        }
      ]
    },
    {
      "cell_type": "code",
      "source": [
        "text = text.lower()\n",
        "print(text)"
      ],
      "metadata": {
        "colab": {
          "base_uri": "https://localhost:8080/"
        },
        "id": "PirSQd-7lkTK",
        "outputId": "a90b89b6-3b21-49c5-a020-6239b1790d64"
      },
      "execution_count": 14,
      "outputs": [
        {
          "output_type": "stream",
          "name": "stdout",
          "text": [
            "wow... loved this place\n"
          ]
        }
      ]
    },
    {
      "cell_type": "code",
      "source": [
        "import re\n",
        "text = re.sub(r\"[^\\w\\s]\", \"\", text)\n",
        "text = text.strip()\n",
        "print(text)"
      ],
      "metadata": {
        "colab": {
          "base_uri": "https://localhost:8080/"
        },
        "id": "V3ib22DGloE_",
        "outputId": "f53857c3-6779-414a-aae0-3d84e61e3e40"
      },
      "execution_count": 15,
      "outputs": [
        {
          "output_type": "stream",
          "name": "stdout",
          "text": [
            "wow loved this place\n"
          ]
        }
      ]
    },
    {
      "cell_type": "code",
      "source": [
        "def clean_text(text: str) -> str:\n",
        "  text = text.lower()\n",
        "  text = re.sub(r\"[^\\w\\s]\", \"\", text)\n",
        "  text = text.strip()\n",
        "  return text"
      ],
      "metadata": {
        "id": "Bn1M3v8MmB0V"
      },
      "execution_count": 57,
      "outputs": []
    },
    {
      "cell_type": "code",
      "source": [
        "cln_txt = clean_text(\"Wow... Loved this place\")\n",
        "cln_txt"
      ],
      "metadata": {
        "colab": {
          "base_uri": "https://localhost:8080/",
          "height": 36
        },
        "id": "aZPxb9-JnMAG",
        "outputId": "d25a6d09-839c-4b4c-a5d8-7df50100fe1a"
      },
      "execution_count": 21,
      "outputs": [
        {
          "output_type": "execute_result",
          "data": {
            "text/plain": [
              "'wow loved this place'"
            ],
            "application/vnd.google.colaboratory.intrinsic+json": {
              "type": "string"
            }
          },
          "metadata": {},
          "execution_count": 21
        }
      ]
    },
    {
      "cell_type": "code",
      "source": [
        "df[\"clean\"] = df[\"Review\"].apply(clean_text)"
      ],
      "metadata": {
        "id": "0yGlahU-nXId"
      },
      "execution_count": 22,
      "outputs": []
    },
    {
      "cell_type": "code",
      "source": [
        "df[\"clean\"]"
      ],
      "metadata": {
        "colab": {
          "base_uri": "https://localhost:8080/",
          "height": 458
        },
        "id": "aTuXMC-DndVA",
        "outputId": "b47ded51-3b4e-4c6b-b73f-a7ed201c2717"
      },
      "execution_count": 23,
      "outputs": [
        {
          "output_type": "execute_result",
          "data": {
            "text/plain": [
              "0                                   wow loved this place\n",
              "1                                      crust is not good\n",
              "2               not tasty and the texture was just nasty\n",
              "3      stopped by during the late may bank holiday of...\n",
              "4      the selection on the menu was great and so wer...\n",
              "                             ...                        \n",
              "995    i think food should have flavor and texture an...\n",
              "996                              appetite instantly gone\n",
              "997    overall i was not impressed and would not go back\n",
              "998    the whole experience was underwhelming and i t...\n",
              "999    then as if i hadnt wasted enough of my life th...\n",
              "Name: clean, Length: 1000, dtype: object"
            ],
            "text/html": [
              "<div>\n",
              "<style scoped>\n",
              "    .dataframe tbody tr th:only-of-type {\n",
              "        vertical-align: middle;\n",
              "    }\n",
              "\n",
              "    .dataframe tbody tr th {\n",
              "        vertical-align: top;\n",
              "    }\n",
              "\n",
              "    .dataframe thead th {\n",
              "        text-align: right;\n",
              "    }\n",
              "</style>\n",
              "<table border=\"1\" class=\"dataframe\">\n",
              "  <thead>\n",
              "    <tr style=\"text-align: right;\">\n",
              "      <th></th>\n",
              "      <th>clean</th>\n",
              "    </tr>\n",
              "  </thead>\n",
              "  <tbody>\n",
              "    <tr>\n",
              "      <th>0</th>\n",
              "      <td>wow loved this place</td>\n",
              "    </tr>\n",
              "    <tr>\n",
              "      <th>1</th>\n",
              "      <td>crust is not good</td>\n",
              "    </tr>\n",
              "    <tr>\n",
              "      <th>2</th>\n",
              "      <td>not tasty and the texture was just nasty</td>\n",
              "    </tr>\n",
              "    <tr>\n",
              "      <th>3</th>\n",
              "      <td>stopped by during the late may bank holiday of...</td>\n",
              "    </tr>\n",
              "    <tr>\n",
              "      <th>4</th>\n",
              "      <td>the selection on the menu was great and so wer...</td>\n",
              "    </tr>\n",
              "    <tr>\n",
              "      <th>...</th>\n",
              "      <td>...</td>\n",
              "    </tr>\n",
              "    <tr>\n",
              "      <th>995</th>\n",
              "      <td>i think food should have flavor and texture an...</td>\n",
              "    </tr>\n",
              "    <tr>\n",
              "      <th>996</th>\n",
              "      <td>appetite instantly gone</td>\n",
              "    </tr>\n",
              "    <tr>\n",
              "      <th>997</th>\n",
              "      <td>overall i was not impressed and would not go back</td>\n",
              "    </tr>\n",
              "    <tr>\n",
              "      <th>998</th>\n",
              "      <td>the whole experience was underwhelming and i t...</td>\n",
              "    </tr>\n",
              "    <tr>\n",
              "      <th>999</th>\n",
              "      <td>then as if i hadnt wasted enough of my life th...</td>\n",
              "    </tr>\n",
              "  </tbody>\n",
              "</table>\n",
              "<p>1000 rows × 1 columns</p>\n",
              "</div><br><label><b>dtype:</b> object</label>"
            ]
          },
          "metadata": {},
          "execution_count": 23
        }
      ]
    },
    {
      "cell_type": "markdown",
      "source": [
        "# Sepeate X and Y"
      ],
      "metadata": {
        "id": "Ci9afijzoL9a"
      }
    },
    {
      "cell_type": "code",
      "source": [
        "X = df[\"clean\"]\n",
        "Y = df[\"Liked\"]"
      ],
      "metadata": {
        "id": "0vJcInatoN9D"
      },
      "execution_count": 25,
      "outputs": []
    },
    {
      "cell_type": "markdown",
      "source": [
        "# Apply tfidf vectorizer"
      ],
      "metadata": {
        "id": "HY0HtB11oCTc"
      }
    },
    {
      "cell_type": "code",
      "source": [
        "from sklearn.feature_extraction.text import TfidfVectorizer\n",
        "tfidf = TfidfVectorizer()\n",
        "tfidf.fit(X)"
      ],
      "metadata": {
        "colab": {
          "base_uri": "https://localhost:8080/",
          "height": 80
        },
        "id": "SrIKz-kAn885",
        "outputId": "b2935858-e861-46a5-eaa6-6cec32f5f730"
      },
      "execution_count": 26,
      "outputs": [
        {
          "output_type": "execute_result",
          "data": {
            "text/plain": [
              "TfidfVectorizer()"
            ],
            "text/html": [
              "<style>#sk-container-id-1 {\n",
              "  /* Definition of color scheme common for light and dark mode */\n",
              "  --sklearn-color-text: #000;\n",
              "  --sklearn-color-text-muted: #666;\n",
              "  --sklearn-color-line: gray;\n",
              "  /* Definition of color scheme for unfitted estimators */\n",
              "  --sklearn-color-unfitted-level-0: #fff5e6;\n",
              "  --sklearn-color-unfitted-level-1: #f6e4d2;\n",
              "  --sklearn-color-unfitted-level-2: #ffe0b3;\n",
              "  --sklearn-color-unfitted-level-3: chocolate;\n",
              "  /* Definition of color scheme for fitted estimators */\n",
              "  --sklearn-color-fitted-level-0: #f0f8ff;\n",
              "  --sklearn-color-fitted-level-1: #d4ebff;\n",
              "  --sklearn-color-fitted-level-2: #b3dbfd;\n",
              "  --sklearn-color-fitted-level-3: cornflowerblue;\n",
              "\n",
              "  /* Specific color for light theme */\n",
              "  --sklearn-color-text-on-default-background: var(--sg-text-color, var(--theme-code-foreground, var(--jp-content-font-color1, black)));\n",
              "  --sklearn-color-background: var(--sg-background-color, var(--theme-background, var(--jp-layout-color0, white)));\n",
              "  --sklearn-color-border-box: var(--sg-text-color, var(--theme-code-foreground, var(--jp-content-font-color1, black)));\n",
              "  --sklearn-color-icon: #696969;\n",
              "\n",
              "  @media (prefers-color-scheme: dark) {\n",
              "    /* Redefinition of color scheme for dark theme */\n",
              "    --sklearn-color-text-on-default-background: var(--sg-text-color, var(--theme-code-foreground, var(--jp-content-font-color1, white)));\n",
              "    --sklearn-color-background: var(--sg-background-color, var(--theme-background, var(--jp-layout-color0, #111)));\n",
              "    --sklearn-color-border-box: var(--sg-text-color, var(--theme-code-foreground, var(--jp-content-font-color1, white)));\n",
              "    --sklearn-color-icon: #878787;\n",
              "  }\n",
              "}\n",
              "\n",
              "#sk-container-id-1 {\n",
              "  color: var(--sklearn-color-text);\n",
              "}\n",
              "\n",
              "#sk-container-id-1 pre {\n",
              "  padding: 0;\n",
              "}\n",
              "\n",
              "#sk-container-id-1 input.sk-hidden--visually {\n",
              "  border: 0;\n",
              "  clip: rect(1px 1px 1px 1px);\n",
              "  clip: rect(1px, 1px, 1px, 1px);\n",
              "  height: 1px;\n",
              "  margin: -1px;\n",
              "  overflow: hidden;\n",
              "  padding: 0;\n",
              "  position: absolute;\n",
              "  width: 1px;\n",
              "}\n",
              "\n",
              "#sk-container-id-1 div.sk-dashed-wrapped {\n",
              "  border: 1px dashed var(--sklearn-color-line);\n",
              "  margin: 0 0.4em 0.5em 0.4em;\n",
              "  box-sizing: border-box;\n",
              "  padding-bottom: 0.4em;\n",
              "  background-color: var(--sklearn-color-background);\n",
              "}\n",
              "\n",
              "#sk-container-id-1 div.sk-container {\n",
              "  /* jupyter's `normalize.less` sets `[hidden] { display: none; }`\n",
              "     but bootstrap.min.css set `[hidden] { display: none !important; }`\n",
              "     so we also need the `!important` here to be able to override the\n",
              "     default hidden behavior on the sphinx rendered scikit-learn.org.\n",
              "     See: https://github.com/scikit-learn/scikit-learn/issues/21755 */\n",
              "  display: inline-block !important;\n",
              "  position: relative;\n",
              "}\n",
              "\n",
              "#sk-container-id-1 div.sk-text-repr-fallback {\n",
              "  display: none;\n",
              "}\n",
              "\n",
              "div.sk-parallel-item,\n",
              "div.sk-serial,\n",
              "div.sk-item {\n",
              "  /* draw centered vertical line to link estimators */\n",
              "  background-image: linear-gradient(var(--sklearn-color-text-on-default-background), var(--sklearn-color-text-on-default-background));\n",
              "  background-size: 2px 100%;\n",
              "  background-repeat: no-repeat;\n",
              "  background-position: center center;\n",
              "}\n",
              "\n",
              "/* Parallel-specific style estimator block */\n",
              "\n",
              "#sk-container-id-1 div.sk-parallel-item::after {\n",
              "  content: \"\";\n",
              "  width: 100%;\n",
              "  border-bottom: 2px solid var(--sklearn-color-text-on-default-background);\n",
              "  flex-grow: 1;\n",
              "}\n",
              "\n",
              "#sk-container-id-1 div.sk-parallel {\n",
              "  display: flex;\n",
              "  align-items: stretch;\n",
              "  justify-content: center;\n",
              "  background-color: var(--sklearn-color-background);\n",
              "  position: relative;\n",
              "}\n",
              "\n",
              "#sk-container-id-1 div.sk-parallel-item {\n",
              "  display: flex;\n",
              "  flex-direction: column;\n",
              "}\n",
              "\n",
              "#sk-container-id-1 div.sk-parallel-item:first-child::after {\n",
              "  align-self: flex-end;\n",
              "  width: 50%;\n",
              "}\n",
              "\n",
              "#sk-container-id-1 div.sk-parallel-item:last-child::after {\n",
              "  align-self: flex-start;\n",
              "  width: 50%;\n",
              "}\n",
              "\n",
              "#sk-container-id-1 div.sk-parallel-item:only-child::after {\n",
              "  width: 0;\n",
              "}\n",
              "\n",
              "/* Serial-specific style estimator block */\n",
              "\n",
              "#sk-container-id-1 div.sk-serial {\n",
              "  display: flex;\n",
              "  flex-direction: column;\n",
              "  align-items: center;\n",
              "  background-color: var(--sklearn-color-background);\n",
              "  padding-right: 1em;\n",
              "  padding-left: 1em;\n",
              "}\n",
              "\n",
              "\n",
              "/* Toggleable style: style used for estimator/Pipeline/ColumnTransformer box that is\n",
              "clickable and can be expanded/collapsed.\n",
              "- Pipeline and ColumnTransformer use this feature and define the default style\n",
              "- Estimators will overwrite some part of the style using the `sk-estimator` class\n",
              "*/\n",
              "\n",
              "/* Pipeline and ColumnTransformer style (default) */\n",
              "\n",
              "#sk-container-id-1 div.sk-toggleable {\n",
              "  /* Default theme specific background. It is overwritten whether we have a\n",
              "  specific estimator or a Pipeline/ColumnTransformer */\n",
              "  background-color: var(--sklearn-color-background);\n",
              "}\n",
              "\n",
              "/* Toggleable label */\n",
              "#sk-container-id-1 label.sk-toggleable__label {\n",
              "  cursor: pointer;\n",
              "  display: flex;\n",
              "  width: 100%;\n",
              "  margin-bottom: 0;\n",
              "  padding: 0.5em;\n",
              "  box-sizing: border-box;\n",
              "  text-align: center;\n",
              "  align-items: start;\n",
              "  justify-content: space-between;\n",
              "  gap: 0.5em;\n",
              "}\n",
              "\n",
              "#sk-container-id-1 label.sk-toggleable__label .caption {\n",
              "  font-size: 0.6rem;\n",
              "  font-weight: lighter;\n",
              "  color: var(--sklearn-color-text-muted);\n",
              "}\n",
              "\n",
              "#sk-container-id-1 label.sk-toggleable__label-arrow:before {\n",
              "  /* Arrow on the left of the label */\n",
              "  content: \"▸\";\n",
              "  float: left;\n",
              "  margin-right: 0.25em;\n",
              "  color: var(--sklearn-color-icon);\n",
              "}\n",
              "\n",
              "#sk-container-id-1 label.sk-toggleable__label-arrow:hover:before {\n",
              "  color: var(--sklearn-color-text);\n",
              "}\n",
              "\n",
              "/* Toggleable content - dropdown */\n",
              "\n",
              "#sk-container-id-1 div.sk-toggleable__content {\n",
              "  max-height: 0;\n",
              "  max-width: 0;\n",
              "  overflow: hidden;\n",
              "  text-align: left;\n",
              "  /* unfitted */\n",
              "  background-color: var(--sklearn-color-unfitted-level-0);\n",
              "}\n",
              "\n",
              "#sk-container-id-1 div.sk-toggleable__content.fitted {\n",
              "  /* fitted */\n",
              "  background-color: var(--sklearn-color-fitted-level-0);\n",
              "}\n",
              "\n",
              "#sk-container-id-1 div.sk-toggleable__content pre {\n",
              "  margin: 0.2em;\n",
              "  border-radius: 0.25em;\n",
              "  color: var(--sklearn-color-text);\n",
              "  /* unfitted */\n",
              "  background-color: var(--sklearn-color-unfitted-level-0);\n",
              "}\n",
              "\n",
              "#sk-container-id-1 div.sk-toggleable__content.fitted pre {\n",
              "  /* unfitted */\n",
              "  background-color: var(--sklearn-color-fitted-level-0);\n",
              "}\n",
              "\n",
              "#sk-container-id-1 input.sk-toggleable__control:checked~div.sk-toggleable__content {\n",
              "  /* Expand drop-down */\n",
              "  max-height: 200px;\n",
              "  max-width: 100%;\n",
              "  overflow: auto;\n",
              "}\n",
              "\n",
              "#sk-container-id-1 input.sk-toggleable__control:checked~label.sk-toggleable__label-arrow:before {\n",
              "  content: \"▾\";\n",
              "}\n",
              "\n",
              "/* Pipeline/ColumnTransformer-specific style */\n",
              "\n",
              "#sk-container-id-1 div.sk-label input.sk-toggleable__control:checked~label.sk-toggleable__label {\n",
              "  color: var(--sklearn-color-text);\n",
              "  background-color: var(--sklearn-color-unfitted-level-2);\n",
              "}\n",
              "\n",
              "#sk-container-id-1 div.sk-label.fitted input.sk-toggleable__control:checked~label.sk-toggleable__label {\n",
              "  background-color: var(--sklearn-color-fitted-level-2);\n",
              "}\n",
              "\n",
              "/* Estimator-specific style */\n",
              "\n",
              "/* Colorize estimator box */\n",
              "#sk-container-id-1 div.sk-estimator input.sk-toggleable__control:checked~label.sk-toggleable__label {\n",
              "  /* unfitted */\n",
              "  background-color: var(--sklearn-color-unfitted-level-2);\n",
              "}\n",
              "\n",
              "#sk-container-id-1 div.sk-estimator.fitted input.sk-toggleable__control:checked~label.sk-toggleable__label {\n",
              "  /* fitted */\n",
              "  background-color: var(--sklearn-color-fitted-level-2);\n",
              "}\n",
              "\n",
              "#sk-container-id-1 div.sk-label label.sk-toggleable__label,\n",
              "#sk-container-id-1 div.sk-label label {\n",
              "  /* The background is the default theme color */\n",
              "  color: var(--sklearn-color-text-on-default-background);\n",
              "}\n",
              "\n",
              "/* On hover, darken the color of the background */\n",
              "#sk-container-id-1 div.sk-label:hover label.sk-toggleable__label {\n",
              "  color: var(--sklearn-color-text);\n",
              "  background-color: var(--sklearn-color-unfitted-level-2);\n",
              "}\n",
              "\n",
              "/* Label box, darken color on hover, fitted */\n",
              "#sk-container-id-1 div.sk-label.fitted:hover label.sk-toggleable__label.fitted {\n",
              "  color: var(--sklearn-color-text);\n",
              "  background-color: var(--sklearn-color-fitted-level-2);\n",
              "}\n",
              "\n",
              "/* Estimator label */\n",
              "\n",
              "#sk-container-id-1 div.sk-label label {\n",
              "  font-family: monospace;\n",
              "  font-weight: bold;\n",
              "  display: inline-block;\n",
              "  line-height: 1.2em;\n",
              "}\n",
              "\n",
              "#sk-container-id-1 div.sk-label-container {\n",
              "  text-align: center;\n",
              "}\n",
              "\n",
              "/* Estimator-specific */\n",
              "#sk-container-id-1 div.sk-estimator {\n",
              "  font-family: monospace;\n",
              "  border: 1px dotted var(--sklearn-color-border-box);\n",
              "  border-radius: 0.25em;\n",
              "  box-sizing: border-box;\n",
              "  margin-bottom: 0.5em;\n",
              "  /* unfitted */\n",
              "  background-color: var(--sklearn-color-unfitted-level-0);\n",
              "}\n",
              "\n",
              "#sk-container-id-1 div.sk-estimator.fitted {\n",
              "  /* fitted */\n",
              "  background-color: var(--sklearn-color-fitted-level-0);\n",
              "}\n",
              "\n",
              "/* on hover */\n",
              "#sk-container-id-1 div.sk-estimator:hover {\n",
              "  /* unfitted */\n",
              "  background-color: var(--sklearn-color-unfitted-level-2);\n",
              "}\n",
              "\n",
              "#sk-container-id-1 div.sk-estimator.fitted:hover {\n",
              "  /* fitted */\n",
              "  background-color: var(--sklearn-color-fitted-level-2);\n",
              "}\n",
              "\n",
              "/* Specification for estimator info (e.g. \"i\" and \"?\") */\n",
              "\n",
              "/* Common style for \"i\" and \"?\" */\n",
              "\n",
              ".sk-estimator-doc-link,\n",
              "a:link.sk-estimator-doc-link,\n",
              "a:visited.sk-estimator-doc-link {\n",
              "  float: right;\n",
              "  font-size: smaller;\n",
              "  line-height: 1em;\n",
              "  font-family: monospace;\n",
              "  background-color: var(--sklearn-color-background);\n",
              "  border-radius: 1em;\n",
              "  height: 1em;\n",
              "  width: 1em;\n",
              "  text-decoration: none !important;\n",
              "  margin-left: 0.5em;\n",
              "  text-align: center;\n",
              "  /* unfitted */\n",
              "  border: var(--sklearn-color-unfitted-level-1) 1pt solid;\n",
              "  color: var(--sklearn-color-unfitted-level-1);\n",
              "}\n",
              "\n",
              ".sk-estimator-doc-link.fitted,\n",
              "a:link.sk-estimator-doc-link.fitted,\n",
              "a:visited.sk-estimator-doc-link.fitted {\n",
              "  /* fitted */\n",
              "  border: var(--sklearn-color-fitted-level-1) 1pt solid;\n",
              "  color: var(--sklearn-color-fitted-level-1);\n",
              "}\n",
              "\n",
              "/* On hover */\n",
              "div.sk-estimator:hover .sk-estimator-doc-link:hover,\n",
              ".sk-estimator-doc-link:hover,\n",
              "div.sk-label-container:hover .sk-estimator-doc-link:hover,\n",
              ".sk-estimator-doc-link:hover {\n",
              "  /* unfitted */\n",
              "  background-color: var(--sklearn-color-unfitted-level-3);\n",
              "  color: var(--sklearn-color-background);\n",
              "  text-decoration: none;\n",
              "}\n",
              "\n",
              "div.sk-estimator.fitted:hover .sk-estimator-doc-link.fitted:hover,\n",
              ".sk-estimator-doc-link.fitted:hover,\n",
              "div.sk-label-container:hover .sk-estimator-doc-link.fitted:hover,\n",
              ".sk-estimator-doc-link.fitted:hover {\n",
              "  /* fitted */\n",
              "  background-color: var(--sklearn-color-fitted-level-3);\n",
              "  color: var(--sklearn-color-background);\n",
              "  text-decoration: none;\n",
              "}\n",
              "\n",
              "/* Span, style for the box shown on hovering the info icon */\n",
              ".sk-estimator-doc-link span {\n",
              "  display: none;\n",
              "  z-index: 9999;\n",
              "  position: relative;\n",
              "  font-weight: normal;\n",
              "  right: .2ex;\n",
              "  padding: .5ex;\n",
              "  margin: .5ex;\n",
              "  width: min-content;\n",
              "  min-width: 20ex;\n",
              "  max-width: 50ex;\n",
              "  color: var(--sklearn-color-text);\n",
              "  box-shadow: 2pt 2pt 4pt #999;\n",
              "  /* unfitted */\n",
              "  background: var(--sklearn-color-unfitted-level-0);\n",
              "  border: .5pt solid var(--sklearn-color-unfitted-level-3);\n",
              "}\n",
              "\n",
              ".sk-estimator-doc-link.fitted span {\n",
              "  /* fitted */\n",
              "  background: var(--sklearn-color-fitted-level-0);\n",
              "  border: var(--sklearn-color-fitted-level-3);\n",
              "}\n",
              "\n",
              ".sk-estimator-doc-link:hover span {\n",
              "  display: block;\n",
              "}\n",
              "\n",
              "/* \"?\"-specific style due to the `<a>` HTML tag */\n",
              "\n",
              "#sk-container-id-1 a.estimator_doc_link {\n",
              "  float: right;\n",
              "  font-size: 1rem;\n",
              "  line-height: 1em;\n",
              "  font-family: monospace;\n",
              "  background-color: var(--sklearn-color-background);\n",
              "  border-radius: 1rem;\n",
              "  height: 1rem;\n",
              "  width: 1rem;\n",
              "  text-decoration: none;\n",
              "  /* unfitted */\n",
              "  color: var(--sklearn-color-unfitted-level-1);\n",
              "  border: var(--sklearn-color-unfitted-level-1) 1pt solid;\n",
              "}\n",
              "\n",
              "#sk-container-id-1 a.estimator_doc_link.fitted {\n",
              "  /* fitted */\n",
              "  border: var(--sklearn-color-fitted-level-1) 1pt solid;\n",
              "  color: var(--sklearn-color-fitted-level-1);\n",
              "}\n",
              "\n",
              "/* On hover */\n",
              "#sk-container-id-1 a.estimator_doc_link:hover {\n",
              "  /* unfitted */\n",
              "  background-color: var(--sklearn-color-unfitted-level-3);\n",
              "  color: var(--sklearn-color-background);\n",
              "  text-decoration: none;\n",
              "}\n",
              "\n",
              "#sk-container-id-1 a.estimator_doc_link.fitted:hover {\n",
              "  /* fitted */\n",
              "  background-color: var(--sklearn-color-fitted-level-3);\n",
              "}\n",
              "</style><div id=\"sk-container-id-1\" class=\"sk-top-container\"><div class=\"sk-text-repr-fallback\"><pre>TfidfVectorizer()</pre><b>In a Jupyter environment, please rerun this cell to show the HTML representation or trust the notebook. <br />On GitHub, the HTML representation is unable to render, please try loading this page with nbviewer.org.</b></div><div class=\"sk-container\" hidden><div class=\"sk-item\"><div class=\"sk-estimator fitted sk-toggleable\"><input class=\"sk-toggleable__control sk-hidden--visually\" id=\"sk-estimator-id-1\" type=\"checkbox\" checked><label for=\"sk-estimator-id-1\" class=\"sk-toggleable__label fitted sk-toggleable__label-arrow\"><div><div>TfidfVectorizer</div></div><div><a class=\"sk-estimator-doc-link fitted\" rel=\"noreferrer\" target=\"_blank\" href=\"https://scikit-learn.org/1.6/modules/generated/sklearn.feature_extraction.text.TfidfVectorizer.html\">?<span>Documentation for TfidfVectorizer</span></a><span class=\"sk-estimator-doc-link fitted\">i<span>Fitted</span></span></div></label><div class=\"sk-toggleable__content fitted\"><pre>TfidfVectorizer()</pre></div> </div></div></div></div>"
            ]
          },
          "metadata": {},
          "execution_count": 26
        }
      ]
    },
    {
      "cell_type": "code",
      "source": [
        "X_pre = tfidf.transform(X).toarray()\n",
        "X_pre"
      ],
      "metadata": {
        "colab": {
          "base_uri": "https://localhost:8080/"
        },
        "id": "dD-U_SOYocHF",
        "outputId": "02c67750-10ca-4636-930c-08db6be87839"
      },
      "execution_count": 28,
      "outputs": [
        {
          "output_type": "execute_result",
          "data": {
            "text/plain": [
              "array([[0., 0., 0., ..., 0., 0., 0.],\n",
              "       [0., 0., 0., ..., 0., 0., 0.],\n",
              "       [0., 0., 0., ..., 0., 0., 0.],\n",
              "       ...,\n",
              "       [0., 0., 0., ..., 0., 0., 0.],\n",
              "       [0., 0., 0., ..., 0., 0., 0.],\n",
              "       [0., 0., 0., ..., 0., 0., 0.]])"
            ]
          },
          "metadata": {},
          "execution_count": 28
        }
      ]
    },
    {
      "cell_type": "code",
      "source": [
        "X_pre.shape"
      ],
      "metadata": {
        "colab": {
          "base_uri": "https://localhost:8080/"
        },
        "id": "fSxvf6Ufollx",
        "outputId": "f16342c9-f452-4fa6-dddc-6a9437265247"
      },
      "execution_count": 29,
      "outputs": [
        {
          "output_type": "execute_result",
          "data": {
            "text/plain": [
              "(1000, 2067)"
            ]
          },
          "metadata": {},
          "execution_count": 29
        }
      ]
    },
    {
      "cell_type": "markdown",
      "source": [
        "# Reduce the dimesnsions using SVD - Singular Value Decomposition\n",
        "\n",
        "reduce the columns from 2067 - 300"
      ],
      "metadata": {
        "id": "95hIjgkLo5f9"
      }
    },
    {
      "cell_type": "code",
      "source": [
        "from sklearn.decomposition import TruncatedSVD\n",
        "\n",
        "svd = TruncatedSVD(n_components=300)\n",
        "svd.fit(X_pre)"
      ],
      "metadata": {
        "colab": {
          "base_uri": "https://localhost:8080/",
          "height": 80
        },
        "id": "ZlL7HiZGowkh",
        "outputId": "95001d8a-8448-4700-bfcb-b25bd48ee202"
      },
      "execution_count": 30,
      "outputs": [
        {
          "output_type": "execute_result",
          "data": {
            "text/plain": [
              "TruncatedSVD(n_components=300)"
            ],
            "text/html": [
              "<style>#sk-container-id-2 {\n",
              "  /* Definition of color scheme common for light and dark mode */\n",
              "  --sklearn-color-text: #000;\n",
              "  --sklearn-color-text-muted: #666;\n",
              "  --sklearn-color-line: gray;\n",
              "  /* Definition of color scheme for unfitted estimators */\n",
              "  --sklearn-color-unfitted-level-0: #fff5e6;\n",
              "  --sklearn-color-unfitted-level-1: #f6e4d2;\n",
              "  --sklearn-color-unfitted-level-2: #ffe0b3;\n",
              "  --sklearn-color-unfitted-level-3: chocolate;\n",
              "  /* Definition of color scheme for fitted estimators */\n",
              "  --sklearn-color-fitted-level-0: #f0f8ff;\n",
              "  --sklearn-color-fitted-level-1: #d4ebff;\n",
              "  --sklearn-color-fitted-level-2: #b3dbfd;\n",
              "  --sklearn-color-fitted-level-3: cornflowerblue;\n",
              "\n",
              "  /* Specific color for light theme */\n",
              "  --sklearn-color-text-on-default-background: var(--sg-text-color, var(--theme-code-foreground, var(--jp-content-font-color1, black)));\n",
              "  --sklearn-color-background: var(--sg-background-color, var(--theme-background, var(--jp-layout-color0, white)));\n",
              "  --sklearn-color-border-box: var(--sg-text-color, var(--theme-code-foreground, var(--jp-content-font-color1, black)));\n",
              "  --sklearn-color-icon: #696969;\n",
              "\n",
              "  @media (prefers-color-scheme: dark) {\n",
              "    /* Redefinition of color scheme for dark theme */\n",
              "    --sklearn-color-text-on-default-background: var(--sg-text-color, var(--theme-code-foreground, var(--jp-content-font-color1, white)));\n",
              "    --sklearn-color-background: var(--sg-background-color, var(--theme-background, var(--jp-layout-color0, #111)));\n",
              "    --sklearn-color-border-box: var(--sg-text-color, var(--theme-code-foreground, var(--jp-content-font-color1, white)));\n",
              "    --sklearn-color-icon: #878787;\n",
              "  }\n",
              "}\n",
              "\n",
              "#sk-container-id-2 {\n",
              "  color: var(--sklearn-color-text);\n",
              "}\n",
              "\n",
              "#sk-container-id-2 pre {\n",
              "  padding: 0;\n",
              "}\n",
              "\n",
              "#sk-container-id-2 input.sk-hidden--visually {\n",
              "  border: 0;\n",
              "  clip: rect(1px 1px 1px 1px);\n",
              "  clip: rect(1px, 1px, 1px, 1px);\n",
              "  height: 1px;\n",
              "  margin: -1px;\n",
              "  overflow: hidden;\n",
              "  padding: 0;\n",
              "  position: absolute;\n",
              "  width: 1px;\n",
              "}\n",
              "\n",
              "#sk-container-id-2 div.sk-dashed-wrapped {\n",
              "  border: 1px dashed var(--sklearn-color-line);\n",
              "  margin: 0 0.4em 0.5em 0.4em;\n",
              "  box-sizing: border-box;\n",
              "  padding-bottom: 0.4em;\n",
              "  background-color: var(--sklearn-color-background);\n",
              "}\n",
              "\n",
              "#sk-container-id-2 div.sk-container {\n",
              "  /* jupyter's `normalize.less` sets `[hidden] { display: none; }`\n",
              "     but bootstrap.min.css set `[hidden] { display: none !important; }`\n",
              "     so we also need the `!important` here to be able to override the\n",
              "     default hidden behavior on the sphinx rendered scikit-learn.org.\n",
              "     See: https://github.com/scikit-learn/scikit-learn/issues/21755 */\n",
              "  display: inline-block !important;\n",
              "  position: relative;\n",
              "}\n",
              "\n",
              "#sk-container-id-2 div.sk-text-repr-fallback {\n",
              "  display: none;\n",
              "}\n",
              "\n",
              "div.sk-parallel-item,\n",
              "div.sk-serial,\n",
              "div.sk-item {\n",
              "  /* draw centered vertical line to link estimators */\n",
              "  background-image: linear-gradient(var(--sklearn-color-text-on-default-background), var(--sklearn-color-text-on-default-background));\n",
              "  background-size: 2px 100%;\n",
              "  background-repeat: no-repeat;\n",
              "  background-position: center center;\n",
              "}\n",
              "\n",
              "/* Parallel-specific style estimator block */\n",
              "\n",
              "#sk-container-id-2 div.sk-parallel-item::after {\n",
              "  content: \"\";\n",
              "  width: 100%;\n",
              "  border-bottom: 2px solid var(--sklearn-color-text-on-default-background);\n",
              "  flex-grow: 1;\n",
              "}\n",
              "\n",
              "#sk-container-id-2 div.sk-parallel {\n",
              "  display: flex;\n",
              "  align-items: stretch;\n",
              "  justify-content: center;\n",
              "  background-color: var(--sklearn-color-background);\n",
              "  position: relative;\n",
              "}\n",
              "\n",
              "#sk-container-id-2 div.sk-parallel-item {\n",
              "  display: flex;\n",
              "  flex-direction: column;\n",
              "}\n",
              "\n",
              "#sk-container-id-2 div.sk-parallel-item:first-child::after {\n",
              "  align-self: flex-end;\n",
              "  width: 50%;\n",
              "}\n",
              "\n",
              "#sk-container-id-2 div.sk-parallel-item:last-child::after {\n",
              "  align-self: flex-start;\n",
              "  width: 50%;\n",
              "}\n",
              "\n",
              "#sk-container-id-2 div.sk-parallel-item:only-child::after {\n",
              "  width: 0;\n",
              "}\n",
              "\n",
              "/* Serial-specific style estimator block */\n",
              "\n",
              "#sk-container-id-2 div.sk-serial {\n",
              "  display: flex;\n",
              "  flex-direction: column;\n",
              "  align-items: center;\n",
              "  background-color: var(--sklearn-color-background);\n",
              "  padding-right: 1em;\n",
              "  padding-left: 1em;\n",
              "}\n",
              "\n",
              "\n",
              "/* Toggleable style: style used for estimator/Pipeline/ColumnTransformer box that is\n",
              "clickable and can be expanded/collapsed.\n",
              "- Pipeline and ColumnTransformer use this feature and define the default style\n",
              "- Estimators will overwrite some part of the style using the `sk-estimator` class\n",
              "*/\n",
              "\n",
              "/* Pipeline and ColumnTransformer style (default) */\n",
              "\n",
              "#sk-container-id-2 div.sk-toggleable {\n",
              "  /* Default theme specific background. It is overwritten whether we have a\n",
              "  specific estimator or a Pipeline/ColumnTransformer */\n",
              "  background-color: var(--sklearn-color-background);\n",
              "}\n",
              "\n",
              "/* Toggleable label */\n",
              "#sk-container-id-2 label.sk-toggleable__label {\n",
              "  cursor: pointer;\n",
              "  display: flex;\n",
              "  width: 100%;\n",
              "  margin-bottom: 0;\n",
              "  padding: 0.5em;\n",
              "  box-sizing: border-box;\n",
              "  text-align: center;\n",
              "  align-items: start;\n",
              "  justify-content: space-between;\n",
              "  gap: 0.5em;\n",
              "}\n",
              "\n",
              "#sk-container-id-2 label.sk-toggleable__label .caption {\n",
              "  font-size: 0.6rem;\n",
              "  font-weight: lighter;\n",
              "  color: var(--sklearn-color-text-muted);\n",
              "}\n",
              "\n",
              "#sk-container-id-2 label.sk-toggleable__label-arrow:before {\n",
              "  /* Arrow on the left of the label */\n",
              "  content: \"▸\";\n",
              "  float: left;\n",
              "  margin-right: 0.25em;\n",
              "  color: var(--sklearn-color-icon);\n",
              "}\n",
              "\n",
              "#sk-container-id-2 label.sk-toggleable__label-arrow:hover:before {\n",
              "  color: var(--sklearn-color-text);\n",
              "}\n",
              "\n",
              "/* Toggleable content - dropdown */\n",
              "\n",
              "#sk-container-id-2 div.sk-toggleable__content {\n",
              "  max-height: 0;\n",
              "  max-width: 0;\n",
              "  overflow: hidden;\n",
              "  text-align: left;\n",
              "  /* unfitted */\n",
              "  background-color: var(--sklearn-color-unfitted-level-0);\n",
              "}\n",
              "\n",
              "#sk-container-id-2 div.sk-toggleable__content.fitted {\n",
              "  /* fitted */\n",
              "  background-color: var(--sklearn-color-fitted-level-0);\n",
              "}\n",
              "\n",
              "#sk-container-id-2 div.sk-toggleable__content pre {\n",
              "  margin: 0.2em;\n",
              "  border-radius: 0.25em;\n",
              "  color: var(--sklearn-color-text);\n",
              "  /* unfitted */\n",
              "  background-color: var(--sklearn-color-unfitted-level-0);\n",
              "}\n",
              "\n",
              "#sk-container-id-2 div.sk-toggleable__content.fitted pre {\n",
              "  /* unfitted */\n",
              "  background-color: var(--sklearn-color-fitted-level-0);\n",
              "}\n",
              "\n",
              "#sk-container-id-2 input.sk-toggleable__control:checked~div.sk-toggleable__content {\n",
              "  /* Expand drop-down */\n",
              "  max-height: 200px;\n",
              "  max-width: 100%;\n",
              "  overflow: auto;\n",
              "}\n",
              "\n",
              "#sk-container-id-2 input.sk-toggleable__control:checked~label.sk-toggleable__label-arrow:before {\n",
              "  content: \"▾\";\n",
              "}\n",
              "\n",
              "/* Pipeline/ColumnTransformer-specific style */\n",
              "\n",
              "#sk-container-id-2 div.sk-label input.sk-toggleable__control:checked~label.sk-toggleable__label {\n",
              "  color: var(--sklearn-color-text);\n",
              "  background-color: var(--sklearn-color-unfitted-level-2);\n",
              "}\n",
              "\n",
              "#sk-container-id-2 div.sk-label.fitted input.sk-toggleable__control:checked~label.sk-toggleable__label {\n",
              "  background-color: var(--sklearn-color-fitted-level-2);\n",
              "}\n",
              "\n",
              "/* Estimator-specific style */\n",
              "\n",
              "/* Colorize estimator box */\n",
              "#sk-container-id-2 div.sk-estimator input.sk-toggleable__control:checked~label.sk-toggleable__label {\n",
              "  /* unfitted */\n",
              "  background-color: var(--sklearn-color-unfitted-level-2);\n",
              "}\n",
              "\n",
              "#sk-container-id-2 div.sk-estimator.fitted input.sk-toggleable__control:checked~label.sk-toggleable__label {\n",
              "  /* fitted */\n",
              "  background-color: var(--sklearn-color-fitted-level-2);\n",
              "}\n",
              "\n",
              "#sk-container-id-2 div.sk-label label.sk-toggleable__label,\n",
              "#sk-container-id-2 div.sk-label label {\n",
              "  /* The background is the default theme color */\n",
              "  color: var(--sklearn-color-text-on-default-background);\n",
              "}\n",
              "\n",
              "/* On hover, darken the color of the background */\n",
              "#sk-container-id-2 div.sk-label:hover label.sk-toggleable__label {\n",
              "  color: var(--sklearn-color-text);\n",
              "  background-color: var(--sklearn-color-unfitted-level-2);\n",
              "}\n",
              "\n",
              "/* Label box, darken color on hover, fitted */\n",
              "#sk-container-id-2 div.sk-label.fitted:hover label.sk-toggleable__label.fitted {\n",
              "  color: var(--sklearn-color-text);\n",
              "  background-color: var(--sklearn-color-fitted-level-2);\n",
              "}\n",
              "\n",
              "/* Estimator label */\n",
              "\n",
              "#sk-container-id-2 div.sk-label label {\n",
              "  font-family: monospace;\n",
              "  font-weight: bold;\n",
              "  display: inline-block;\n",
              "  line-height: 1.2em;\n",
              "}\n",
              "\n",
              "#sk-container-id-2 div.sk-label-container {\n",
              "  text-align: center;\n",
              "}\n",
              "\n",
              "/* Estimator-specific */\n",
              "#sk-container-id-2 div.sk-estimator {\n",
              "  font-family: monospace;\n",
              "  border: 1px dotted var(--sklearn-color-border-box);\n",
              "  border-radius: 0.25em;\n",
              "  box-sizing: border-box;\n",
              "  margin-bottom: 0.5em;\n",
              "  /* unfitted */\n",
              "  background-color: var(--sklearn-color-unfitted-level-0);\n",
              "}\n",
              "\n",
              "#sk-container-id-2 div.sk-estimator.fitted {\n",
              "  /* fitted */\n",
              "  background-color: var(--sklearn-color-fitted-level-0);\n",
              "}\n",
              "\n",
              "/* on hover */\n",
              "#sk-container-id-2 div.sk-estimator:hover {\n",
              "  /* unfitted */\n",
              "  background-color: var(--sklearn-color-unfitted-level-2);\n",
              "}\n",
              "\n",
              "#sk-container-id-2 div.sk-estimator.fitted:hover {\n",
              "  /* fitted */\n",
              "  background-color: var(--sklearn-color-fitted-level-2);\n",
              "}\n",
              "\n",
              "/* Specification for estimator info (e.g. \"i\" and \"?\") */\n",
              "\n",
              "/* Common style for \"i\" and \"?\" */\n",
              "\n",
              ".sk-estimator-doc-link,\n",
              "a:link.sk-estimator-doc-link,\n",
              "a:visited.sk-estimator-doc-link {\n",
              "  float: right;\n",
              "  font-size: smaller;\n",
              "  line-height: 1em;\n",
              "  font-family: monospace;\n",
              "  background-color: var(--sklearn-color-background);\n",
              "  border-radius: 1em;\n",
              "  height: 1em;\n",
              "  width: 1em;\n",
              "  text-decoration: none !important;\n",
              "  margin-left: 0.5em;\n",
              "  text-align: center;\n",
              "  /* unfitted */\n",
              "  border: var(--sklearn-color-unfitted-level-1) 1pt solid;\n",
              "  color: var(--sklearn-color-unfitted-level-1);\n",
              "}\n",
              "\n",
              ".sk-estimator-doc-link.fitted,\n",
              "a:link.sk-estimator-doc-link.fitted,\n",
              "a:visited.sk-estimator-doc-link.fitted {\n",
              "  /* fitted */\n",
              "  border: var(--sklearn-color-fitted-level-1) 1pt solid;\n",
              "  color: var(--sklearn-color-fitted-level-1);\n",
              "}\n",
              "\n",
              "/* On hover */\n",
              "div.sk-estimator:hover .sk-estimator-doc-link:hover,\n",
              ".sk-estimator-doc-link:hover,\n",
              "div.sk-label-container:hover .sk-estimator-doc-link:hover,\n",
              ".sk-estimator-doc-link:hover {\n",
              "  /* unfitted */\n",
              "  background-color: var(--sklearn-color-unfitted-level-3);\n",
              "  color: var(--sklearn-color-background);\n",
              "  text-decoration: none;\n",
              "}\n",
              "\n",
              "div.sk-estimator.fitted:hover .sk-estimator-doc-link.fitted:hover,\n",
              ".sk-estimator-doc-link.fitted:hover,\n",
              "div.sk-label-container:hover .sk-estimator-doc-link.fitted:hover,\n",
              ".sk-estimator-doc-link.fitted:hover {\n",
              "  /* fitted */\n",
              "  background-color: var(--sklearn-color-fitted-level-3);\n",
              "  color: var(--sklearn-color-background);\n",
              "  text-decoration: none;\n",
              "}\n",
              "\n",
              "/* Span, style for the box shown on hovering the info icon */\n",
              ".sk-estimator-doc-link span {\n",
              "  display: none;\n",
              "  z-index: 9999;\n",
              "  position: relative;\n",
              "  font-weight: normal;\n",
              "  right: .2ex;\n",
              "  padding: .5ex;\n",
              "  margin: .5ex;\n",
              "  width: min-content;\n",
              "  min-width: 20ex;\n",
              "  max-width: 50ex;\n",
              "  color: var(--sklearn-color-text);\n",
              "  box-shadow: 2pt 2pt 4pt #999;\n",
              "  /* unfitted */\n",
              "  background: var(--sklearn-color-unfitted-level-0);\n",
              "  border: .5pt solid var(--sklearn-color-unfitted-level-3);\n",
              "}\n",
              "\n",
              ".sk-estimator-doc-link.fitted span {\n",
              "  /* fitted */\n",
              "  background: var(--sklearn-color-fitted-level-0);\n",
              "  border: var(--sklearn-color-fitted-level-3);\n",
              "}\n",
              "\n",
              ".sk-estimator-doc-link:hover span {\n",
              "  display: block;\n",
              "}\n",
              "\n",
              "/* \"?\"-specific style due to the `<a>` HTML tag */\n",
              "\n",
              "#sk-container-id-2 a.estimator_doc_link {\n",
              "  float: right;\n",
              "  font-size: 1rem;\n",
              "  line-height: 1em;\n",
              "  font-family: monospace;\n",
              "  background-color: var(--sklearn-color-background);\n",
              "  border-radius: 1rem;\n",
              "  height: 1rem;\n",
              "  width: 1rem;\n",
              "  text-decoration: none;\n",
              "  /* unfitted */\n",
              "  color: var(--sklearn-color-unfitted-level-1);\n",
              "  border: var(--sklearn-color-unfitted-level-1) 1pt solid;\n",
              "}\n",
              "\n",
              "#sk-container-id-2 a.estimator_doc_link.fitted {\n",
              "  /* fitted */\n",
              "  border: var(--sklearn-color-fitted-level-1) 1pt solid;\n",
              "  color: var(--sklearn-color-fitted-level-1);\n",
              "}\n",
              "\n",
              "/* On hover */\n",
              "#sk-container-id-2 a.estimator_doc_link:hover {\n",
              "  /* unfitted */\n",
              "  background-color: var(--sklearn-color-unfitted-level-3);\n",
              "  color: var(--sklearn-color-background);\n",
              "  text-decoration: none;\n",
              "}\n",
              "\n",
              "#sk-container-id-2 a.estimator_doc_link.fitted:hover {\n",
              "  /* fitted */\n",
              "  background-color: var(--sklearn-color-fitted-level-3);\n",
              "}\n",
              "</style><div id=\"sk-container-id-2\" class=\"sk-top-container\"><div class=\"sk-text-repr-fallback\"><pre>TruncatedSVD(n_components=300)</pre><b>In a Jupyter environment, please rerun this cell to show the HTML representation or trust the notebook. <br />On GitHub, the HTML representation is unable to render, please try loading this page with nbviewer.org.</b></div><div class=\"sk-container\" hidden><div class=\"sk-item\"><div class=\"sk-estimator fitted sk-toggleable\"><input class=\"sk-toggleable__control sk-hidden--visually\" id=\"sk-estimator-id-2\" type=\"checkbox\" checked><label for=\"sk-estimator-id-2\" class=\"sk-toggleable__label fitted sk-toggleable__label-arrow\"><div><div>TruncatedSVD</div></div><div><a class=\"sk-estimator-doc-link fitted\" rel=\"noreferrer\" target=\"_blank\" href=\"https://scikit-learn.org/1.6/modules/generated/sklearn.decomposition.TruncatedSVD.html\">?<span>Documentation for TruncatedSVD</span></a><span class=\"sk-estimator-doc-link fitted\">i<span>Fitted</span></span></div></label><div class=\"sk-toggleable__content fitted\"><pre>TruncatedSVD(n_components=300)</pre></div> </div></div></div></div>"
            ]
          },
          "metadata": {},
          "execution_count": 30
        }
      ]
    },
    {
      "cell_type": "code",
      "source": [
        "X_pre_red = svd.transform(X_pre)\n",
        "X_pre_red[0:5]"
      ],
      "metadata": {
        "colab": {
          "base_uri": "https://localhost:8080/"
        },
        "id": "pKsGFOwvpZOr",
        "outputId": "02642ca8-b5f9-47c9-c121-7d3c7d4936f4"
      },
      "execution_count": 31,
      "outputs": [
        {
          "output_type": "execute_result",
          "data": {
            "text/plain": [
              "array([[ 0.11457856,  0.19021732,  0.2986051 , ...,  0.03017918,\n",
              "         0.05891014, -0.05595265],\n",
              "       [ 0.20041515,  0.06219206,  0.10386266, ..., -0.02635755,\n",
              "        -0.05280836,  0.03410882],\n",
              "       [ 0.248602  , -0.05947125, -0.09197253, ..., -0.02977388,\n",
              "        -0.03375136,  0.00205069],\n",
              "       [ 0.10419317, -0.0072801 , -0.00104466, ..., -0.02255369,\n",
              "         0.00229951,  0.03712323],\n",
              "       [ 0.40883954, -0.19004254, -0.03852556, ...,  0.00196752,\n",
              "        -0.00568797, -0.00586126]])"
            ]
          },
          "metadata": {},
          "execution_count": 31
        }
      ]
    },
    {
      "cell_type": "code",
      "source": [
        "X_pre_red.shape"
      ],
      "metadata": {
        "colab": {
          "base_uri": "https://localhost:8080/"
        },
        "id": "KDVx9C-TpfCz",
        "outputId": "4c2549e1-2848-48bd-ba0d-ba302ca81b08"
      },
      "execution_count": 32,
      "outputs": [
        {
          "output_type": "execute_result",
          "data": {
            "text/plain": [
              "(1000, 300)"
            ]
          },
          "metadata": {},
          "execution_count": 32
        }
      ]
    },
    {
      "cell_type": "markdown",
      "source": [
        "# Train Test Split"
      ],
      "metadata": {
        "id": "PhM_BFidpv9b"
      }
    },
    {
      "cell_type": "code",
      "source": [
        "from sklearn.model_selection import train_test_split\n",
        "\n",
        "xtrain, xtest, ytrain, ytest = train_test_split(\n",
        "    X_pre_red, Y, test_size=0.2, random_state=42\n",
        ")"
      ],
      "metadata": {
        "id": "A5uTSWNapqkw"
      },
      "execution_count": 33,
      "outputs": []
    },
    {
      "cell_type": "code",
      "source": [
        "xtrain[0:5]"
      ],
      "metadata": {
        "colab": {
          "base_uri": "https://localhost:8080/"
        },
        "id": "9xt0Jiw4p9u7",
        "outputId": "6cded14b-b65f-4879-8200-b79a456f7fd2"
      },
      "execution_count": 34,
      "outputs": [
        {
          "output_type": "execute_result",
          "data": {
            "text/plain": [
              "array([[ 2.27149713e-01, -1.35527499e-01, -5.02005238e-02, ...,\n",
              "         4.38987030e-02, -3.26138350e-03, -1.49205872e-02],\n",
              "       [ 4.69921177e-02,  1.34223931e-02,  3.45172769e-02, ...,\n",
              "        -1.35040977e-02,  5.91060935e-02, -1.73618719e-04],\n",
              "       [ 1.97050255e-01, -1.31486142e-01, -8.87309577e-02, ...,\n",
              "        -1.57136979e-03, -2.01343307e-02, -8.02596923e-03],\n",
              "       [ 9.66588449e-02,  1.25187861e-01,  7.08779378e-02, ...,\n",
              "         1.07251046e-02,  8.03607759e-03, -1.37235462e-02],\n",
              "       [ 1.93963979e-01,  3.94463242e-04, -3.72115761e-02, ...,\n",
              "        -3.30153672e-03,  6.47641211e-03,  9.15912657e-03]])"
            ]
          },
          "metadata": {},
          "execution_count": 34
        }
      ]
    },
    {
      "cell_type": "code",
      "source": [
        "ytrain[0:5]"
      ],
      "metadata": {
        "colab": {
          "base_uri": "https://localhost:8080/",
          "height": 241
        },
        "id": "Q6MVGbsQp_Su",
        "outputId": "dc1bded1-6387-4cd4-8fe0-573d9cca62c3"
      },
      "execution_count": 35,
      "outputs": [
        {
          "output_type": "execute_result",
          "data": {
            "text/plain": [
              "29     0\n",
              "535    1\n",
              "695    0\n",
              "557    0\n",
              "836    1\n",
              "Name: Liked, dtype: int64"
            ],
            "text/html": [
              "<div>\n",
              "<style scoped>\n",
              "    .dataframe tbody tr th:only-of-type {\n",
              "        vertical-align: middle;\n",
              "    }\n",
              "\n",
              "    .dataframe tbody tr th {\n",
              "        vertical-align: top;\n",
              "    }\n",
              "\n",
              "    .dataframe thead th {\n",
              "        text-align: right;\n",
              "    }\n",
              "</style>\n",
              "<table border=\"1\" class=\"dataframe\">\n",
              "  <thead>\n",
              "    <tr style=\"text-align: right;\">\n",
              "      <th></th>\n",
              "      <th>Liked</th>\n",
              "    </tr>\n",
              "  </thead>\n",
              "  <tbody>\n",
              "    <tr>\n",
              "      <th>29</th>\n",
              "      <td>0</td>\n",
              "    </tr>\n",
              "    <tr>\n",
              "      <th>535</th>\n",
              "      <td>1</td>\n",
              "    </tr>\n",
              "    <tr>\n",
              "      <th>695</th>\n",
              "      <td>0</td>\n",
              "    </tr>\n",
              "    <tr>\n",
              "      <th>557</th>\n",
              "      <td>0</td>\n",
              "    </tr>\n",
              "    <tr>\n",
              "      <th>836</th>\n",
              "      <td>1</td>\n",
              "    </tr>\n",
              "  </tbody>\n",
              "</table>\n",
              "</div><br><label><b>dtype:</b> int64</label>"
            ]
          },
          "metadata": {},
          "execution_count": 35
        }
      ]
    },
    {
      "cell_type": "code",
      "source": [
        "xtest[0:5]"
      ],
      "metadata": {
        "colab": {
          "base_uri": "https://localhost:8080/"
        },
        "id": "Qdi3sAvRqAwi",
        "outputId": "7d881e9b-9f7e-42ef-aea7-68e3012e6b04"
      },
      "execution_count": 36,
      "outputs": [
        {
          "output_type": "execute_result",
          "data": {
            "text/plain": [
              "array([[ 0.07691892,  0.13494159, -0.0703831 , ...,  0.00608565,\n",
              "         0.02869031, -0.00252552],\n",
              "       [ 0.254266  , -0.07500539, -0.03373473, ...,  0.00645022,\n",
              "        -0.01257604, -0.00620452],\n",
              "       [ 0.26574114,  0.01069197,  0.0962324 , ...,  0.0112364 ,\n",
              "        -0.00628337,  0.0007693 ],\n",
              "       [ 0.11599709,  0.00114663,  0.01393249, ...,  0.0339704 ,\n",
              "         0.01979965,  0.07042344],\n",
              "       [ 0.05883133,  0.01151943, -0.02826491, ...,  0.01967867,\n",
              "        -0.01686715, -0.01850602]])"
            ]
          },
          "metadata": {},
          "execution_count": 36
        }
      ]
    },
    {
      "cell_type": "code",
      "source": [
        "ytest[0:5]"
      ],
      "metadata": {
        "colab": {
          "base_uri": "https://localhost:8080/",
          "height": 241
        },
        "id": "ag18OiY8qEBu",
        "outputId": "e9fde44b-fa51-4062-bdef-73be7d8babbd"
      },
      "execution_count": 37,
      "outputs": [
        {
          "output_type": "execute_result",
          "data": {
            "text/plain": [
              "521    1\n",
              "737    1\n",
              "740    1\n",
              "660    1\n",
              "411    1\n",
              "Name: Liked, dtype: int64"
            ],
            "text/html": [
              "<div>\n",
              "<style scoped>\n",
              "    .dataframe tbody tr th:only-of-type {\n",
              "        vertical-align: middle;\n",
              "    }\n",
              "\n",
              "    .dataframe tbody tr th {\n",
              "        vertical-align: top;\n",
              "    }\n",
              "\n",
              "    .dataframe thead th {\n",
              "        text-align: right;\n",
              "    }\n",
              "</style>\n",
              "<table border=\"1\" class=\"dataframe\">\n",
              "  <thead>\n",
              "    <tr style=\"text-align: right;\">\n",
              "      <th></th>\n",
              "      <th>Liked</th>\n",
              "    </tr>\n",
              "  </thead>\n",
              "  <tbody>\n",
              "    <tr>\n",
              "      <th>521</th>\n",
              "      <td>1</td>\n",
              "    </tr>\n",
              "    <tr>\n",
              "      <th>737</th>\n",
              "      <td>1</td>\n",
              "    </tr>\n",
              "    <tr>\n",
              "      <th>740</th>\n",
              "      <td>1</td>\n",
              "    </tr>\n",
              "    <tr>\n",
              "      <th>660</th>\n",
              "      <td>1</td>\n",
              "    </tr>\n",
              "    <tr>\n",
              "      <th>411</th>\n",
              "      <td>1</td>\n",
              "    </tr>\n",
              "  </tbody>\n",
              "</table>\n",
              "</div><br><label><b>dtype:</b> int64</label>"
            ]
          },
          "metadata": {},
          "execution_count": 37
        }
      ]
    },
    {
      "cell_type": "code",
      "source": [
        "df[\"Liked\"].unique()"
      ],
      "metadata": {
        "colab": {
          "base_uri": "https://localhost:8080/"
        },
        "id": "veBirs9wqFg1",
        "outputId": "d96fd5fc-81ee-47eb-f096-fbdbf684715f"
      },
      "execution_count": 38,
      "outputs": [
        {
          "output_type": "execute_result",
          "data": {
            "text/plain": [
              "array([1, 0])"
            ]
          },
          "metadata": {},
          "execution_count": 38
        }
      ]
    },
    {
      "cell_type": "markdown",
      "source": [
        "# Build the neural network\n",
        "![image.png](data:image/png;base64,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)"
      ],
      "metadata": {
        "id": "4jom9WbhqR7b"
      }
    },
    {
      "cell_type": "code",
      "source": [
        "from tensorflow.keras.models import Sequential\n",
        "from tensorflow.keras.layers import Input, Dense, Dropout\n",
        "from tensorflow.keras.regularizers import l2\n",
        "from tensorflow.keras.callbacks import EarlyStopping"
      ],
      "metadata": {
        "id": "ElyvNn7aqNO5"
      },
      "execution_count": 40,
      "outputs": []
    },
    {
      "cell_type": "code",
      "source": [
        "model = Sequential(\n",
        "    layers = [\n",
        "        Input(shape = (xtrain.shape[1],)),\n",
        "        Dense(128, activation=\"relu\", kernel_regularizer=l2(0.01)),\n",
        "        Dropout(0.2),\n",
        "        Dense(64, activation=\"relu\", kernel_regularizer=l2(0.01)),\n",
        "        Dropout(0.1),\n",
        "        Dense(1, activation=\"sigmoid\")\n",
        "    ]\n",
        ")"
      ],
      "metadata": {
        "id": "g2Zd2mh6qvFI"
      },
      "execution_count": 41,
      "outputs": []
    },
    {
      "cell_type": "code",
      "source": [
        "model.compile(loss=\"binary_crossentropy\", optimizer=\"adam\", metrics = [\"accuracy\"])"
      ],
      "metadata": {
        "id": "gm0R00VAr6jd"
      },
      "execution_count": 42,
      "outputs": []
    },
    {
      "cell_type": "code",
      "source": [
        "es = EarlyStopping(monitor=\"val_loss\", patience=10, restore_best_weights=True)"
      ],
      "metadata": {
        "id": "hpveksQEsIC3"
      },
      "execution_count": 44,
      "outputs": []
    },
    {
      "cell_type": "code",
      "source": [
        "hist = model.fit(xtrain, ytrain, validation_split=0.2, epochs=200, callbacks=[es])"
      ],
      "metadata": {
        "colab": {
          "base_uri": "https://localhost:8080/"
        },
        "id": "YZwgK7q_sP3Q",
        "outputId": "66184517-1567-41ed-9408-bb7bba38c624"
      },
      "execution_count": 45,
      "outputs": [
        {
          "output_type": "stream",
          "name": "stdout",
          "text": [
            "Epoch 1/200\n",
            "\u001b[1m20/20\u001b[0m \u001b[32m━━━━━━━━━━━━━━━━━━━━\u001b[0m\u001b[37m\u001b[0m \u001b[1m2s\u001b[0m 14ms/step - accuracy: 0.5437 - loss: 3.0607 - val_accuracy: 0.5375 - val_loss: 2.3465\n",
            "Epoch 2/200\n",
            "\u001b[1m20/20\u001b[0m \u001b[32m━━━━━━━━━━━━━━━━━━━━\u001b[0m\u001b[37m\u001b[0m \u001b[1m0s\u001b[0m 5ms/step - accuracy: 0.5761 - loss: 2.1602 - val_accuracy: 0.4812 - val_loss: 1.6916\n",
            "Epoch 3/200\n",
            "\u001b[1m20/20\u001b[0m \u001b[32m━━━━━━━━━━━━━━━━━━━━\u001b[0m\u001b[37m\u001b[0m \u001b[1m0s\u001b[0m 5ms/step - accuracy: 0.5578 - loss: 1.5728 - val_accuracy: 0.4812 - val_loss: 1.2849\n",
            "Epoch 4/200\n",
            "\u001b[1m20/20\u001b[0m \u001b[32m━━━━━━━━━━━━━━━━━━━━\u001b[0m\u001b[37m\u001b[0m \u001b[1m0s\u001b[0m 5ms/step - accuracy: 0.5515 - loss: 1.2087 - val_accuracy: 0.4938 - val_loss: 1.0393\n",
            "Epoch 5/200\n",
            "\u001b[1m20/20\u001b[0m \u001b[32m━━━━━━━━━━━━━━━━━━━━\u001b[0m\u001b[37m\u001b[0m \u001b[1m0s\u001b[0m 7ms/step - accuracy: 0.5829 - loss: 0.9857 - val_accuracy: 0.5437 - val_loss: 0.8945\n",
            "Epoch 6/200\n",
            "\u001b[1m20/20\u001b[0m \u001b[32m━━━━━━━━━━━━━━━━━━━━\u001b[0m\u001b[37m\u001b[0m \u001b[1m0s\u001b[0m 5ms/step - accuracy: 0.6779 - loss: 0.8531 - val_accuracy: 0.6687 - val_loss: 0.8065\n",
            "Epoch 7/200\n",
            "\u001b[1m20/20\u001b[0m \u001b[32m━━━━━━━━━━━━━━━━━━━━\u001b[0m\u001b[37m\u001b[0m \u001b[1m0s\u001b[0m 5ms/step - accuracy: 0.7868 - loss: 0.7715 - val_accuracy: 0.7000 - val_loss: 0.7548\n",
            "Epoch 8/200\n",
            "\u001b[1m20/20\u001b[0m \u001b[32m━━━━━━━━━━━━━━━━━━━━\u001b[0m\u001b[37m\u001b[0m \u001b[1m0s\u001b[0m 5ms/step - accuracy: 0.7849 - loss: 0.7115 - val_accuracy: 0.7500 - val_loss: 0.7202\n",
            "Epoch 9/200\n",
            "\u001b[1m20/20\u001b[0m \u001b[32m━━━━━━━━━━━━━━━━━━━━\u001b[0m\u001b[37m\u001b[0m \u001b[1m0s\u001b[0m 5ms/step - accuracy: 0.8662 - loss: 0.6607 - val_accuracy: 0.6750 - val_loss: 0.7069\n",
            "Epoch 10/200\n",
            "\u001b[1m20/20\u001b[0m \u001b[32m━━━━━━━━━━━━━━━━━━━━\u001b[0m\u001b[37m\u001b[0m \u001b[1m0s\u001b[0m 5ms/step - accuracy: 0.8193 - loss: 0.6221 - val_accuracy: 0.8000 - val_loss: 0.6683\n",
            "Epoch 11/200\n",
            "\u001b[1m20/20\u001b[0m \u001b[32m━━━━━━━━━━━━━━━━━━━━\u001b[0m\u001b[37m\u001b[0m \u001b[1m0s\u001b[0m 5ms/step - accuracy: 0.8770 - loss: 0.5752 - val_accuracy: 0.7812 - val_loss: 0.6488\n",
            "Epoch 12/200\n",
            "\u001b[1m20/20\u001b[0m \u001b[32m━━━━━━━━━━━━━━━━━━━━\u001b[0m\u001b[37m\u001b[0m \u001b[1m0s\u001b[0m 5ms/step - accuracy: 0.8987 - loss: 0.5340 - val_accuracy: 0.8000 - val_loss: 0.6463\n",
            "Epoch 13/200\n",
            "\u001b[1m20/20\u001b[0m \u001b[32m━━━━━━━━━━━━━━━━━━━━\u001b[0m\u001b[37m\u001b[0m \u001b[1m0s\u001b[0m 7ms/step - accuracy: 0.9186 - loss: 0.4978 - val_accuracy: 0.8188 - val_loss: 0.6343\n",
            "Epoch 14/200\n",
            "\u001b[1m20/20\u001b[0m \u001b[32m━━━━━━━━━━━━━━━━━━━━\u001b[0m\u001b[37m\u001b[0m \u001b[1m0s\u001b[0m 5ms/step - accuracy: 0.9192 - loss: 0.4950 - val_accuracy: 0.8125 - val_loss: 0.6300\n",
            "Epoch 15/200\n",
            "\u001b[1m20/20\u001b[0m \u001b[32m━━━━━━━━━━━━━━━━━━━━\u001b[0m\u001b[37m\u001b[0m \u001b[1m0s\u001b[0m 5ms/step - accuracy: 0.9421 - loss: 0.4863 - val_accuracy: 0.8125 - val_loss: 0.6237\n",
            "Epoch 16/200\n",
            "\u001b[1m20/20\u001b[0m \u001b[32m━━━━━━━━━━━━━━━━━━━━\u001b[0m\u001b[37m\u001b[0m \u001b[1m0s\u001b[0m 5ms/step - accuracy: 0.9398 - loss: 0.4837 - val_accuracy: 0.8188 - val_loss: 0.6201\n",
            "Epoch 17/200\n",
            "\u001b[1m20/20\u001b[0m \u001b[32m━━━━━━━━━━━━━━━━━━━━\u001b[0m\u001b[37m\u001b[0m \u001b[1m0s\u001b[0m 5ms/step - accuracy: 0.9369 - loss: 0.4812 - val_accuracy: 0.8125 - val_loss: 0.6159\n",
            "Epoch 18/200\n",
            "\u001b[1m20/20\u001b[0m \u001b[32m━━━━━━━━━━━━━━━━━━━━\u001b[0m\u001b[37m\u001b[0m \u001b[1m0s\u001b[0m 5ms/step - accuracy: 0.9337 - loss: 0.4527 - val_accuracy: 0.8125 - val_loss: 0.6082\n",
            "Epoch 19/200\n",
            "\u001b[1m20/20\u001b[0m \u001b[32m━━━━━━━━━━━━━━━━━━━━\u001b[0m\u001b[37m\u001b[0m \u001b[1m0s\u001b[0m 5ms/step - accuracy: 0.9171 - loss: 0.4505 - val_accuracy: 0.8125 - val_loss: 0.6043\n",
            "Epoch 20/200\n",
            "\u001b[1m20/20\u001b[0m \u001b[32m━━━━━━━━━━━━━━━━━━━━\u001b[0m\u001b[37m\u001b[0m \u001b[1m0s\u001b[0m 5ms/step - accuracy: 0.9343 - loss: 0.4494 - val_accuracy: 0.8313 - val_loss: 0.6096\n",
            "Epoch 21/200\n",
            "\u001b[1m20/20\u001b[0m \u001b[32m━━━━━━━━━━━━━━━━━━━━\u001b[0m\u001b[37m\u001b[0m \u001b[1m0s\u001b[0m 7ms/step - accuracy: 0.9324 - loss: 0.4460 - val_accuracy: 0.8188 - val_loss: 0.6281\n",
            "Epoch 22/200\n",
            "\u001b[1m20/20\u001b[0m \u001b[32m━━━━━━━━━━━━━━━━━━━━\u001b[0m\u001b[37m\u001b[0m \u001b[1m0s\u001b[0m 5ms/step - accuracy: 0.9434 - loss: 0.4383 - val_accuracy: 0.8375 - val_loss: 0.6006\n",
            "Epoch 23/200\n",
            "\u001b[1m20/20\u001b[0m \u001b[32m━━━━━━━━━━━━━━━━━━━━\u001b[0m\u001b[37m\u001b[0m \u001b[1m0s\u001b[0m 5ms/step - accuracy: 0.9507 - loss: 0.4330 - val_accuracy: 0.8250 - val_loss: 0.5899\n",
            "Epoch 24/200\n",
            "\u001b[1m20/20\u001b[0m \u001b[32m━━━━━━━━━━━━━━━━━━━━\u001b[0m\u001b[37m\u001b[0m \u001b[1m0s\u001b[0m 5ms/step - accuracy: 0.9457 - loss: 0.4291 - val_accuracy: 0.8313 - val_loss: 0.6001\n",
            "Epoch 25/200\n",
            "\u001b[1m20/20\u001b[0m \u001b[32m━━━━━━━━━━━━━━━━━━━━\u001b[0m\u001b[37m\u001b[0m \u001b[1m0s\u001b[0m 5ms/step - accuracy: 0.9502 - loss: 0.4186 - val_accuracy: 0.8313 - val_loss: 0.5864\n",
            "Epoch 26/200\n",
            "\u001b[1m20/20\u001b[0m \u001b[32m━━━━━━━━━━━━━━━━━━━━\u001b[0m\u001b[37m\u001b[0m \u001b[1m0s\u001b[0m 5ms/step - accuracy: 0.9308 - loss: 0.4128 - val_accuracy: 0.8313 - val_loss: 0.5816\n",
            "Epoch 27/200\n",
            "\u001b[1m20/20\u001b[0m \u001b[32m━━━━━━━━━━━━━━━━━━━━\u001b[0m\u001b[37m\u001b[0m \u001b[1m0s\u001b[0m 5ms/step - accuracy: 0.9523 - loss: 0.4057 - val_accuracy: 0.8313 - val_loss: 0.5879\n",
            "Epoch 28/200\n",
            "\u001b[1m20/20\u001b[0m \u001b[32m━━━━━━━━━━━━━━━━━━━━\u001b[0m\u001b[37m\u001b[0m \u001b[1m0s\u001b[0m 5ms/step - accuracy: 0.9488 - loss: 0.4073 - val_accuracy: 0.8313 - val_loss: 0.5844\n",
            "Epoch 29/200\n",
            "\u001b[1m20/20\u001b[0m \u001b[32m━━━━━━━━━━━━━━━━━━━━\u001b[0m\u001b[37m\u001b[0m \u001b[1m0s\u001b[0m 5ms/step - accuracy: 0.9424 - loss: 0.4181 - val_accuracy: 0.8313 - val_loss: 0.5869\n",
            "Epoch 30/200\n",
            "\u001b[1m20/20\u001b[0m \u001b[32m━━━━━━━━━━━━━━━━━━━━\u001b[0m\u001b[37m\u001b[0m \u001b[1m0s\u001b[0m 5ms/step - accuracy: 0.9605 - loss: 0.3932 - val_accuracy: 0.8188 - val_loss: 0.5827\n",
            "Epoch 31/200\n",
            "\u001b[1m20/20\u001b[0m \u001b[32m━━━━━━━━━━━━━━━━━━━━\u001b[0m\u001b[37m\u001b[0m \u001b[1m0s\u001b[0m 5ms/step - accuracy: 0.9529 - loss: 0.3938 - val_accuracy: 0.8438 - val_loss: 0.5885\n",
            "Epoch 32/200\n",
            "\u001b[1m20/20\u001b[0m \u001b[32m━━━━━━━━━━━━━━━━━━━━\u001b[0m\u001b[37m\u001b[0m \u001b[1m0s\u001b[0m 5ms/step - accuracy: 0.9449 - loss: 0.4037 - val_accuracy: 0.8250 - val_loss: 0.5815\n",
            "Epoch 33/200\n",
            "\u001b[1m20/20\u001b[0m \u001b[32m━━━━━━━━━━━━━━━━━━━━\u001b[0m\u001b[37m\u001b[0m \u001b[1m0s\u001b[0m 5ms/step - accuracy: 0.9460 - loss: 0.3900 - val_accuracy: 0.8250 - val_loss: 0.5850\n",
            "Epoch 34/200\n",
            "\u001b[1m20/20\u001b[0m \u001b[32m━━━━━━━━━━━━━━━━━━━━\u001b[0m\u001b[37m\u001b[0m \u001b[1m0s\u001b[0m 5ms/step - accuracy: 0.9320 - loss: 0.4004 - val_accuracy: 0.8188 - val_loss: 0.5732\n",
            "Epoch 35/200\n",
            "\u001b[1m20/20\u001b[0m \u001b[32m━━━━━━━━━━━━━━━━━━━━\u001b[0m\u001b[37m\u001b[0m \u001b[1m0s\u001b[0m 5ms/step - accuracy: 0.9369 - loss: 0.3861 - val_accuracy: 0.8125 - val_loss: 0.5734\n",
            "Epoch 36/200\n",
            "\u001b[1m20/20\u001b[0m \u001b[32m━━━━━━━━━━━━━━━━━━━━\u001b[0m\u001b[37m\u001b[0m \u001b[1m0s\u001b[0m 5ms/step - accuracy: 0.9444 - loss: 0.3895 - val_accuracy: 0.8188 - val_loss: 0.5719\n",
            "Epoch 37/200\n",
            "\u001b[1m20/20\u001b[0m \u001b[32m━━━━━━━━━━━━━━━━━━━━\u001b[0m\u001b[37m\u001b[0m \u001b[1m0s\u001b[0m 5ms/step - accuracy: 0.9645 - loss: 0.3584 - val_accuracy: 0.8125 - val_loss: 0.5731\n",
            "Epoch 38/200\n",
            "\u001b[1m20/20\u001b[0m \u001b[32m━━━━━━━━━━━━━━━━━━━━\u001b[0m\u001b[37m\u001b[0m \u001b[1m0s\u001b[0m 6ms/step - accuracy: 0.9621 - loss: 0.3735 - val_accuracy: 0.8313 - val_loss: 0.5787\n",
            "Epoch 39/200\n",
            "\u001b[1m20/20\u001b[0m \u001b[32m━━━━━━━━━━━━━━━━━━━━\u001b[0m\u001b[37m\u001b[0m \u001b[1m0s\u001b[0m 5ms/step - accuracy: 0.9444 - loss: 0.3791 - val_accuracy: 0.8250 - val_loss: 0.5706\n",
            "Epoch 40/200\n",
            "\u001b[1m20/20\u001b[0m \u001b[32m━━━━━━━━━━━━━━━━━━━━\u001b[0m\u001b[37m\u001b[0m \u001b[1m0s\u001b[0m 5ms/step - accuracy: 0.9734 - loss: 0.3527 - val_accuracy: 0.8188 - val_loss: 0.5675\n",
            "Epoch 41/200\n",
            "\u001b[1m20/20\u001b[0m \u001b[32m━━━━━━━━━━━━━━━━━━━━\u001b[0m\u001b[37m\u001b[0m \u001b[1m0s\u001b[0m 5ms/step - accuracy: 0.9620 - loss: 0.3665 - val_accuracy: 0.8375 - val_loss: 0.5783\n",
            "Epoch 42/200\n",
            "\u001b[1m20/20\u001b[0m \u001b[32m━━━━━━━━━━━━━━━━━━━━\u001b[0m\u001b[37m\u001b[0m \u001b[1m0s\u001b[0m 5ms/step - accuracy: 0.9559 - loss: 0.3617 - val_accuracy: 0.8188 - val_loss: 0.5625\n",
            "Epoch 43/200\n",
            "\u001b[1m20/20\u001b[0m \u001b[32m━━━━━━━━━━━━━━━━━━━━\u001b[0m\u001b[37m\u001b[0m \u001b[1m0s\u001b[0m 5ms/step - accuracy: 0.9607 - loss: 0.3599 - val_accuracy: 0.8188 - val_loss: 0.5663\n",
            "Epoch 44/200\n",
            "\u001b[1m20/20\u001b[0m \u001b[32m━━━━━━━━━━━━━━━━━━━━\u001b[0m\u001b[37m\u001b[0m \u001b[1m0s\u001b[0m 5ms/step - accuracy: 0.9601 - loss: 0.3634 - val_accuracy: 0.8313 - val_loss: 0.5690\n",
            "Epoch 45/200\n",
            "\u001b[1m20/20\u001b[0m \u001b[32m━━━━━━━━━━━━━━━━━━━━\u001b[0m\u001b[37m\u001b[0m \u001b[1m0s\u001b[0m 5ms/step - accuracy: 0.9643 - loss: 0.3547 - val_accuracy: 0.8188 - val_loss: 0.5778\n",
            "Epoch 46/200\n",
            "\u001b[1m20/20\u001b[0m \u001b[32m━━━━━━━━━━━━━━━━━━━━\u001b[0m\u001b[37m\u001b[0m \u001b[1m0s\u001b[0m 6ms/step - accuracy: 0.9622 - loss: 0.3556 - val_accuracy: 0.8250 - val_loss: 0.5705\n",
            "Epoch 47/200\n",
            "\u001b[1m20/20\u001b[0m \u001b[32m━━━━━━━━━━━━━━━━━━━━\u001b[0m\u001b[37m\u001b[0m \u001b[1m0s\u001b[0m 5ms/step - accuracy: 0.9619 - loss: 0.3614 - val_accuracy: 0.8188 - val_loss: 0.5693\n",
            "Epoch 48/200\n",
            "\u001b[1m20/20\u001b[0m \u001b[32m━━━━━━━━━━━━━━━━━━━━\u001b[0m\u001b[37m\u001b[0m \u001b[1m0s\u001b[0m 5ms/step - accuracy: 0.9653 - loss: 0.3499 - val_accuracy: 0.8188 - val_loss: 0.5704\n",
            "Epoch 49/200\n",
            "\u001b[1m20/20\u001b[0m \u001b[32m━━━━━━━━━━━━━━━━━━━━\u001b[0m\u001b[37m\u001b[0m \u001b[1m0s\u001b[0m 5ms/step - accuracy: 0.9708 - loss: 0.3429 - val_accuracy: 0.8188 - val_loss: 0.5644\n",
            "Epoch 50/200\n",
            "\u001b[1m20/20\u001b[0m \u001b[32m━━━━━━━━━━━━━━━━━━━━\u001b[0m\u001b[37m\u001b[0m \u001b[1m0s\u001b[0m 5ms/step - accuracy: 0.9744 - loss: 0.3499 - val_accuracy: 0.8125 - val_loss: 0.5713\n",
            "Epoch 51/200\n",
            "\u001b[1m20/20\u001b[0m \u001b[32m━━━━━━━━━━━━━━━━━━━━\u001b[0m\u001b[37m\u001b[0m \u001b[1m0s\u001b[0m 5ms/step - accuracy: 0.9638 - loss: 0.3327 - val_accuracy: 0.8250 - val_loss: 0.5949\n",
            "Epoch 52/200\n",
            "\u001b[1m20/20\u001b[0m \u001b[32m━━━━━━━━━━━━━━━━━━━━\u001b[0m\u001b[37m\u001b[0m \u001b[1m0s\u001b[0m 5ms/step - accuracy: 0.9617 - loss: 0.3509 - val_accuracy: 0.8250 - val_loss: 0.5667\n"
          ]
        }
      ]
    },
    {
      "cell_type": "markdown",
      "source": [
        "# Plot the learning curve"
      ],
      "metadata": {
        "id": "nTG8zqExsj7v"
      }
    },
    {
      "cell_type": "code",
      "source": [
        "import matplotlib.pyplot as plt\n",
        "plt.figure(figsize=(12, 4))\n",
        "plt.plot(hist.history[\"loss\"], label=\"Train Loss\")\n",
        "plt.plot(hist.history[\"val_loss\"], label=\"Validation Loss\")\n",
        "plt.legend()\n",
        "plt.xlabel(\"Epochs\")\n",
        "plt.ylabel(\"Validation Loss\")\n",
        "plt.title(\"Learning Curve\")\n",
        "plt.show()"
      ],
      "metadata": {
        "colab": {
          "base_uri": "https://localhost:8080/",
          "height": 410
        },
        "id": "rhEBoGgesbDS",
        "outputId": "1cad6ad2-b961-49bb-ffd7-647876c7d65e"
      },
      "execution_count": 46,
      "outputs": [
        {
          "output_type": "display_data",
          "data": {
            "text/plain": [
              "<Figure size 1200x400 with 1 Axes>"
            ],
            "image/png": "[encoded data removed]"
          },
          "metadata": {}
        }
      ]
    },
    {
      "cell_type": "markdown",
      "source": [
        "# Model evaluation"
      ],
      "metadata": {
        "id": "JD0y-5JstF6a"
      }
    },
    {
      "cell_type": "code",
      "source": [
        "yprob_test = model.predict(xtest)\n",
        "yprob_test[0:5]"
      ],
      "metadata": {
        "colab": {
          "base_uri": "https://localhost:8080/"
        },
        "id": "78Q1j7qMs-8l",
        "outputId": "0600a7bf-66a3-41d3-a2e1-05e9b61169f9"
      },
      "execution_count": 47,
      "outputs": [
        {
          "output_type": "stream",
          "name": "stdout",
          "text": [
            "\u001b[1m7/7\u001b[0m \u001b[32m━━━━━━━━━━━━━━━━━━━━\u001b[0m\u001b[37m\u001b[0m \u001b[1m0s\u001b[0m 33ms/step\n"
          ]
        },
        {
          "output_type": "execute_result",
          "data": {
            "text/plain": [
              "array([[0.54671365],\n",
              "       [0.96661085],\n",
              "       [0.97085834],\n",
              "       [0.9674992 ],\n",
              "       [0.467412  ]], dtype=float32)"
            ]
          },
          "metadata": {},
          "execution_count": 47
        }
      ]
    },
    {
      "cell_type": "code",
      "source": [
        "ypred_test = [1 if prob >= 0.5 else 0 for prob in yprob_test]\n",
        "ypred_test[0:5]"
      ],
      "metadata": {
        "colab": {
          "base_uri": "https://localhost:8080/"
        },
        "id": "ZoS7Gat2tRKr",
        "outputId": "94261875-1d73-46c5-9a01-1cc2b03fb71e"
      },
      "execution_count": 48,
      "outputs": [
        {
          "output_type": "execute_result",
          "data": {
            "text/plain": [
              "[1, 1, 1, 1, 0]"
            ]
          },
          "metadata": {},
          "execution_count": 48
        }
      ]
    },
    {
      "cell_type": "code",
      "source": [
        "ytest.head()"
      ],
      "metadata": {
        "colab": {
          "base_uri": "https://localhost:8080/",
          "height": 241
        },
        "id": "ILFo-0Totbut",
        "outputId": "d2bc31a2-781a-4955-8540-5dbd84e1b36d"
      },
      "execution_count": 49,
      "outputs": [
        {
          "output_type": "execute_result",
          "data": {
            "text/plain": [
              "521    1\n",
              "737    1\n",
              "740    1\n",
              "660    1\n",
              "411    1\n",
              "Name: Liked, dtype: int64"
            ],
            "text/html": [
              "<div>\n",
              "<style scoped>\n",
              "    .dataframe tbody tr th:only-of-type {\n",
              "        vertical-align: middle;\n",
              "    }\n",
              "\n",
              "    .dataframe tbody tr th {\n",
              "        vertical-align: top;\n",
              "    }\n",
              "\n",
              "    .dataframe thead th {\n",
              "        text-align: right;\n",
              "    }\n",
              "</style>\n",
              "<table border=\"1\" class=\"dataframe\">\n",
              "  <thead>\n",
              "    <tr style=\"text-align: right;\">\n",
              "      <th></th>\n",
              "      <th>Liked</th>\n",
              "    </tr>\n",
              "  </thead>\n",
              "  <tbody>\n",
              "    <tr>\n",
              "      <th>521</th>\n",
              "      <td>1</td>\n",
              "    </tr>\n",
              "    <tr>\n",
              "      <th>737</th>\n",
              "      <td>1</td>\n",
              "    </tr>\n",
              "    <tr>\n",
              "      <th>740</th>\n",
              "      <td>1</td>\n",
              "    </tr>\n",
              "    <tr>\n",
              "      <th>660</th>\n",
              "      <td>1</td>\n",
              "    </tr>\n",
              "    <tr>\n",
              "      <th>411</th>\n",
              "      <td>1</td>\n",
              "    </tr>\n",
              "  </tbody>\n",
              "</table>\n",
              "</div><br><label><b>dtype:</b> int64</label>"
            ]
          },
          "metadata": {},
          "execution_count": 49
        }
      ]
    },
    {
      "cell_type": "code",
      "source": [
        "from sklearn.metrics import ConfusionMatrixDisplay\n",
        "\n",
        "ConfusionMatrixDisplay.from_predictions(ytest, ypred_test)"
      ],
      "metadata": {
        "colab": {
          "base_uri": "https://localhost:8080/",
          "height": 467
        },
        "id": "Ehn5NWL_tdLf",
        "outputId": "4dea526d-8df7-431a-879e-409fec997ae0"
      },
      "execution_count": 50,
      "outputs": [
        {
          "output_type": "execute_result",
          "data": {
            "text/plain": [
              "<sklearn.metrics._plot.confusion_matrix.ConfusionMatrixDisplay at 0x7a7a46949040>"
            ]
          },
          "metadata": {},
          "execution_count": 50
        },
        {
          "output_type": "display_data",
          "data": {
            "text/plain": [
              "<Figure size 640x480 with 2 Axes>"
            ],
            "image/png": "[encoded data removed]"
          },
          "metadata": {}
        }
      ]
    },
    {
      "cell_type": "code",
      "source": [
        "from sklearn.metrics import classification_report\n",
        "\n",
        "print(classification_report(ytest, ypred_test))"
      ],
      "metadata": {
        "colab": {
          "base_uri": "https://localhost:8080/"
        },
        "id": "MYtNNYb7t9fS",
        "outputId": "c2577cdf-26ca-4410-b69a-0b29d627ad69"
      },
      "execution_count": 51,
      "outputs": [
        {
          "output_type": "stream",
          "name": "stdout",
          "text": [
            "              precision    recall  f1-score   support\n",
            "\n",
            "           0       0.75      0.86      0.80        96\n",
            "           1       0.85      0.73      0.79       104\n",
            "\n",
            "    accuracy                           0.80       200\n",
            "   macro avg       0.80      0.80      0.79       200\n",
            "weighted avg       0.80      0.80      0.79       200\n",
            "\n"
          ]
        }
      ]
    },
    {
      "cell_type": "code",
      "source": [
        "from sklearn.metrics import RocCurveDisplay\n",
        "\n",
        "RocCurveDisplay.from_predictions(ytest, yprob_test)"
      ],
      "metadata": {
        "colab": {
          "base_uri": "https://localhost:8080/",
          "height": 469
        },
        "id": "0VMa2ykuuOgZ",
        "outputId": "d69b8b63-d15a-4d64-8d9c-948a5a8d445f"
      },
      "execution_count": 52,
      "outputs": [
        {
          "output_type": "execute_result",
          "data": {
            "text/plain": [
              "<sklearn.metrics._plot.roc_curve.RocCurveDisplay at 0x7a7a2fe63e30>"
            ]
          },
          "metadata": {},
          "execution_count": 52
        },
        {
          "output_type": "display_data",
          "data": {
            "text/plain": [
              "<Figure size 640x480 with 1 Axes>"
            ],
            "image/png": "[encoded data removed]"
          },
          "metadata": {}
        }
      ]
    },
    {
      "cell_type": "markdown",
      "source": [
        "# Predictions on out of sample data"
      ],
      "metadata": {
        "id": "vOlk4Bk1ujlL"
      }
    },
    {
      "cell_type": "code",
      "source": [
        "def predict_sentiment(text: str) -> tuple:\n",
        "  pre1 = clean_text(text)\n",
        "  print(f\"Clean text : {pre1}\")\n",
        "  pre2 = tfidf.transform([pre1]).toarray()\n",
        "  pre3 = svd.transform(pre2)\n",
        "  prob = model.predict(pre3)\n",
        "  pred = 1 if prob >= 0.5 else 0\n",
        "  return pred, prob"
      ],
      "metadata": {
        "id": "1soyd3-luX4b"
      },
      "execution_count": 61,
      "outputs": []
    },
    {
      "cell_type": "code",
      "source": [
        "text = \"Amazing! Restuarunt Really liked the taste ... \"\n",
        "pred1, prob1 = predict_sentiment(text)\n",
        "print(f\"Prediction : {pred1}\")\n",
        "print(f\"Probability : {prob1}\")"
      ],
      "metadata": {
        "colab": {
          "base_uri": "https://localhost:8080/"
        },
        "id": "MbMO-vFAvWQ5",
        "outputId": "c35c9c23-7f23-49a7-f84f-df2c668dc592"
      },
      "execution_count": 65,
      "outputs": [
        {
          "output_type": "stream",
          "name": "stdout",
          "text": [
            "Clean text : amazing restuarunt really liked the taste\n",
            "\u001b[1m1/1\u001b[0m \u001b[32m━━━━━━━━━━━━━━━━━━━━\u001b[0m\u001b[37m\u001b[0m \u001b[1m0s\u001b[0m 43ms/step\n",
            "Prediction : 1\n",
            "Probability : [[0.829943]]\n"
          ]
        }
      ]
    },
    {
      "cell_type": "code",
      "source": [
        "text = \"Really Bad service and it was too slow! ...\"\n",
        "pred2, prob2 = predict_sentiment(text)\n",
        "print(f\"Prediction : {pred2}\")\n",
        "print(f\"Probability : {prob2}\")"
      ],
      "metadata": {
        "colab": {
          "base_uri": "https://localhost:8080/"
        },
        "id": "tAhlElJ-vauP",
        "outputId": "d08f3846-8f50-4500-d875-292f66243f1b"
      },
      "execution_count": 66,
      "outputs": [
        {
          "output_type": "stream",
          "name": "stdout",
          "text": [
            "Clean text : really bad service and it was too slow\n",
            "\u001b[1m1/1\u001b[0m \u001b[32m━━━━━━━━━━━━━━━━━━━━\u001b[0m\u001b[37m\u001b[0m \u001b[1m0s\u001b[0m 72ms/step\n",
            "Prediction : 0\n",
            "Probability : [[0.0137953]]\n"
          ]
        }
      ]
    },
    {
      "cell_type": "code",
      "source": [
        "text = \"I really liked the book and the story was amazing ...\"\n",
        "pred3, prob3 = predict_sentiment(text)\n",
        "print(f\"Prediction : {pred3}\")\n",
        "print(f\"Probability : {prob3}\")"
      ],
      "metadata": {
        "colab": {
          "base_uri": "https://localhost:8080/"
        },
        "id": "dekCWogdwwGr",
        "outputId": "fcc9bc63-0330-48b4-ac94-a6ca533f1921"
      },
      "execution_count": 67,
      "outputs": [
        {
          "output_type": "stream",
          "name": "stdout",
          "text": [
            "Clean text : i really liked the book and the story was amazing\n",
            "\u001b[1m1/1\u001b[0m \u001b[32m━━━━━━━━━━━━━━━━━━━━\u001b[0m\u001b[37m\u001b[0m \u001b[1m0s\u001b[0m 64ms/step\n",
            "Prediction : 1\n",
            "Probability : [[0.95552117]]\n"
          ]
        }
      ]
    },
    {
      "cell_type": "code",
      "source": [
        "text = \"I did not like this book, it was really bad!...\"\n",
        "pred4, prob4 = predict_sentiment(text)\n",
        "print(f\"Prediction : {pred4}\")\n",
        "print(f\"Probability : {prob4}\")"
      ],
      "metadata": {
        "colab": {
          "base_uri": "https://localhost:8080/"
        },
        "id": "EVF3i_Y_xAHD",
        "outputId": "bcea98e4-f1af-49c2-9e2b-7b81a6f71230"
      },
      "execution_count": 68,
      "outputs": [
        {
          "output_type": "stream",
          "name": "stdout",
          "text": [
            "Clean text : i did not like this book it was really bad\n",
            "\u001b[1m1/1\u001b[0m \u001b[32m━━━━━━━━━━━━━━━━━━━━\u001b[0m\u001b[37m\u001b[0m \u001b[1m0s\u001b[0m 54ms/step\n",
            "Prediction : 0\n",
            "Probability : [[0.01154233]]\n"
          ]
        }
      ]
    },
    {
      "cell_type": "code",
      "source": [
        "text = \"The ambience was good, but taste was bad!\"\n",
        "pred5, prob5 = predict_sentiment(text)\n",
        "print(f\"Prediction : {pred5}\")\n",
        "print(f\"Probability : {prob5}\")"
      ],
      "metadata": {
        "colab": {
          "base_uri": "https://localhost:8080/"
        },
        "id": "NuNGXZJnxxda",
        "outputId": "28a7665e-2bb2-4feb-c626-44d4201d447e"
      },
      "execution_count": 69,
      "outputs": [
        {
          "output_type": "stream",
          "name": "stdout",
          "text": [
            "Clean text : the ambience was good but taste was bad\n",
            "\u001b[1m1/1\u001b[0m \u001b[32m━━━━━━━━━━━━━━━━━━━━\u001b[0m\u001b[37m\u001b[0m \u001b[1m0s\u001b[0m 48ms/step\n",
            "Prediction : 0\n",
            "Probability : [[0.25290152]]\n"
          ]
        }
      ]
    },
    {
      "cell_type": "code",
      "source": [],
      "metadata": {
        "id": "okR-qrVsyBbz"
      },
      "execution_count": null,
      "outputs": []
    }
  ]
}