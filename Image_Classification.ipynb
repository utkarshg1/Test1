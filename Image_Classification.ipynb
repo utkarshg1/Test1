{
  "nbformat": 4,
  "nbformat_minor": 0,
  "metadata": {
    "colab": {
      "provenance": [],
      "gpuType": "T4",
      "authorship_tag": "ABX9TyOQdQUAqBBSnuMgsUjPp/0U",
      "include_colab_link": true
    },
    "kernelspec": {
      "name": "python3",
      "display_name": "Python 3"
    },
    "language_info": {
      "name": "python"
    },
    "accelerator": "GPU"
  },
  "cells": [
    {
      "cell_type": "markdown",
      "metadata": {
        "id": "view-in-github",
        "colab_type": "text"
      },
      "source": [
        "<a href=\"https://colab.research.google.com/github/utkarshg1/Test1/blob/main/Image_Classification.ipynb\" target=\"_parent\"><img src=\"https://colab.research.google.com/assets/colab-badge.svg\" alt=\"Open In Colab\"/></a>"
      ]
    },
    {
      "cell_type": "markdown",
      "source": [
        "# Image classification with CNN (Convolutional Neural Network)"
      ],
      "metadata": {
        "id": "kMqryHx8FADK"
      }
    },
    {
      "cell_type": "code",
      "execution_count": 1,
      "metadata": {
        "id": "VCPoJMT9E7PM"
      },
      "outputs": [],
      "source": [
        "from warnings import filterwarnings\n",
        "filterwarnings(\"ignore\")"
      ]
    },
    {
      "cell_type": "markdown",
      "source": [
        "## Step 1 - Load Image dataset from Keras"
      ],
      "metadata": {
        "id": "X7AKV4LwFjJy"
      }
    },
    {
      "cell_type": "code",
      "source": [
        "from keras.datasets import mnist\n",
        "(xtrain, ytrain), (xtest, ytest) = mnist.load_data()"
      ],
      "metadata": {
        "id": "LKBHbx_nFUsp"
      },
      "execution_count": 2,
      "outputs": []
    },
    {
      "cell_type": "code",
      "source": [
        "xtrain"
      ],
      "metadata": {
        "colab": {
          "base_uri": "https://localhost:8080/"
        },
        "id": "uXkV_qENGRKi",
        "outputId": "f5fd8cbd-5ab3-45c8-e5cb-a7c844e688f6"
      },
      "execution_count": 3,
      "outputs": [
        {
          "output_type": "execute_result",
          "data": {
            "text/plain": [
              "array([[[0, 0, 0, ..., 0, 0, 0],\n",
              "        [0, 0, 0, ..., 0, 0, 0],\n",
              "        [0, 0, 0, ..., 0, 0, 0],\n",
              "        ...,\n",
              "        [0, 0, 0, ..., 0, 0, 0],\n",
              "        [0, 0, 0, ..., 0, 0, 0],\n",
              "        [0, 0, 0, ..., 0, 0, 0]],\n",
              "\n",
              "       [[0, 0, 0, ..., 0, 0, 0],\n",
              "        [0, 0, 0, ..., 0, 0, 0],\n",
              "        [0, 0, 0, ..., 0, 0, 0],\n",
              "        ...,\n",
              "        [0, 0, 0, ..., 0, 0, 0],\n",
              "        [0, 0, 0, ..., 0, 0, 0],\n",
              "        [0, 0, 0, ..., 0, 0, 0]],\n",
              "\n",
              "       [[0, 0, 0, ..., 0, 0, 0],\n",
              "        [0, 0, 0, ..., 0, 0, 0],\n",
              "        [0, 0, 0, ..., 0, 0, 0],\n",
              "        ...,\n",
              "        [0, 0, 0, ..., 0, 0, 0],\n",
              "        [0, 0, 0, ..., 0, 0, 0],\n",
              "        [0, 0, 0, ..., 0, 0, 0]],\n",
              "\n",
              "       ...,\n",
              "\n",
              "       [[0, 0, 0, ..., 0, 0, 0],\n",
              "        [0, 0, 0, ..., 0, 0, 0],\n",
              "        [0, 0, 0, ..., 0, 0, 0],\n",
              "        ...,\n",
              "        [0, 0, 0, ..., 0, 0, 0],\n",
              "        [0, 0, 0, ..., 0, 0, 0],\n",
              "        [0, 0, 0, ..., 0, 0, 0]],\n",
              "\n",
              "       [[0, 0, 0, ..., 0, 0, 0],\n",
              "        [0, 0, 0, ..., 0, 0, 0],\n",
              "        [0, 0, 0, ..., 0, 0, 0],\n",
              "        ...,\n",
              "        [0, 0, 0, ..., 0, 0, 0],\n",
              "        [0, 0, 0, ..., 0, 0, 0],\n",
              "        [0, 0, 0, ..., 0, 0, 0]],\n",
              "\n",
              "       [[0, 0, 0, ..., 0, 0, 0],\n",
              "        [0, 0, 0, ..., 0, 0, 0],\n",
              "        [0, 0, 0, ..., 0, 0, 0],\n",
              "        ...,\n",
              "        [0, 0, 0, ..., 0, 0, 0],\n",
              "        [0, 0, 0, ..., 0, 0, 0],\n",
              "        [0, 0, 0, ..., 0, 0, 0]]], dtype=uint8)"
            ]
          },
          "metadata": {},
          "execution_count": 3
        }
      ]
    },
    {
      "cell_type": "code",
      "source": [
        "xtrain.shape"
      ],
      "metadata": {
        "colab": {
          "base_uri": "https://localhost:8080/"
        },
        "id": "5vl_6XHYGTE1",
        "outputId": "ea9c42ec-2a86-4929-f016-83558599c5b7"
      },
      "execution_count": 4,
      "outputs": [
        {
          "output_type": "execute_result",
          "data": {
            "text/plain": [
              "(60000, 28, 28)"
            ]
          },
          "metadata": {},
          "execution_count": 4
        }
      ]
    },
    {
      "cell_type": "code",
      "source": [
        "ytrain[0:5]"
      ],
      "metadata": {
        "colab": {
          "base_uri": "https://localhost:8080/"
        },
        "id": "mLevU2PIGVRf",
        "outputId": "7f703f67-413f-40d6-9c26-21b5c36a23f2"
      },
      "execution_count": 5,
      "outputs": [
        {
          "output_type": "execute_result",
          "data": {
            "text/plain": [
              "array([5, 0, 4, 1, 9], dtype=uint8)"
            ]
          },
          "metadata": {},
          "execution_count": 5
        }
      ]
    },
    {
      "cell_type": "code",
      "source": [
        "xtest"
      ],
      "metadata": {
        "colab": {
          "base_uri": "https://localhost:8080/"
        },
        "id": "OsrOFqjNGdwT",
        "outputId": "9dfdcc20-2ec8-4ffa-91ca-c545ebd3d828"
      },
      "execution_count": 6,
      "outputs": [
        {
          "output_type": "execute_result",
          "data": {
            "text/plain": [
              "array([[[0, 0, 0, ..., 0, 0, 0],\n",
              "        [0, 0, 0, ..., 0, 0, 0],\n",
              "        [0, 0, 0, ..., 0, 0, 0],\n",
              "        ...,\n",
              "        [0, 0, 0, ..., 0, 0, 0],\n",
              "        [0, 0, 0, ..., 0, 0, 0],\n",
              "        [0, 0, 0, ..., 0, 0, 0]],\n",
              "\n",
              "       [[0, 0, 0, ..., 0, 0, 0],\n",
              "        [0, 0, 0, ..., 0, 0, 0],\n",
              "        [0, 0, 0, ..., 0, 0, 0],\n",
              "        ...,\n",
              "        [0, 0, 0, ..., 0, 0, 0],\n",
              "        [0, 0, 0, ..., 0, 0, 0],\n",
              "        [0, 0, 0, ..., 0, 0, 0]],\n",
              "\n",
              "       [[0, 0, 0, ..., 0, 0, 0],\n",
              "        [0, 0, 0, ..., 0, 0, 0],\n",
              "        [0, 0, 0, ..., 0, 0, 0],\n",
              "        ...,\n",
              "        [0, 0, 0, ..., 0, 0, 0],\n",
              "        [0, 0, 0, ..., 0, 0, 0],\n",
              "        [0, 0, 0, ..., 0, 0, 0]],\n",
              "\n",
              "       ...,\n",
              "\n",
              "       [[0, 0, 0, ..., 0, 0, 0],\n",
              "        [0, 0, 0, ..., 0, 0, 0],\n",
              "        [0, 0, 0, ..., 0, 0, 0],\n",
              "        ...,\n",
              "        [0, 0, 0, ..., 0, 0, 0],\n",
              "        [0, 0, 0, ..., 0, 0, 0],\n",
              "        [0, 0, 0, ..., 0, 0, 0]],\n",
              "\n",
              "       [[0, 0, 0, ..., 0, 0, 0],\n",
              "        [0, 0, 0, ..., 0, 0, 0],\n",
              "        [0, 0, 0, ..., 0, 0, 0],\n",
              "        ...,\n",
              "        [0, 0, 0, ..., 0, 0, 0],\n",
              "        [0, 0, 0, ..., 0, 0, 0],\n",
              "        [0, 0, 0, ..., 0, 0, 0]],\n",
              "\n",
              "       [[0, 0, 0, ..., 0, 0, 0],\n",
              "        [0, 0, 0, ..., 0, 0, 0],\n",
              "        [0, 0, 0, ..., 0, 0, 0],\n",
              "        ...,\n",
              "        [0, 0, 0, ..., 0, 0, 0],\n",
              "        [0, 0, 0, ..., 0, 0, 0],\n",
              "        [0, 0, 0, ..., 0, 0, 0]]], dtype=uint8)"
            ]
          },
          "metadata": {},
          "execution_count": 6
        }
      ]
    },
    {
      "cell_type": "code",
      "source": [
        "xtest.shape"
      ],
      "metadata": {
        "colab": {
          "base_uri": "https://localhost:8080/"
        },
        "id": "ZHmzcuTZGjb3",
        "outputId": "d29a4320-1def-4e26-b599-b7cd703fa898"
      },
      "execution_count": 7,
      "outputs": [
        {
          "output_type": "execute_result",
          "data": {
            "text/plain": [
              "(10000, 28, 28)"
            ]
          },
          "metadata": {},
          "execution_count": 7
        }
      ]
    },
    {
      "cell_type": "code",
      "source": [
        "ytest[0:5]"
      ],
      "metadata": {
        "colab": {
          "base_uri": "https://localhost:8080/"
        },
        "id": "OyHeT9IOGnCg",
        "outputId": "398c7445-393a-4104-c58d-7b5cf63f7437"
      },
      "execution_count": 8,
      "outputs": [
        {
          "output_type": "execute_result",
          "data": {
            "text/plain": [
              "array([7, 2, 1, 0, 4], dtype=uint8)"
            ]
          },
          "metadata": {},
          "execution_count": 8
        }
      ]
    },
    {
      "cell_type": "markdown",
      "source": [
        "### Visualizing handwritten digits from data"
      ],
      "metadata": {
        "id": "t_D4rLzzGttC"
      }
    },
    {
      "cell_type": "code",
      "source": [
        "xtrain[0]"
      ],
      "metadata": {
        "colab": {
          "base_uri": "https://localhost:8080/",
          "height": 67
        },
        "id": "88uuC-upGrMe",
        "outputId": "92355370-d1d4-46e7-bb0b-849e538a2444"
      },
      "execution_count": 9,
      "outputs": [
        {
          "output_type": "execute_result",
          "data": {
            "text/plain": [
              "array([[  0,   0,   0,   0,   0,   0,   0,   0,   0,   0,   0,   0,   0,\n",
              "          0,   0,   0,   0,   0,   0,   0,   0,   0,   0,   0,   0,   0,\n",
              "          0,   0],\n",
              "       [  0,   0,   0,   0,   0,   0,   0,   0,   0,   0,   0,   0,   0,\n",
              "          0,   0,   0,   0,   0,   0,   0,   0,   0,   0,   0,   0,   0,\n",
              "          0,   0],\n",
              "       [  0,   0,   0,   0,   0,   0,   0,   0,   0,   0,   0,   0,   0,\n",
              "          0,   0,   0,   0,   0,   0,   0,   0,   0,   0,   0,   0,   0,\n",
              "          0,   0],\n",
              "       [  0,   0,   0,   0,   0,   0,   0,   0,   0,   0,   0,   0,   0,\n",
              "          0,   0,   0,   0,   0,   0,   0,   0,   0,   0,   0,   0,   0,\n",
              "          0,   0],\n",
              "       [  0,   0,   0,   0,   0,   0,   0,   0,   0,   0,   0,   0,   0,\n",
              "          0,   0,   0,   0,   0,   0,   0,   0,   0,   0,   0,   0,   0,\n",
              "          0,   0],\n",
              "       [  0,   0,   0,   0,   0,   0,   0,   0,   0,   0,   0,   0,   3,\n",
              "         18,  18,  18, 126, 136, 175,  26, 166, 255, 247, 127,   0,   0,\n",
              "          0,   0],\n",
              "       [  0,   0,   0,   0,   0,   0,   0,   0,  30,  36,  94, 154, 170,\n",
              "        253, 253, 253, 253, 253, 225, 172, 253, 242, 195,  64,   0,   0,\n",
              "          0,   0],\n",
              "       [  0,   0,   0,   0,   0,   0,   0,  49, 238, 253, 253, 253, 253,\n",
              "        253, 253, 253, 253, 251,  93,  82,  82,  56,  39,   0,   0,   0,\n",
              "          0,   0],\n",
              "       [  0,   0,   0,   0,   0,   0,   0,  18, 219, 253, 253, 253, 253,\n",
              "        253, 198, 182, 247, 241,   0,   0,   0,   0,   0,   0,   0,   0,\n",
              "          0,   0],\n",
              "       [  0,   0,   0,   0,   0,   0,   0,   0,  80, 156, 107, 253, 253,\n",
              "        205,  11,   0,  43, 154,   0,   0,   0,   0,   0,   0,   0,   0,\n",
              "          0,   0],\n",
              "       [  0,   0,   0,   0,   0,   0,   0,   0,   0,  14,   1, 154, 253,\n",
              "         90,   0,   0,   0,   0,   0,   0,   0,   0,   0,   0,   0,   0,\n",
              "          0,   0],\n",
              "       [  0,   0,   0,   0,   0,   0,   0,   0,   0,   0,   0, 139, 253,\n",
              "        190,   2,   0,   0,   0,   0,   0,   0,   0,   0,   0,   0,   0,\n",
              "          0,   0],\n",
              "       [  0,   0,   0,   0,   0,   0,   0,   0,   0,   0,   0,  11, 190,\n",
              "        253,  70,   0,   0,   0,   0,   0,   0,   0,   0,   0,   0,   0,\n",
              "          0,   0],\n",
              "       [  0,   0,   0,   0,   0,   0,   0,   0,   0,   0,   0,   0,  35,\n",
              "        241, 225, 160, 108,   1,   0,   0,   0,   0,   0,   0,   0,   0,\n",
              "          0,   0],\n",
              "       [  0,   0,   0,   0,   0,   0,   0,   0,   0,   0,   0,   0,   0,\n",
              "         81, 240, 253, 253, 119,  25,   0,   0,   0,   0,   0,   0,   0,\n",
              "          0,   0],\n",
              "       [  0,   0,   0,   0,   0,   0,   0,   0,   0,   0,   0,   0,   0,\n",
              "          0,  45, 186, 253, 253, 150,  27,   0,   0,   0,   0,   0,   0,\n",
              "          0,   0],\n",
              "       [  0,   0,   0,   0,   0,   0,   0,   0,   0,   0,   0,   0,   0,\n",
              "          0,   0,  16,  93, 252, 253, 187,   0,   0,   0,   0,   0,   0,\n",
              "          0,   0],\n",
              "       [  0,   0,   0,   0,   0,   0,   0,   0,   0,   0,   0,   0,   0,\n",
              "          0,   0,   0,   0, 249, 253, 249,  64,   0,   0,   0,   0,   0,\n",
              "          0,   0],\n",
              "       [  0,   0,   0,   0,   0,   0,   0,   0,   0,   0,   0,   0,   0,\n",
              "          0,  46, 130, 183, 253, 253, 207,   2,   0,   0,   0,   0,   0,\n",
              "          0,   0],\n",
              "       [  0,   0,   0,   0,   0,   0,   0,   0,   0,   0,   0,   0,  39,\n",
              "        148, 229, 253, 253, 253, 250, 182,   0,   0,   0,   0,   0,   0,\n",
              "          0,   0],\n",
              "       [  0,   0,   0,   0,   0,   0,   0,   0,   0,   0,  24, 114, 221,\n",
              "        253, 253, 253, 253, 201,  78,   0,   0,   0,   0,   0,   0,   0,\n",
              "          0,   0],\n",
              "       [  0,   0,   0,   0,   0,   0,   0,   0,  23,  66, 213, 253, 253,\n",
              "        253, 253, 198,  81,   2,   0,   0,   0,   0,   0,   0,   0,   0,\n",
              "          0,   0],\n",
              "       [  0,   0,   0,   0,   0,   0,  18, 171, 219, 253, 253, 253, 253,\n",
              "        195,  80,   9,   0,   0,   0,   0,   0,   0,   0,   0,   0,   0,\n",
              "          0,   0],\n",
              "       [  0,   0,   0,   0,  55, 172, 226, 253, 253, 253, 253, 244, 133,\n",
              "         11,   0,   0,   0,   0,   0,   0,   0,   0,   0,   0,   0,   0,\n",
              "          0,   0],\n",
              "       [  0,   0,   0,   0, 136, 253, 253, 253, 212, 135, 132,  16,   0,\n",
              "          0,   0,   0,   0,   0,   0,   0,   0,   0,   0,   0,   0,   0,\n",
              "          0,   0],\n",
              "       [  0,   0,   0,   0,   0,   0,   0,   0,   0,   0,   0,   0,   0,\n",
              "          0,   0,   0,   0,   0,   0,   0,   0,   0,   0,   0,   0,   0,\n",
              "          0,   0],\n",
              "       [  0,   0,   0,   0,   0,   0,   0,   0,   0,   0,   0,   0,   0,\n",
              "          0,   0,   0,   0,   0,   0,   0,   0,   0,   0,   0,   0,   0,\n",
              "          0,   0],\n",
              "       [  0,   0,   0,   0,   0,   0,   0,   0,   0,   0,   0,   0,   0,\n",
              "          0,   0,   0,   0,   0,   0,   0,   0,   0,   0,   0,   0,   0,\n",
              "          0,   0]], dtype=uint8)"
            ],
            "text/html": [
              "<style>\n",
              "      .ndarray_repr .ndarray_raw_data {\n",
              "        display: none;\n",
              "      }\n",
              "      .ndarray_repr.show_array .ndarray_raw_data {\n",
              "        display: block;\n",
              "      }\n",
              "      .ndarray_repr.show_array .ndarray_image_preview {\n",
              "        display: none;\n",
              "      }\n",
              "      </style>\n",
              "      <div id=\"id-b8532430-c2f4-4359-bc3a-9b7d7b27c375\" class=\"ndarray_repr\"><pre>ndarray (28, 28) <button style=\"padding: 0 2px;\">show data</button></pre><img src=\"data:image/png;base64,iVBORw0KGgoAAAANSUhEUgAAABwAAAAcCAAAAABXZoBIAAABAElEQVR4nGNgGMyAWUhIqK5jvdSy/9/rGRgYGFhgEnJsVjYCwQwMDAxPJgV+vniQgYGBgREqZ7iXH8r6l/SV4dn7m8gmCt3++/fv37/Htn3/iMW+gDnZf/+e5WbQnoXNNXyMs/5GoQoxwVmf/n9kSGFiwAW49/11wynJoPzx4YIcRlyygR/+/i2XxCWru+vv32nSuGQFYv/83Y3b4p9/fzpAmSyoMnohpiwM1w5h06Q+5enfv39/bcMiJVF09+/fv39P+mFKiTtd/fv3799jgZiBJLT69t+/f/8eDuDEkDJf8+jv379/v7Ryo4qzMDAwMAQGMjBc3/y35wM2V1IfAABFF16Aa0wAOwAAAABJRU5ErkJggg==\" class=\"ndarray_image_preview\" /><pre class=\"ndarray_raw_data\">array([[  0,   0,   0,   0,   0,   0,   0,   0,   0,   0,   0,   0,   0,\n",
              "          0,   0,   0,   0,   0,   0,   0,   0,   0,   0,   0,   0,   0,\n",
              "          0,   0],\n",
              "       [  0,   0,   0,   0,   0,   0,   0,   0,   0,   0,   0,   0,   0,\n",
              "          0,   0,   0,   0,   0,   0,   0,   0,   0,   0,   0,   0,   0,\n",
              "          0,   0],\n",
              "       [  0,   0,   0,   0,   0,   0,   0,   0,   0,   0,   0,   0,   0,\n",
              "          0,   0,   0,   0,   0,   0,   0,   0,   0,   0,   0,   0,   0,\n",
              "          0,   0],\n",
              "       [  0,   0,   0,   0,   0,   0,   0,   0,   0,   0,   0,   0,   0,\n",
              "          0,   0,   0,   0,   0,   0,   0,   0,   0,   0,   0,   0,   0,\n",
              "          0,   0],\n",
              "       [  0,   0,   0,   0,   0,   0,   0,   0,   0,   0,   0,   0,   0,\n",
              "          0,   0,   0,   0,   0,   0,   0,   0,   0,   0,   0,   0,   0,\n",
              "          0,   0],\n",
              "       [  0,   0,   0,   0,   0,   0,   0,   0,   0,   0,   0,   0,   3,\n",
              "         18,  18,  18, 126, 136, 175,  26, 166, 255, 247, 127,   0,   0,\n",
              "          0,   0],\n",
              "       [  0,   0,   0,   0,   0,   0,   0,   0,  30,  36,  94, 154, 170,\n",
              "        253, 253, 253, 253, 253, 225, 172, 253, 242, 195,  64,   0,   0,\n",
              "          0,   0],\n",
              "       [  0,   0,   0,   0,   0,   0,   0,  49, 238, 253, 253, 253, 253,\n",
              "        253, 253, 253, 253, 251,  93,  82,  82,  56,  39,   0,   0,   0,\n",
              "          0,   0],\n",
              "       [  0,   0,   0,   0,   0,   0,   0,  18, 219, 253, 253, 253, 253,\n",
              "        253, 198, 182, 247, 241,   0,   0,   0,   0,   0,   0,   0,   0,\n",
              "          0,   0],\n",
              "       [  0,   0,   0,   0,   0,   0,   0,   0,  80, 156, 107, 253, 253,\n",
              "        205,  11,   0,  43, 154,   0,   0,   0,   0,   0,   0,   0,   0,\n",
              "          0,   0],\n",
              "       [  0,   0,   0,   0,   0,   0,   0,   0,   0,  14,   1, 154, 253,\n",
              "         90,   0,   0,   0,   0,   0,   0,   0,   0,   0,   0,   0,   0,\n",
              "          0,   0],\n",
              "       [  0,   0,   0,   0,   0,   0,   0,   0,   0,   0,   0, 139, 253,\n",
              "        190,   2,   0,   0,   0,   0,   0,   0,   0,   0,   0,   0,   0,\n",
              "          0,   0],\n",
              "       [  0,   0,   0,   0,   0,   0,   0,   0,   0,   0,   0,  11, 190,\n",
              "        253,  70,   0,   0,   0,   0,   0,   0,   0,   0,   0,   0,   0,\n",
              "          0,   0],\n",
              "       [  0,   0,   0,   0,   0,   0,   0,   0,   0,   0,   0,   0,  35,\n",
              "        241, 225, 160, 108,   1,   0,   0,   0,   0,   0,   0,   0,   0,\n",
              "          0,   0],\n",
              "       [  0,   0,   0,   0,   0,   0,   0,   0,   0,   0,   0,   0,   0,\n",
              "         81, 240, 253, 253, 119,  25,   0,   0,   0,   0,   0,   0,   0,\n",
              "          0,   0],\n",
              "       [  0,   0,   0,   0,   0,   0,   0,   0,   0,   0,   0,   0,   0,\n",
              "          0,  45, 186, 253, 253, 150,  27,   0,   0,   0,   0,   0,   0,\n",
              "          0,   0],\n",
              "       [  0,   0,   0,   0,   0,   0,   0,   0,   0,   0,   0,   0,   0,\n",
              "          0,   0,  16,  93, 252, 253, 187,   0,   0,   0,   0,   0,   0,\n",
              "          0,   0],\n",
              "       [  0,   0,   0,   0,   0,   0,   0,   0,   0,   0,   0,   0,   0,\n",
              "          0,   0,   0,   0, 249, 253, 249,  64,   0,   0,   0,   0,   0,\n",
              "          0,   0],\n",
              "       [  0,   0,   0,   0,   0,   0,   0,   0,   0,   0,   0,   0,   0,\n",
              "          0,  46, 130, 183, 253, 253, 207,   2,   0,   0,   0,   0,   0,\n",
              "          0,   0],\n",
              "       [  0,   0,   0,   0,   0,   0,   0,   0,   0,   0,   0,   0,  39,\n",
              "        148, 229, 253, 253, 253, 250, 182,   0,   0,   0,   0,   0,   0,\n",
              "          0,   0],\n",
              "       [  0,   0,   0,   0,   0,   0,   0,   0,   0,   0,  24, 114, 221,\n",
              "        253, 253, 253, 253, 201,  78,   0,   0,   0,   0,   0,   0,   0,\n",
              "          0,   0],\n",
              "       [  0,   0,   0,   0,   0,   0,   0,   0,  23,  66, 213, 253, 253,\n",
              "        253, 253, 198,  81,   2,   0,   0,   0,   0,   0,   0,   0,   0,\n",
              "          0,   0],\n",
              "       [  0,   0,   0,   0,   0,   0,  18, 171, 219, 253, 253, 253, 253,\n",
              "        195,  80,   9,   0,   0,   0,   0,   0,   0,   0,   0,   0,   0,\n",
              "          0,   0],\n",
              "       [  0,   0,   0,   0,  55, 172, 226, 253, 253, 253, 253, 244, 133,\n",
              "         11,   0,   0,   0,   0,   0,   0,   0,   0,   0,   0,   0,   0,\n",
              "          0,   0],\n",
              "       [  0,   0,   0,   0, 136, 253, 253, 253, 212, 135, 132,  16,   0,\n",
              "          0,   0,   0,   0,   0,   0,   0,   0,   0,   0,   0,   0,   0,\n",
              "          0,   0],\n",
              "       [  0,   0,   0,   0,   0,   0,   0,   0,   0,   0,   0,   0,   0,\n",
              "          0,   0,   0,   0,   0,   0,   0,   0,   0,   0,   0,   0,   0,\n",
              "          0,   0],\n",
              "       [  0,   0,   0,   0,   0,   0,   0,   0,   0,   0,   0,   0,   0,\n",
              "          0,   0,   0,   0,   0,   0,   0,   0,   0,   0,   0,   0,   0,\n",
              "          0,   0],\n",
              "       [  0,   0,   0,   0,   0,   0,   0,   0,   0,   0,   0,   0,   0,\n",
              "          0,   0,   0,   0,   0,   0,   0,   0,   0,   0,   0,   0,   0,\n",
              "          0,   0]], dtype=uint8)</pre></div><script>\n",
              "      (() => {\n",
              "      const titles = ['show data', 'hide data'];\n",
              "      let index = 0\n",
              "      document.querySelector('#id-b8532430-c2f4-4359-bc3a-9b7d7b27c375 button').onclick = (e) => {\n",
              "        document.querySelector('#id-b8532430-c2f4-4359-bc3a-9b7d7b27c375').classList.toggle('show_array');\n",
              "        index = (++index) % 2;\n",
              "        document.querySelector('#id-b8532430-c2f4-4359-bc3a-9b7d7b27c375 button').textContent = titles[index];\n",
              "        e.preventDefault();\n",
              "        e.stopPropagation();\n",
              "      }\n",
              "      })();\n",
              "    </script>"
            ]
          },
          "metadata": {},
          "execution_count": 9
        }
      ]
    },
    {
      "cell_type": "code",
      "source": [
        "import matplotlib.pyplot as plt\n",
        "import seaborn as sns"
      ],
      "metadata": {
        "id": "c0b0Kl9FGyNY"
      },
      "execution_count": 10,
      "outputs": []
    },
    {
      "cell_type": "code",
      "source": [
        "plt.imshow(xtrain[0], cmap=\"gray\")\n",
        "plt.title(f\"Label : {ytrain[0]}\")\n",
        "plt.show()"
      ],
      "metadata": {
        "colab": {
          "base_uri": "https://localhost:8080/",
          "height": 452
        },
        "id": "Ns0ZD5THHDtT",
        "outputId": "638fe961-2bfb-4d74-e39f-c6c005d87c6e"
      },
      "execution_count": 11,
      "outputs": [
        {
          "output_type": "display_data",
          "data": {
            "text/plain": [
              "<Figure size 640x480 with 1 Axes>"
            ],
            "image/png": "[encoded data removed]"
          },
          "metadata": {}
        }
      ]
    },
    {
      "cell_type": "code",
      "source": [
        "plt.figure(figsize=(15, 15))\n",
        "sns.heatmap(xtrain[0], annot=True, fmt=\"d\")\n",
        "plt.show()"
      ],
      "metadata": {
        "colab": {
          "base_uri": "https://localhost:8080/",
          "height": 1000
        },
        "id": "Ia8DlgQIG7mF",
        "outputId": "fa3a72e7-d3f3-4a06-f173-c928b41ce455"
      },
      "execution_count": 12,
      "outputs": [
        {
          "output_type": "display_data",
          "data": {
            "text/plain": [
              "<Figure size 1500x1500 with 2 Axes>"
            ],
            "image/png": "[encoded data removed]"
          },
          "metadata": {}
        }
      ]
    },
    {
      "cell_type": "markdown",
      "source": [
        "### Visualuze first 9 images from train data"
      ],
      "metadata": {
        "id": "UONzxrhxHcaD"
      }
    },
    {
      "cell_type": "code",
      "source": [
        "list(range(9))"
      ],
      "metadata": {
        "colab": {
          "base_uri": "https://localhost:8080/"
        },
        "id": "4hpgL7VjH2eY",
        "outputId": "89506aad-538e-4a2a-e1af-f0df447873b7"
      },
      "execution_count": 13,
      "outputs": [
        {
          "output_type": "execute_result",
          "data": {
            "text/plain": [
              "[0, 1, 2, 3, 4, 5, 6, 7, 8]"
            ]
          },
          "metadata": {},
          "execution_count": 13
        }
      ]
    },
    {
      "cell_type": "code",
      "source": [
        "plt.figure(figsize=(10, 10))\n",
        "for i in range(9):\n",
        "  plt.subplot(3, 3, i+1)\n",
        "  plt.imshow(xtrain[i], cmap=\"gray\")\n",
        "  plt.title(f\"Label : {ytrain[i]}\")\n",
        "\n",
        "# Show the plot\n",
        "plt.show()"
      ],
      "metadata": {
        "colab": {
          "base_uri": "https://localhost:8080/",
          "height": 853
        },
        "id": "3u6oxtxYHUND",
        "outputId": "1a76f21b-742d-4a98-f6dc-ac00a3b259c3"
      },
      "execution_count": 14,
      "outputs": [
        {
          "output_type": "display_data",
          "data": {
            "text/plain": [
              "<Figure size 1000x1000 with 9 Axes>"
            ],
            "image/png": "[encoded data removed]"
          },
          "metadata": {}
        }
      ]
    },
    {
      "cell_type": "markdown",
      "source": [
        "### Preprocessing on data"
      ],
      "metadata": {
        "id": "4EIwwYxAIoLr"
      }
    },
    {
      "cell_type": "code",
      "source": [
        "import numpy as np"
      ],
      "metadata": {
        "id": "3mnPXDsBIJUh"
      },
      "execution_count": 15,
      "outputs": []
    },
    {
      "cell_type": "code",
      "source": [
        "np.unique(ytrain)"
      ],
      "metadata": {
        "colab": {
          "base_uri": "https://localhost:8080/"
        },
        "id": "el9DbMOZIvL6",
        "outputId": "2e4e68ab-44bf-458b-b937-b17d9ef7b593"
      },
      "execution_count": 16,
      "outputs": [
        {
          "output_type": "execute_result",
          "data": {
            "text/plain": [
              "array([0, 1, 2, 3, 4, 5, 6, 7, 8, 9], dtype=uint8)"
            ]
          },
          "metadata": {},
          "execution_count": 16
        }
      ]
    },
    {
      "cell_type": "code",
      "source": [
        "xtrain_scl = xtrain.astype(\"float32\")/255\n",
        "xtest_scl = xtest.astype(\"float32\")/255"
      ],
      "metadata": {
        "id": "E8F-u4rKIyk3"
      },
      "execution_count": 17,
      "outputs": []
    },
    {
      "cell_type": "code",
      "source": [
        "xtrain_scl[0]"
      ],
      "metadata": {
        "colab": {
          "base_uri": "https://localhost:8080/"
        },
        "id": "iCQLSrO9JDZC",
        "outputId": "b62e5036-9308-4d85-cb18-c5cd9fad917d"
      },
      "execution_count": 18,
      "outputs": [
        {
          "output_type": "execute_result",
          "data": {
            "text/plain": [
              "array([[0.        , 0.        , 0.        , 0.        , 0.        ,\n",
              "        0.        , 0.        , 0.        , 0.        , 0.        ,\n",
              "        0.        , 0.        , 0.        , 0.        , 0.        ,\n",
              "        0.        , 0.        , 0.        , 0.        , 0.        ,\n",
              "        0.        , 0.        , 0.        , 0.        , 0.        ,\n",
              "        0.        , 0.        , 0.        ],\n",
              "       [0.        , 0.        , 0.        , 0.        , 0.        ,\n",
              "        0.        , 0.        , 0.        , 0.        , 0.        ,\n",
              "        0.        , 0.        , 0.        , 0.        , 0.        ,\n",
              "        0.        , 0.        , 0.        , 0.        , 0.        ,\n",
              "        0.        , 0.        , 0.        , 0.        , 0.        ,\n",
              "        0.        , 0.        , 0.        ],\n",
              "       [0.        , 0.        , 0.        , 0.        , 0.        ,\n",
              "        0.        , 0.        , 0.        , 0.        , 0.        ,\n",
              "        0.        , 0.        , 0.        , 0.        , 0.        ,\n",
              "        0.        , 0.        , 0.        , 0.        , 0.        ,\n",
              "        0.        , 0.        , 0.        , 0.        , 0.        ,\n",
              "        0.        , 0.        , 0.        ],\n",
              "       [0.        , 0.        , 0.        , 0.        , 0.        ,\n",
              "        0.        , 0.        , 0.        , 0.        , 0.        ,\n",
              "        0.        , 0.        , 0.        , 0.        , 0.        ,\n",
              "        0.        , 0.        , 0.        , 0.        , 0.        ,\n",
              "        0.        , 0.        , 0.        , 0.        , 0.        ,\n",
              "        0.        , 0.        , 0.        ],\n",
              "       [0.        , 0.        , 0.        , 0.        , 0.        ,\n",
              "        0.        , 0.        , 0.        , 0.        , 0.        ,\n",
              "        0.        , 0.        , 0.        , 0.        , 0.        ,\n",
              "        0.        , 0.        , 0.        , 0.        , 0.        ,\n",
              "        0.        , 0.        , 0.        , 0.        , 0.        ,\n",
              "        0.        , 0.        , 0.        ],\n",
              "       [0.        , 0.        , 0.        , 0.        , 0.        ,\n",
              "        0.        , 0.        , 0.        , 0.        , 0.        ,\n",
              "        0.        , 0.        , 0.01176471, 0.07058824, 0.07058824,\n",
              "        0.07058824, 0.49411765, 0.53333336, 0.6862745 , 0.10196079,\n",
              "        0.6509804 , 1.        , 0.96862745, 0.49803922, 0.        ,\n",
              "        0.        , 0.        , 0.        ],\n",
              "       [0.        , 0.        , 0.        , 0.        , 0.        ,\n",
              "        0.        , 0.        , 0.        , 0.11764706, 0.14117648,\n",
              "        0.36862746, 0.6039216 , 0.6666667 , 0.99215686, 0.99215686,\n",
              "        0.99215686, 0.99215686, 0.99215686, 0.88235295, 0.6745098 ,\n",
              "        0.99215686, 0.9490196 , 0.7647059 , 0.2509804 , 0.        ,\n",
              "        0.        , 0.        , 0.        ],\n",
              "       [0.        , 0.        , 0.        , 0.        , 0.        ,\n",
              "        0.        , 0.        , 0.19215687, 0.93333334, 0.99215686,\n",
              "        0.99215686, 0.99215686, 0.99215686, 0.99215686, 0.99215686,\n",
              "        0.99215686, 0.99215686, 0.9843137 , 0.3647059 , 0.32156864,\n",
              "        0.32156864, 0.21960784, 0.15294118, 0.        , 0.        ,\n",
              "        0.        , 0.        , 0.        ],\n",
              "       [0.        , 0.        , 0.        , 0.        , 0.        ,\n",
              "        0.        , 0.        , 0.07058824, 0.85882354, 0.99215686,\n",
              "        0.99215686, 0.99215686, 0.99215686, 0.99215686, 0.7764706 ,\n",
              "        0.7137255 , 0.96862745, 0.94509804, 0.        , 0.        ,\n",
              "        0.        , 0.        , 0.        , 0.        , 0.        ,\n",
              "        0.        , 0.        , 0.        ],\n",
              "       [0.        , 0.        , 0.        , 0.        , 0.        ,\n",
              "        0.        , 0.        , 0.        , 0.3137255 , 0.6117647 ,\n",
              "        0.41960785, 0.99215686, 0.99215686, 0.8039216 , 0.04313726,\n",
              "        0.        , 0.16862746, 0.6039216 , 0.        , 0.        ,\n",
              "        0.        , 0.        , 0.        , 0.        , 0.        ,\n",
              "        0.        , 0.        , 0.        ],\n",
              "       [0.        , 0.        , 0.        , 0.        , 0.        ,\n",
              "        0.        , 0.        , 0.        , 0.        , 0.05490196,\n",
              "        0.00392157, 0.6039216 , 0.99215686, 0.3529412 , 0.        ,\n",
              "        0.        , 0.        , 0.        , 0.        , 0.        ,\n",
              "        0.        , 0.        , 0.        , 0.        , 0.        ,\n",
              "        0.        , 0.        , 0.        ],\n",
              "       [0.        , 0.        , 0.        , 0.        , 0.        ,\n",
              "        0.        , 0.        , 0.        , 0.        , 0.        ,\n",
              "        0.        , 0.54509807, 0.99215686, 0.74509805, 0.00784314,\n",
              "        0.        , 0.        , 0.        , 0.        , 0.        ,\n",
              "        0.        , 0.        , 0.        , 0.        , 0.        ,\n",
              "        0.        , 0.        , 0.        ],\n",
              "       [0.        , 0.        , 0.        , 0.        , 0.        ,\n",
              "        0.        , 0.        , 0.        , 0.        , 0.        ,\n",
              "        0.        , 0.04313726, 0.74509805, 0.99215686, 0.27450982,\n",
              "        0.        , 0.        , 0.        , 0.        , 0.        ,\n",
              "        0.        , 0.        , 0.        , 0.        , 0.        ,\n",
              "        0.        , 0.        , 0.        ],\n",
              "       [0.        , 0.        , 0.        , 0.        , 0.        ,\n",
              "        0.        , 0.        , 0.        , 0.        , 0.        ,\n",
              "        0.        , 0.        , 0.13725491, 0.94509804, 0.88235295,\n",
              "        0.627451  , 0.42352942, 0.00392157, 0.        , 0.        ,\n",
              "        0.        , 0.        , 0.        , 0.        , 0.        ,\n",
              "        0.        , 0.        , 0.        ],\n",
              "       [0.        , 0.        , 0.        , 0.        , 0.        ,\n",
              "        0.        , 0.        , 0.        , 0.        , 0.        ,\n",
              "        0.        , 0.        , 0.        , 0.31764707, 0.9411765 ,\n",
              "        0.99215686, 0.99215686, 0.46666667, 0.09803922, 0.        ,\n",
              "        0.        , 0.        , 0.        , 0.        , 0.        ,\n",
              "        0.        , 0.        , 0.        ],\n",
              "       [0.        , 0.        , 0.        , 0.        , 0.        ,\n",
              "        0.        , 0.        , 0.        , 0.        , 0.        ,\n",
              "        0.        , 0.        , 0.        , 0.        , 0.1764706 ,\n",
              "        0.7294118 , 0.99215686, 0.99215686, 0.5882353 , 0.10588235,\n",
              "        0.        , 0.        , 0.        , 0.        , 0.        ,\n",
              "        0.        , 0.        , 0.        ],\n",
              "       [0.        , 0.        , 0.        , 0.        , 0.        ,\n",
              "        0.        , 0.        , 0.        , 0.        , 0.        ,\n",
              "        0.        , 0.        , 0.        , 0.        , 0.        ,\n",
              "        0.0627451 , 0.3647059 , 0.9882353 , 0.99215686, 0.73333335,\n",
              "        0.        , 0.        , 0.        , 0.        , 0.        ,\n",
              "        0.        , 0.        , 0.        ],\n",
              "       [0.        , 0.        , 0.        , 0.        , 0.        ,\n",
              "        0.        , 0.        , 0.        , 0.        , 0.        ,\n",
              "        0.        , 0.        , 0.        , 0.        , 0.        ,\n",
              "        0.        , 0.        , 0.9764706 , 0.99215686, 0.9764706 ,\n",
              "        0.2509804 , 0.        , 0.        , 0.        , 0.        ,\n",
              "        0.        , 0.        , 0.        ],\n",
              "       [0.        , 0.        , 0.        , 0.        , 0.        ,\n",
              "        0.        , 0.        , 0.        , 0.        , 0.        ,\n",
              "        0.        , 0.        , 0.        , 0.        , 0.18039216,\n",
              "        0.50980395, 0.7176471 , 0.99215686, 0.99215686, 0.8117647 ,\n",
              "        0.00784314, 0.        , 0.        , 0.        , 0.        ,\n",
              "        0.        , 0.        , 0.        ],\n",
              "       [0.        , 0.        , 0.        , 0.        , 0.        ,\n",
              "        0.        , 0.        , 0.        , 0.        , 0.        ,\n",
              "        0.        , 0.        , 0.15294118, 0.5803922 , 0.8980392 ,\n",
              "        0.99215686, 0.99215686, 0.99215686, 0.98039216, 0.7137255 ,\n",
              "        0.        , 0.        , 0.        , 0.        , 0.        ,\n",
              "        0.        , 0.        , 0.        ],\n",
              "       [0.        , 0.        , 0.        , 0.        , 0.        ,\n",
              "        0.        , 0.        , 0.        , 0.        , 0.        ,\n",
              "        0.09411765, 0.44705883, 0.8666667 , 0.99215686, 0.99215686,\n",
              "        0.99215686, 0.99215686, 0.7882353 , 0.30588236, 0.        ,\n",
              "        0.        , 0.        , 0.        , 0.        , 0.        ,\n",
              "        0.        , 0.        , 0.        ],\n",
              "       [0.        , 0.        , 0.        , 0.        , 0.        ,\n",
              "        0.        , 0.        , 0.        , 0.09019608, 0.25882354,\n",
              "        0.8352941 , 0.99215686, 0.99215686, 0.99215686, 0.99215686,\n",
              "        0.7764706 , 0.31764707, 0.00784314, 0.        , 0.        ,\n",
              "        0.        , 0.        , 0.        , 0.        , 0.        ,\n",
              "        0.        , 0.        , 0.        ],\n",
              "       [0.        , 0.        , 0.        , 0.        , 0.        ,\n",
              "        0.        , 0.07058824, 0.67058825, 0.85882354, 0.99215686,\n",
              "        0.99215686, 0.99215686, 0.99215686, 0.7647059 , 0.3137255 ,\n",
              "        0.03529412, 0.        , 0.        , 0.        , 0.        ,\n",
              "        0.        , 0.        , 0.        , 0.        , 0.        ,\n",
              "        0.        , 0.        , 0.        ],\n",
              "       [0.        , 0.        , 0.        , 0.        , 0.21568628,\n",
              "        0.6745098 , 0.8862745 , 0.99215686, 0.99215686, 0.99215686,\n",
              "        0.99215686, 0.95686275, 0.52156866, 0.04313726, 0.        ,\n",
              "        0.        , 0.        , 0.        , 0.        , 0.        ,\n",
              "        0.        , 0.        , 0.        , 0.        , 0.        ,\n",
              "        0.        , 0.        , 0.        ],\n",
              "       [0.        , 0.        , 0.        , 0.        , 0.53333336,\n",
              "        0.99215686, 0.99215686, 0.99215686, 0.83137256, 0.5294118 ,\n",
              "        0.5176471 , 0.0627451 , 0.        , 0.        , 0.        ,\n",
              "        0.        , 0.        , 0.        , 0.        , 0.        ,\n",
              "        0.        , 0.        , 0.        , 0.        , 0.        ,\n",
              "        0.        , 0.        , 0.        ],\n",
              "       [0.        , 0.        , 0.        , 0.        , 0.        ,\n",
              "        0.        , 0.        , 0.        , 0.        , 0.        ,\n",
              "        0.        , 0.        , 0.        , 0.        , 0.        ,\n",
              "        0.        , 0.        , 0.        , 0.        , 0.        ,\n",
              "        0.        , 0.        , 0.        , 0.        , 0.        ,\n",
              "        0.        , 0.        , 0.        ],\n",
              "       [0.        , 0.        , 0.        , 0.        , 0.        ,\n",
              "        0.        , 0.        , 0.        , 0.        , 0.        ,\n",
              "        0.        , 0.        , 0.        , 0.        , 0.        ,\n",
              "        0.        , 0.        , 0.        , 0.        , 0.        ,\n",
              "        0.        , 0.        , 0.        , 0.        , 0.        ,\n",
              "        0.        , 0.        , 0.        ],\n",
              "       [0.        , 0.        , 0.        , 0.        , 0.        ,\n",
              "        0.        , 0.        , 0.        , 0.        , 0.        ,\n",
              "        0.        , 0.        , 0.        , 0.        , 0.        ,\n",
              "        0.        , 0.        , 0.        , 0.        , 0.        ,\n",
              "        0.        , 0.        , 0.        , 0.        , 0.        ,\n",
              "        0.        , 0.        , 0.        ]], dtype=float32)"
            ]
          },
          "metadata": {},
          "execution_count": 18
        }
      ]
    },
    {
      "cell_type": "markdown",
      "source": [
        "### Because above is multiclass classification problem you need to one hot encode y data"
      ],
      "metadata": {
        "id": "QlN6p9jRJRbD"
      }
    },
    {
      "cell_type": "code",
      "source": [
        "import numpy as np"
      ],
      "metadata": {
        "id": "-EZyvLqzXjX3"
      },
      "execution_count": 19,
      "outputs": []
    },
    {
      "cell_type": "code",
      "source": [
        "# Make sure the image shape is (28, 28, 1)\n",
        "xtrain_scl = np.expand_dims(xtrain_scl, -1)\n",
        "xtest_scl = np.expand_dims(xtest_scl, -1)"
      ],
      "metadata": {
        "id": "SScha24tXgtX"
      },
      "execution_count": 20,
      "outputs": []
    },
    {
      "cell_type": "code",
      "source": [
        "from keras.utils import to_categorical"
      ],
      "metadata": {
        "id": "OHcIF1bOJEtP"
      },
      "execution_count": 21,
      "outputs": []
    },
    {
      "cell_type": "code",
      "source": [
        "ytrain_cat = to_categorical(ytrain)\n",
        "ytest_cat = to_categorical(ytest)"
      ],
      "metadata": {
        "id": "Uf-t44IoJaw2"
      },
      "execution_count": 22,
      "outputs": []
    },
    {
      "cell_type": "code",
      "source": [
        "ytrain[0:5]"
      ],
      "metadata": {
        "colab": {
          "base_uri": "https://localhost:8080/"
        },
        "id": "ic0smqiHJgb9",
        "outputId": "bc668170-a1a0-494d-9c33-bba3bc9a1411"
      },
      "execution_count": 23,
      "outputs": [
        {
          "output_type": "execute_result",
          "data": {
            "text/plain": [
              "array([5, 0, 4, 1, 9], dtype=uint8)"
            ]
          },
          "metadata": {},
          "execution_count": 23
        }
      ]
    },
    {
      "cell_type": "code",
      "source": [
        "ytrain_cat[0:5]"
      ],
      "metadata": {
        "colab": {
          "base_uri": "https://localhost:8080/"
        },
        "id": "e4JVuulZJhow",
        "outputId": "ecfbc409-b32d-4d05-c520-5074c7618780"
      },
      "execution_count": 24,
      "outputs": [
        {
          "output_type": "execute_result",
          "data": {
            "text/plain": [
              "array([[0., 0., 0., 0., 0., 1., 0., 0., 0., 0.],\n",
              "       [1., 0., 0., 0., 0., 0., 0., 0., 0., 0.],\n",
              "       [0., 0., 0., 0., 1., 0., 0., 0., 0., 0.],\n",
              "       [0., 1., 0., 0., 0., 0., 0., 0., 0., 0.],\n",
              "       [0., 0., 0., 0., 0., 0., 0., 0., 0., 1.]])"
            ]
          },
          "metadata": {},
          "execution_count": 24
        }
      ]
    },
    {
      "cell_type": "markdown",
      "source": [
        "![image.png](data:image/png;base64,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)"
      ],
      "metadata": {
        "id": "48OtbisOJ0Q0"
      }
    },
    {
      "cell_type": "markdown",
      "source": [
        "## Build the neural network"
      ],
      "metadata": {
        "id": "zAyByl4QJ5Fp"
      }
    },
    {
      "cell_type": "markdown",
      "source": [
        "![image.png](data:image/png;base64,iVBORw0KGgoAAAANSUhEUgAAA+MAAAGUCAIAAADRXmTXAAAgAElEQVR4Aeydd1hUV/7/PzMMQ2dogoKK2AuCir1hLyjYUBNFibHFWIgRWyxYsKARxYYIY7pJTEKKGmNMMIlJRMXZbDabsr9ddzebTUwziW3+y/Njvoc93ty5DDD3znDvzNuHJzlz5tTXmXt5cebcc+h3/AMBEAABEAABEAABEAABEFAfAVJfk9AiEAABEAABEAABEAABEACB32Hq+BCAAAiAAAiAAAiAAAiAgBoJwNTVOCpoEwiAAAiAAAiAAAiAAAjA1PEZAAEQAAEQAAEQAAEQAAE1EoCpq3FU0CYQAAEQAAEQAAEQAAEQgKnjMwACIAACIAACIAACIAACaiQAU1fjqKBNIAACIAACIAACIAACIABTx2cABEAABEAABEAABEAABNRIAKauxlFBm0AABEAABEAABEAABEAApo7PAAiAAAiAAAiAAAiAAAiokQBMXY2jgjaBAAiAAAiAAAiAAAiAAEwdnwEQAAEQAAEQAAEQAAEQUCMBDZt6eXk54R8IgIBTBEwmkxpvSGgTCIAACIAACICAgICGTT0vL4+IsrOz8/APBECgIQRSU1OJNHztC+5gCIIACIAACICAJxPQ8G9rZuoVFRWePD7oGwi4gAC7dlxQMIoEARAAARAAARBQkgBMXUmaKAsENEEApq6JYUIjQQAEQAAEQACmjs8ACHgdAZi61w05OgwCIAACIKBNAjB1bY4bWg0CMgjA1GXAQ1YQAAEQAAEQcB8BmLr7WKMmEFAJAZi6SgYCzQABEAABEAABxwRg6o754F0Q8EACMHUPHFR0CQRAAARAwBMJwNRrHdXCwsKGbHyHtCCgGIHy8vJaP5dKvAFTV4IiygABEAABEAABlxOAqUsjrqiocOo8GWQCAWUISH8uFYqFqSsEEsWAAAiAAAiAgGsJwNSl+TJTP3t0ldVixg8IuJPAoJQOrj6WCKYufdkjFgRAAARAAARURgCmLj0gMHV3uinqEhKAqUtfk4gFARAAARAAAe8jAFOXHnOYutAdEXYnAZi69DWJWBAAARAAARDwPgIwdekxh6m7001Rl5AATF36mkQsCIAACIAACHgfAZi69JjD1IXuiLA7CcDUpa9JxIIACIAACICA9xGAqUuPOUzdnW6KuoQEYOrS1yRiQQAEQAAEQMD7CMDUpcfca009Njq8V2JroTg6Hb5xsbjqxJabl486XYJ3ZoSpS1+TiAUBEAABEAAB7yMAU5cecwVN/ZfKIwWPTu+V2NoUHBDob+zcJjZn1ui/n3lcnRpKRLHR4Yq0bdqYPkSUOydNkdIcF5KV3r9Ni+gvThY4TqaJd2Hq0tckYkEABGQQOHbsWCr+gUBjEMjJyZHxyUXW32Hq0h8CpUz9q9O72sXHEJGvwadnYkJqr44xkSYiCgny/+z1HSoURydM/eblo5mjetsb+dzJqUS0dekUN3SzV2JrIrr0fJ4b6nJ1FTB16WsSsSAAAjIIKHMkG0oBAacIVFRUyPjwentWmLr0J0ARU79xsbhDq2ZElD6k+3/e3ccM705V2fO7H46PjXrj0HJXO58T5Tth6j9+eJiI2rdqKqru7tWyHy4cEkW66CVMXfpzXEssTj6qBQyiQcBjCRDRoJQOLroDo1gQqI3AuoUZRARTl3NngalL01PE1DctnkRE3TvF26/V/u1Sye2qUtEn++ePi//z7r5bV8TxomS/XSr57/miu1fLRPH1f3n9/QPfnt8vWYKCpu6gPYr3tD6m/tulkn+f2/tL5REHDXP81vUPDl5//4DjNDcuFteZxnEJmFOXviYRCwIgIIMATN3xjRfvuogATF3GVVuTFaYuzVARU4+NDiei8qIcxxfA3atlRWuz2Ow7EfkZDWmDkqtObBHmahplyp4w8F/nCqeN6eNr8CGiuJjwp3csZGnePJJrCg6YnTFQmMVqMe/Ovc8UHPDktgUs/ocLhx6ZPTo6MpR9eRVuCpqfOeS/54uEuUSmPnpA1yYRod+99wc9HdU/MToy9PsLB60W86j+ic2ahBGRwUcfGx0eGx0+ZmASK7Bw9UxTSOALjy/m5cvvKS9KFHBg6rerSvetyerRuZVeryMivV7XJ6nNh8+sZyWMHtA1Kjzk8oubhQX+9NHhVnFRXds1Z5F3qsp2rZgeHxvFuMVGh+cvy7xTde8vpT2rZoSbgv70Sv7a+elGXwMRPb7yfmGBDQrD1KWvScSCAAjIIABTb9B9GImVIgBTl3HV1mSFqUszlG/qfy7fRkQBfsY658jnTbGt546JNC2dOWrdwoxhfTqzheyXXtjEL5Vq409q36JF04io8JD5mUPGDU4mIp1O99GzG6wW8/cXDvobfY2+BtFsbqfWsUT0+cmdVov554+Lu3WMZ+Wsnjs+d05axwTbypyOCc1+/PCwsCLhE6VJ7VsQ0b/OFfIEVouZRX5TYVP8VXPHpQ/tzho8cXjKxOEp6xZmsMTs+jy8IZvnld9TXpQo4MDUizc+QEQ9OrfKnZOWvyxzfGo3IgoLDWR/orBGLp05Sljg0zsWEhH/yycrvT8rYc+qGZsXT+7cxkZ10fRhPAsrZOLwFCLqldi6T1Kb/GWZ/N2GBmDq0tckYkEABGQQgKk39FaM9IoQgKnLuGprssLUpRnKN/WX9i61aXGHlo4/6ycPPUpErZtHXzu7h6dcOz9ddFdls7l9ktp8e34/S7Z67ngimjGuH3s5eWRPIirZNIcXUnViCxH1TW7LYlY+mMZWzP92qYTF3Lx8dEivTkTE3dpqMYvm1Os0davFXNs6dZGpK9VT3kFhwIGpW17eeq5stTBx5qjeRPTUdttXDV+cLNDpdE2jTMI58vQhtr89zpTkWi3mNw4tr15jN7hnB87txsXiNi2idTrdX9+oeSaY9VSpx2dh6tLXJGJBAARkEBD9ThHeEhEGAdcRgKnLuGprssLUpRnKN/WyLXPrc2dkhn0k755hWy3mHy4cCgrwI6J/vl0zmU1EpuAA4SqUL08VEFFi25oVGuwPgxH9uvDrbc08m8oXrc1iMU0iQnU6nWjDmTMluUTULj6G53KdqSvVU95UYcCBqQuTsfCBdbOrl8FsWVKzKc3AHu2r58JPF69g735/4aCf0RAbHc7cfepom9Yza+dFsScQOFt2Jxqf2o0nkBOAqUtfk4gFARCQQaA+v4/k3LiQFwQkCcDUZVy1NVlh6tIM5Zs6W0HRu2sdpwi1bBbJF6gIP+X9urUlopOHHmWRIoG2Wsy/XSoholZxUSzBzctHI0zBBh89W5RitZjbxcf4GnzYGg+m9c1jIoRVWC3mm5eP6nS21du/VtZMtIsqUnBOXameirrAXtZp6jcvH7360tZTh1c8s3PhQ9OGEdHqueNZ3iN5c4hoVsYA9rJ0s+1PrOXZY9jLti1tm2yumTd+xyPT+A/7q2PlgzVbxbM7kXCdD8vr3H9h6tLXJGJBAARkENCWqSt4Bp9z92HkUooATF3GVVuTFaYuzVC+qbPp6qZRJscf9+BA29z5zx8Xi5Kxxd/P736YxYsE2mox37pSSkQtm0XyjAumDiWi/Y/NslrMl57PIyI+y/vxcxurvT+lSwJPzAOmkEAi4s+ViipS0NQV7ClvPA84MPXbVaVr56ebggNEm8ByU//hwqFAf2NoUADbFmb0gK5ExJ8xjQwLJqLQoABT8B9+wkID+VojmLr0VYRYEAAB1RBQlamfKFyS3LFlUvsWf/jp0PLTV7ezu7roNxG/1as5cOtKaec2sf261aw4VXNT3dk2mLr8ewBMXZqhfFO//v4BNl39SXm+g6siKjykekL3H2+Jjyzt362dcNGF/W3L3tTPP7GWrai2Wsy5c2yr0p8rWMSqtry8lYjatIgWteTm5aN6vU6v1/HHXkUVJXVoKVyEw7ILnyit/zp1BXsq6oXVYnZg6mwV0IDu7c+Vrf72/P5bV0rZwiRu6laL+f60fgzXt+f3+xp8+Joiq8XcomkEEX11epd9pTwGpi59FSEWBEBANQRUZeorHhhLRJFhwa2bR/OfNi2i//RKza9L0W8ifrOtLWB5eWvG0B5P5M8XJVi3MGPKyF72c2GiZIq8/KXyCFunqkhpHlMITF3+PQCmLs1QvqlbLebhfW27uGRPEG+eKLwCB3S3LZIWbmXI9mkxhQTq9Tq+MN3+tmVv6laLOSGuiV6vu3Z2T+vm0XyS2Gox/1J5xNfgY/DR//vcXmHt7z35GBEld7z32Kuoor7JtkU4V1/aynPdripNiGtCRHyZzc8fF0v+GSDyV2V7ytvDAg5Mnam2cPuaY/nzhKtfqkX/dPEK9rjtofXZ1QfKbsu5t3ML24rn9YOOjqkS9VTUtoa+xOoX6WsSsSAAAvUjcOPGDfuEKjT13bn31XZ7FP0mqi0Zj3+laFn1b6V5U1J5DAt072Tb8Ux4/xclUPAlTF0SJkzd/mJsaAxMXZqYIqZecWwt28NbtP325yd3ThyecqJwidViLnh0OhH1TEz46aN7WyWyT3b60O78c29/25I0dTZ/PGOcbYaYbzLICmEbOz407d7egr9Wlozo14WIdufe2/xbVNGcSYOJaO38dFbIrSulrHChqVstZn+jb6C/kS92Z4lF/qpsTzkZFnBg6mx9PL9T37pSylaZC+fU71SVNY+JMPoa2Lbrfz9z7yuOvWtmEtGQXp1Ex1fxrWCsFrOop6K2NfQlTF36mkQsCIBA/QiYTKa8vDyRr3uGqX/33gG+VlN4a3XO1G9dKf3Pu/uEN3NhmTxcz9MG62nqP310+Ot39vLvsXkt9Q+45wy++rfHcUqYev2uWkepYOrSdBQxdXb2EFsDkxDXJCu9/wMTB/Xv1k6v1+l0unfMtq0Db1wsZvuaJ7ZtvnP5tKK1WRlDexBRVHjIl6cK+AUgEmjJdepWi5lt4s4WZIu2K7n60la2n8zYQUn71mTtWjGdba/eJ6mN0EFFFbEF7nq9bt6U1O05U7t1jA8O9OvSNk5k6my+PG1Q8racTP4spshfle0pJ8MCzNQHdG8/dlAS/3n4vuFWi5lt4t43ue3xXYueyJ/fMzEhJMhfNKfONoZn3FJ7dRQW/mtlCVsClNyxZdHarOcKFhWunjl1dO+gAL+v36n5gkLUU2F2J8IwdelrErEgAAL1I8BuZSJf17Sp/+mV/Jnj+0eYbE8NVe9pFm4Kyp2TxmT3+vsHWjaLZG8FBfixA/jyHp604aEJsdHh7KDAplGm2Ojwls0i2YF9Vov5k/L89CHd2UF1Bh/9qP6JlpfvfXVstZgdnzYoeWN3bOrfvXdgxQNj2TfSRORv9J00oif/JaLCM/gk++hEJEy9fleto1QwdWk6Spm61WJ+80juwB7tffR6dovxN/qmDUo+/8Ra/on/+p29maN6s1tG9Z7cPnp92qBkvlc3S2bw0fNtXljMnaoyg4++bct7GyyyeLZpTEJcE+EG4eytj5/byFazsJYEB/otmj5MeOyR1WK2r2jfmiz2MChbJ3Px+MZZGQN0Op3wlKWLxzeyqWsi4jtFsq0My7bMZbVbLWZle8qLtVrMszIGsE4J/9sxoRlbRj9lZC/29xIRDe3diS3o3/DQBGEJf3ltu8HHNkaiHTOtFvN37x3InjDQ3+jLC4+JNC2ZMYITtu+psOSGhmHq0tckYkEABOpHgN+pbMum/ze/rmlTj4sJDwnynzm+f/6yzNw5aeyk7ccW2E7Zu3GxeOro3vwXHzuA77mCRU9uWzBxeEpYqG3LhLRByROHp0wb04dNS116YVNoUIDR17Asa1TR2qwHJw/20etNIYHCX7uOTxuUvKs7NvX70/r56PVjByWtXzhh46KJyR1tz4AN7NGeFcV0VlVn8En20YlImHr9rlpHqWDq0nQUNHX2yf7xw8Ofvrr9i5MFtX3R9tNHh6+c2Hz5xc3XPzhofzH8UnnEPqNk5J2qsu8vHLxdVWpfCIv5pqKo8njen17Jty+QrWi3j79xsfjSC5vYWadsOt/+AZ27V8v+9ubuz17fwf317tWyHy4csm+GUj21L9lBzPX3D1x6YRPfn/7nj4vvXi0Tpv+l8khYaKC/0ZdPugjftVrMv1aWWF7eWnk8z/7x39p6Kiqhni9h6tLXJGKVIFBYWJiKf55OQGjqLGwymVRo6usXTvj7mcf5j3BZi+jb3ae2LxD+ZrS8vFWn0wlPAmnQ6pfeXVtXLzo9dbjmDA2rxXx4g+0JJX6SIDsEsHpTBwenDdrfzx2b+qnDK4Tnmfx2qYQ9Q8V+K6nwDD77DjoXA1OXf+eGqUszVNzUnfuII5fbCJi32h4zzRzV22011lYRTF36mkSsEgRSU1NNJpOnm6q398/e1FNTU1Vo6qJ2RoWH8LuiyNR5PA/ERJr8jAY+4VJ/U2drRAd0r5nMZgXerir1N/o2iQjl5dd52iBPyQOOTZ0n4wF2rN57Tz7GYtR2Bh9vp8wATF3+nRumLs0Qpi7z4tRcdrYtZnlRTqO3HKYufU0iVgkCzGGVKAllqJeA0IBTU1MrKip+//13FZr60N6dVjwwlv/sWjGd334lTf3f5/a+/9S6F/csfnrHQrYAhj+XWX9Tf3LbAraLAz/JjgXYmRv8K2X7BohOG+RN5YH6mPoPFw5dPL6xvCjn6R0LU3t1FB6PrbYz+Hi/ZAZg6vLvFDB1aYYwdZkXp7ayf35yJxE1axLG7/uN2H6YuvQ1iVglCMDUlaCo9jKYqXNHZ81VoanXf5fGyuN5woes+J8i/I5df1Nn23kZfQ2iw+xMwQGd28TyhaP2pi6535rwN4VjU//v+aLMUb3ZE668/UJTV9sZfMKuyQnD1OXfL2Dq0gxh6nKuTM3lvVNV9ufybcJ1kI3YBZi69DWJWCUIwNSVoKj2MkSOzpqrXVP/z7v7wkIDfQ0+O5dP+/JUwa+VJbeulLZuHk1ETph6yaY51acNzsoY4Pgmr7ips69t50wafOXE5h8/PHzrSmn2hIFCU1fbGXyO+dT/XZi6/PsFTF2aIUy9/tchUipLAKYufU0iVgkCMHUlKGqyDO2aOnPr+ZlDhHdakam/uj+HiOZMGixMY7WYU7okiE4BrzhmO8y7V2JrUUrRS2VN/YuTBUTUoZVtOzL+88DEQSJTV9UZfLydMgMwdfn3C5i6NENm6sKvqBAGAXcSkP5cKhSbl5dHpOFrXyEM3lgMTN0bR/3/+qxdUz+66UHR+aPvP7UuwM8onFN//6l1bBNekVaO7JdY3fF3j63h8TcvH20aZdsJ580juTySBfgidbb3S2x0uDCBnNUvX54Sm/rX7+xt36qpyNRVdQafsO9ywjB1+fccDf+2ZrbBnpWRD8K+hMLCwjz8c4oA22fAqazIZCNQXl5u/4FUMAamriBMbRUFU9fWeCnYWu2a+hcnC/yNvkZfw+bFk18pWrZq7jg/o4EdYMdXv1z/4GBIkL9Op1t8/4gND004tD6byeXa+elE1KVt3PacqbMzBrLzQ57esVCn0/kafJbMGPn0joXVh36snju+a7vmC6YO5Urq9Jy6wce2abrwhzWmQ6tm7Ozwl/ct27NqRmy0bYd4kamr6gw+jkJmAKYu/yqGqctniBLEBCCCYiIqe40BUtmAuK85MHX3sVZZTaoydSbQ+9Zk1WaBojP4TuxZ0qxJGPtWMyw08PGV98/PHGLw0fPjO6wWs3nrvEB/20Q7EW1ZMoWV/O35/Ww9IRGFhQb+9NFhFn+icAk7HZylN/jo+3drJ5x6FzXAajHXdtog78Ldq2Wt4qJYgcL/sj8A/vRKfo/OrVi8r8Fn3pRUtqrnXJnttHL+o54z+HiTZAZg6vLvBDB1+QxRgpgARFBMRGWvMUAqGxD3NQem7j7WKqtJVaZ+96rthD4HCmh/rt/tqtLPT+68cmIzW6Nyu6r0l8ojohJ+u1Ty6avb7Q+n+/qdvX96Jd8+/bWzey4e3/hJef6Ni8WiouwbUNvJgKKMjl/+8+3CS8/n8d0L+F8OPJd6zuDjTZIZgKnLvxPA1OUzRAliAhBBMRGVvcYAqWxA3NccmLr7WKusJlWZukz58+Ds6jmDTynIMHX5dwKYunyGKEFMACIoJqKy1xgglQ2I+5oDU3cfa5XVBFNXSj1dWo56zuBTqpswdfl3Api6fIYoQUwAIigmorLXGCCVDYj7mgNTdx9rldUEU1dKPV1XjqrO4FOqmzB1+XcCmLp8hihBTAAiKCaistcYIJUNiPuaA1N3H2uV1QRTV0o9XVeOqs7gU6qbMHX5dwKYunyGKEFMACIoJqKy1xgglQ2I+5oDU3cfa5XVRERJ7VucPboKPyDgTgJZ6f2JyHUbaqvsOnNJc2DqLsHq5YVCBFX+AcAAqXyAXNc8mLrr2Kq8ZFNwgHDrQIRBwJ0EYOpy7g8wdTn0kFeaAERQmotqYjFAqhkKdzcEpu5u4qqpz2Kx4GA5pwlkZ2cTUXZ2ttMleHPGwsJC1VwHmmwITF2Tw6byRkMEMUAqJ+C1zYOpe+3Qo+NyCFRUVGAJhxyAyCuHAExdDj3k/QMBi8VS8X//2PQDC1dUVNy4ceMP6fCisQngT6nGHoFGqx+m3mjoUbGWCcDUtTx6mm87TF3zQ6ieDjD/s1/6du3aNfU0Ei35/fffYepe+zGAqXvt0KPjcgjA1OXQQ16ZBGDqMgEi+z0CN27cMJlMIlPPzs6+lwIhdRCAqatjHBqhFTD1RoCOKrVPAKau/THUcA9g6hoePBU23X5aHRPqqh0mFTYMTXI1AZi6qwmjfI8kAFP3yGHVSqdg6loZKW20UzStjgl1dQ4b5tTVOS5uaBVM3Q2QUYXnEYCpe96YaqhHMHUNDZY2miqcVseEujrHDKauznFxQ6tg6m6AjCo8jwBM3fPGVEM9gqlraLC00VQ+rY4JddUOGExdtUPj6obB1F1NGOV7JAGYukcOq1Y6BVPXykhpqZ1MBDGhrtoxg6mrdmhc3TCYuqsJo3yPJABT98hh1UqnYOpOjlR5eblokxO8BIF6EjAFBzj5sVMoG0xdIZDaKwamrr0xQ4tVQACmroJB8N4mwNSdHHvmOusWZuAHBBpEYFBKB6JGvu5g6k5e9trPBlPX/hiiB41AAKbeCNBR5f8INLIx/K8Zzvyf2UZFRYUzmWXnYbVbLWb8gECDCKxbmAFTl339oQAnCcDUnQSHbN5NAKbu3ePfyL2HqTs5ADD1BumpKPFHz24IDQpYMmMEj//rGzv+9uZu/lLxwI2LxYqX6VyBMHUnLzlkU4IATF0JiijD6wjA1L1uyNXUYZi6k6PhIlPPe3hSh1bNunWMf3rHQgciuHDa0I4Jzbq2a255eauDZA1666W9Szu1jm3fqmn7Vk07tY7t363dkhkjFSxf2JizR1cR0X1pfVnkZ6/vICJfg88PFw4Jk8kM371a9uS2BUN6dQrwMxKRKTggK73/tbN7hMX+9Y0dyR1bsl53aNWsR+dWYwYmbVw08S+vbRcmUzAMU3fykkM2JQjA1JWgiDK8jgBM3euGXE0dhqk7ORouMvXeXVsTkY9eXz3l/NNHhyUF8dThFSwNET2RP18yjRORKx4YS0TNYyK6d4rv2q65KTiA2XPp5rlOlOY4i8jU/9+Z3YH+xsiwYGVnvh/NtvUoKMCvb3LbXomtDT56ImoVF3X9g4O8ea8fXG6T+JDA7p3iu3eKb9082uhrYHhzZo2+XVXKUyoVgKk7eckhmxIEYOpKUEQZXkcApu51Q66mDsPUnRwNF5l6r0SbqY8ZmEREhzdkS9rh+NRuOp1u3OBkIjqWP08yjRORzNR3597H8t68fHTvmplE5Gc0fHV6lxMFOsgiMnWrxXy7qvROVZmDLE68lTNrdN7Dk/g8/QdPr/Mz2iy84NHpvDRm6ulDuvOYHy4c2v/YLFNIIBE9OHkwj1cqAFN38pJDNiUIwNSVoIgyvI4ATN3rhlxNHYapOzkaLjX1F/csJqKULgn2dvjV6V0+ev3IfolLZoyQNPW7V8v+8+6+f5/b21DxFZk6q3rsINvfDFzfeXt+qTxy7eyenz92tPj71pXSf50rvP7+AZ6LB+xNnb9lH2Dl3Lx81P4tFvPDhUOStdinzxzVW7jqxmox25s6y1V5PM/f6EtEb5WstC9HTgxM3clLDtmUIABTV4IiyvA6AjB1rxtyNXUYpu7kaLjU1D97fUdKl4TqyfXK43kiKcydk0ZEJwqX2Jt61Ykt08f2YZPBbFl2zqzRv10qYSVMGdkrNCigeOMDvMC/n3m8RdOILm3jWIykqa+eO56IhI9+njq8om9yW71eR0Q6na57p/gTe5bwMlng01e3TxyewlaHV/850bJZZP6yTOFKEntTj44M7dYxnpczcXhKi6YRv1aW5M5JCw2yrcMJ9DcuyxolLMRqMT+/++EOrZqxXcxNwQHRkaHRkaHNYyKE61t4mVaLecHUoUQ0Z9K9mfLaTN1qMTMgE4b1EJYgPwxTd/KSQzYlCMDUlaCIMryOAEzd64ZcTR2GqTs5Gq429YPrZxPR/MwhQjX8tbIkKjwkLib8dlWpvanHRoebggNmZwzcuXzamnnjm0aZiGjFA2NZCR89u0Gv15lCAr9+Zy+LSR/anYj4o6uSpj5jXD8iynt4Esti3jpPp9P5GQ1zJg3evHjy7IyBbD3JwfWzeTurTmwJC7UtHUkblLxp8aSlM0fFRNpaMn1sH57G3tSJKDY6nCcYlNLB1+AztHcno6/h/rR+D0wcFBLkX718fOvSKTwN++ahXXzM4yvv3517f7v4GCLq163tg5MH879PeGIW6Jvclojyl2XyeAemfun5PCIKCw3kiRUJwNSdvOSQTQkCMHUlKKIMryMAU/e6IVdTh2HqTo6Gq039hwuHggL8RM+VmrfOI6IND02wWsz2pv7MzoXfX7j3rOQn5fk6nS4hrgn3y8X32xbMzBjXz2oxv7R3KRGN6p/I37U39S9PFQQF+BHRxUVkFGwAACAASURBVOMbrRbzNxVFQQF+Rl/Du8fW8FzvmFfrdLpAfyNff8KW2m/LuWfDX7+zt1mTsOr1PCcPPcoy1sfUiSgm0nTp+ZpvFViWmEgTr7pDq2b+Rl++l8vfzzzua/BJ7dWRJxAF/vLadp1O56PXf3GygL/lwNRvV5XqdLavDmqboeeFNCgAU3fykkM2JQjA1JWgiDK8jgBM3euGXE0dhqk7ORquNnWrxTwrY4DoudLeXW0bmDA3tTd1e1+MjQ43+Oj5gvUfLhyKiwknovKinBZNIwL9jUJnZaa+YOrQ08UrXjvwyM7l0yLDgoloVsYAVjJ7wHTm+P6iiob06lS9aUzZFtsWMVdf2sr2VxEtU9m4aCIRzc4YyPLW09TPHl0lrKtNi+jqpzz5dwI+en3Xds2FCVrFRYUE+QtjhOHRA7oS0eL7723i7mCdOsvI/lDhfwwIS3M6DFN38pJDNiUIwNSVoIgyvI4ATN3rhlxNHYapOzkabjD1d4+tET5XevH4RiLKGFqzbLo2U//HW4+/e2zNcwWLjuXPYwtgfqk8wrXyROGS6uUfbL/C7TlTeTxfls3WfLP/hgT5r52fzh/lzErvT0Qlm+YIc1kt5vULJxDR8uwxVov56KYHicje5t8utW2gzp+Rraepf/b6DmFdA7q3J6LPT+5kkc1jIsJNQb9W1izE/+69A35Gg/A7BGHegkenE1GXtnGijSAdzKnfqSpjc+q1bZcpLL/+YZi6k5ccsilBAKauBEWU4XUEYOpeN+Rq6jBM3cnRcIOpVz8xyR6XZCtAsicMJKJTh1cwKbQ39crjeX2S2ghVm4WFpm61mFs3t81MG3z0357fL/RLNqd+f1q/Y/nznitY9O6xNSKprV53TkSv7s8R5rJazGyunS2p37l8Grd2YTI2196hVTMW6ZypD0rpQERc3zc8ZPsLYcKwHhXH1r5dumpob9vU/q4V93Zg5A04sWeJj14fFR4i/A6BvevA1P9cvo2IosJDeDmKBGDqTl5yyKYEAZi6EhRRhtcRgKl73ZCrqcMwdSdHwz2mvj1nKnuu9Lv3DgT4Gdu0iL57tWbTcZGp/+fdfWGhgb4Gn53Lp315quDXypJbV0rbt2pKREJTZyvdw01BRLRo+jChetqvUxe+a7WYJ4/sKbkvJFPPVXPHWS3mfWuyiOiBiYNEeZma901uy+IVMfWMoT1CgvzZzjBEZPQ1PJo9lvPhDThTkutnNIQGBbDV9jyeBRyY+q4Vtmn4icNTRFlkvoSpO3nJIZsSBGDqSlBEGV5HAKbudUOupg7D1J0cDfeY+tfv7PU1+IQGBbD54x2PTOOaKDL1si1zRfsPWi1mkal/U1EUGRYcbgr67PUdTSJC9Xrdh8+s5wXWaepr56cT0cP3DedZWGBU/0QieuHxxVaL+UxJLhEltv3D8nGrxZy/LFOYV76pswnv1XPHf3/h4LvH1rz/1DrJ5z7ff2pdcKBfoL/xHfNqUbPZy9pM/dvz+9lTsPxLDMnsTkTC1J285JBNCQIwdSUoogyvIwBT97ohV1OHYepOjoZ7TN1qMWcM7cEOt/czGv57voirocjUn8ifL5rM/vCZ9eyBSD6nPn1sHyI6sM62oyJbUJ7UoSV/9LNOU2cL5U0hgZ++up03462SlTqdLjIsmNXya2UJew712YKHeJp/vPV4bLTtSdaPnt3AIuWb+uUXNxNR13bNn9y2oOLY2ksvbPryVMGtK6W8UqvFfPnFzWGhgf5G39PFNUuGhO+ysKSpXzy+MbFtcyKaNKKnfRaZMTB1Jy85ZFOCAExdCYoow+sIwNS9bsjV1GGYupOj4TZTf3V/Dltufn+abXdF/iMy9f93Znegv9Hoa9i8ePIrRctWzx3vb/Rle5Azh2ZKmtIlgW0Fc/dqWb9uts3Fdy6vmaev09T5djSRYcFr56cfXD97yYwRRl+DXq9jE+qsbexvAB+9fsHUoQfXz964aCLbT33JjJG88fJN3Woxz88cIlqU72vwuS+tL19/37lNLBElxDWZODxF+DNpRM9PyvNZYxiW2OjwzFG9M0f1HjsoqW1L277sRDRlZC9lnyVlNcLUnbzkkE0JAjB1JSiiDK8jAFP3uiFXU4dh6k6OhotMvX+3dkT01eldXGpvV5XGx0bpdLr3nnyMR1ot5uXZY4hIOHX98r5lbOradkBpSODu3PsWTR/mo9ezY4AS4poYfPR8VptNORt9DUEBfmzdCFvcsm9NlrAWUbh60nr13PGmYNuhoexfUvsWfJd0nvip7QtaxUX9Lwk1jTLtzr2fv2u1mCuOrRVu2li9PMbgo28VF8XTDOvTWcTBajEP73sv8qePDid1aGkKDnh6x8JX9+c8v/vhg+tns/0ixw5KYuVw5+Yt4QG+puWT8nx/oy+L1+l0oUEBHVo1m50x8FyZ9GoZ3kKnAzB1Jy85ZFOCAExdCYoow+sIwNS9bsjV1GGYupOjwUz97NFVyv6cLs594+ByUZlvHsl949Cjosi3Sla+tv8RUeSZIyuf3LbgSN6c04dXnD266syRlTzjG4cePfV/kcIspw6veP1ATXVvlax61a5AYWIePnNkpXnLvEPrs5/f/TCPtA88s+OhQ+uzn9y24K0SCUqvHXjkzJGVPNfJPzbP1mVJDv+LnDfFNqH+yKzRvISzR1e9eSQ30N/oo9cLI9UWZptdOvmxUygb+/QqVBiK0RIBmLqWRgttVQ0BmLpqhsIbGwJTd3LUmevwOVoEQKBBBJz82CmUDaauEEjtFQNT196YocUqIABTV8EgeG8TYOpOjv2NGzfy8K/xCGRm2jaTCQoKGjZs2H333Tdz5sxRo0aZTCbb4VAZGY3XrnrVXF5e7uTHTqFsMHWFQGqvGJi69sYMLVYBAZi6CgbBe5sAU/fesdd6zw8ePJiQkMBnsnU6XUpKyiuvvKL1frmh/TB1N0BWZxUwdXWOC1qlcgIwdZUPkGc3D6bu2ePr+b37/vvvP/vss88///zXX3/1/N4q1EOYukIgtVcMTF17Y4YWq4AATF0Fg+C9TYCpe+/Yo+deSwCm7rVDD1P32qFHx+UQgKnLoYe8MgnA1GUCRHYQ0B4BmLr2xkyhFsPUFQKJYryLAEzdu8ZbZb2FqatsQNAcEHA9AZi66xmrtAaYukoHBs1SNwGYurrHx8NbB1P38AFG90DAngBM3Z6Jl8TA1L1koNFNZQnA1JXlidIaRACm3iBcSAwCnkAApu4Jo+hUH2DqTmFDJm8nAFP39k9Ao/Yfpt6o+FE5CDQGAZh6Y1BXRZ0wdVUMAxqhNQIwda2NmEe1F6buUcOJzoBAfQjA1OtDySPTwNQ9cljRKVcTgKm7mjDKd0AApu4ADt4CAc8kAFP3zHGtR69g6vWAhCQgICYAUxcTwWs3EoCpuxE2qgIBdRCAqatjHBqhFTD1RoCOKrVPAKau/THUcA9g6hoePDQdBJwjAFN3jpsH5IKpe8AgogtuI2CxWPL+7192djYRZWdns5cVFRVuawMqAgGYOj4DIOB1BGDqXjfk/+swTP1/JPB/EKibwI0bN0wmE9n9u3btWt2ZkQIEFCIAU1cIJIoBAe0QgKlrZ6wUbilMXWGgKM7TCbC7pdDVs7OzPb3T6J+6CMDU1TUeaA0IuIEATN0NkNVZBUxdneOCVqmWgP20OibUVTtYntowmLqnjiz6BQK1EoCp14rG09+AqXv6CKN/yhMQTqtjQl15viixLgIw9boI4X0Q8DgCMHWPG9L6dgimXl9SSAcC/yMgnFbHhPr/qOD/7iMAU3cfa9QEAiohAFNXyUC4vxkwdfczR40eQIDdMzGh7gFDqcUuwNS1OGpoMwjIIgBTl4VPy5lh6loePbltLy8vZ5sM4r8NJbB69Wo/P7+cnJyGZkR6RqC8vFzux9eL88PUvXjw0XVvJQBT99aR/x2m7rVD//vvvws3MEEYBNxMwJsvPZl9h6nLBIjsIKA9AjB17Y2ZQi2GqSsEUpPFEFFWev+zR1fhBwTcSSArvT+Rhm2z0a92DbNjtoGjwhr9M4QGaI4ATF1zQ6ZUg2HqSpHUYjlEtG5hhtVixg8IuJPAuoUZMHU5dwyYuhx6yAsCmiQAU9fksCnRaJi6EhS1WgZM3Z16iro4AZi6zFsGTF0mQGQHAe0RgKlrb8wUajFMXSGQmiwGps7dEQF3EoCpy7xfwNRlAkR2ENAeAZi69sZMoRbD1BUCqcliYOru1FPUxQnA1GXeL2DqMgEiOwhojwBMXXtjplCLYeoKgdRkMTB17o4IuJMATF3m/QKmLhMgsoOA9gjA1LU3Zgq1GKauEEhNFgNTd6eeoi5OAKYu834BU5cJENlBQHsEYOraGzOFWgxTVwikJotRj6mfKFyS3LFlUvsWSe1bJHdsObhnhxnj+h3Jm/Pjh4e53qk8kJXev02L6C9OFqi8nWpoHkxd5v0Cpi4TILKDgPYIwNS1N2YKtRimrhBITRajHlNf8cBYImrWJCypfYsubeOaRpnYKTwRpuDnChapQS7rbEOvxNZEdOn5vDpTIgFMXeb9AqYuEyCyg4D2CMDUtTdmCrUYpq4QSE0WozZT3517H7fYv725e8mMEbr/+3d8lwZkHabOx67OAExd5v0Cpi4TILKDgPYIwNS1N2YKtRimrhBITRajZlNntle4eiYRhYUG2i+DuXu17JuKop8+qmN5zJ0qW7LbVaW16eN37x34tbKktnevf3Dw+vsHantXGF8fU//tUsm/z+39pfKIMGODwjcuFn9TUXSnqsxBrltXSr+pKBImYKwcQBAmdkMYpi7zfgFTlwkQ2UFAewRg6tobM4VaDFNXCKQmi1G/qVst5pQuCUR0YN1sbpDX3z+waPqwsNBAtkImqX2Ll/ct4+9aLeYpI3u1bRnz26WSNfPGm0JsyUKC/HPnpAkF9+ePix+ZPTrcFEREBh/9wB7tP311Oy/kTlXZrhXT42OjWBWx0eH5yzKF2XlKHnBg6rerSvetyerRuZVeryMivV7XJ6nNh8+sZ3k3L55sCgk8uP5eB1n8hGE9wk1BX53exV6+duARhoJ158HJg797796fEB8/tzEsNPBI3pwX9yyODAsmognDelgt5q9O78oY2iPQ30hEQQF+08b0uXGxmLe5sQIwdZn3C5i6TIDIDgLaIwBT196YKdRimLpCIDVZjCZMveDR6UQ0eWRPppU/fni4c5tYIpo0ouf+x2atfDAt3BSk0+mEK2QGpXTwN/oO79vZ6GuYNqZPVnr/oAA/Iip4dDp309kZA4koc1TvQ+uzNy6a2Kl1bOHqmfzdrPT+RNSjc6s9q2ZsXjyZ1bho+jCewD7gwNSLNz7ASsudk5a/LHN8ajf2RcF/z9tmvs8eXUVEyR1bCsu8dnaPXq9LiGvCIks2zdHpdE2jTJsXT96de/+o/olE1K1j/G+Xar4NYIWkD+lu8NG3bh49vG/n9CHdf60s6ZjQzOhrWJ495vCG7GVZo6LCQ6pObBFW1ChhmLrM+wVMXSZAZAcB7RGAqWtvzBRqMUxdIZCaLEYTpn7q8AoiSumSwJwyd04aEa2aO44r5ifl+QYffctmkXev1qwJGZTSgYiiI0P5852ni22FNI+JYLluXSn1N/p2bhPLC7lTVcYnm984tJyIBvfswD34xsXiNi2idTrdX9/YwbOIAg5M3fLy1nNlq4XpM0f1JqKnti+wWsx3r5axyfs/vZLP0+zOvY+I1s5Pt1rM/z1fFBTgFxkW/M+3C3mC+9L6EtGRvDkshpk6EY0bnHzz8lEW+e6xNUT00LR7f2DcuFjMKfGi3B+Aqcu8X8DUZQJEdhDQHgGYuvbGTKEWw9QVAqnJYjRh6u8/tY6IOiY0Y0LZNMrkZzRwq2aRw/p0rl7vwU2XmfpbJSuFDtqyWSQRfXt+v9Vivl1VGuBnjDAFs5fCZFaLeepom0afKckVxm9aPImIitZmCSOFYQemLkzGwgfWza5eBrNlyRT28rEFGUS0eu54nrJ3V9tOMmxBDkvMrJ0nqDi2loimjOzFYpipN4+JuP7BQZ7m/BO2NEN7d3K8boend1sApi7zfgFTlwkQ2UFAewRg6tobM4VaDFNXCKQmi9GEqbPp8N5dW1st5mtn9xBRhCl4xyPThD/dOsZXz7ufPPQoc01m6p+9/of57z5JbYjob2/uZmnmTk4lohZNIwpXzxTardVibtsyhojWzBsvrGLyyJ5EtPLBtNp0tk5Tv3n56NWXtp46vOKZnQsfmjZMqOafn9yp0+laxUWxwr86vUun0/GvER6cPJiIpo3pI2wP+26hT1IbloWZ+n1pfYXN++1SSZe2cUTUu2vrF/csvnWl1sdqhbncEIapy7xfwNRlAkR2ENAeAZi69sZMoRbD1BUCqcliNGHq+9ZkEdHU0b2tFvPVl7ayJzJNwQGin5hIE1+BLWnq/bq1JaIvT9WcTHTz8tG189ODA23r10OC/NctzOAiy57IDA0SVxEWGliyqWa1ib3OOjD121Wla+enm4ID2POp/L/CSfQB3dsT0fkn1lot5m05mUT0+Mr7WS2TRtj+SAj0N4q6bAoOmDNpMEsjaepWi/nrd/ZOHd2bPcnaomnEswUP2bfc/TEwdZn3C5i6TIDIDgLaIwBT196YKdRimLpCIDVZjCZMfeygpOp59P2PzbJazF+cLCCi+NiauefaFLM+ps7yXv/g4N41M9lBS4/MHs0iWzSNICK+6UpttYjiHZj6mnnjiWhA9/bnylZ/e37/rSulZVvmCufUrRYze+p04bShVos5uWNLg4/+63f2sipmjrc93lq6ea6oRuHL2kydpfnyVMGj2WP9jAYiKi/KEWZslDBMXeb9AqYuEyCyg4D2CMDUtTdmCrUYpq4QSE0Wo35TP1e2Wq/XhQT5swUqt67Y1pf7Gnx+uHDIgWLW39S5yPro9XEx4ewlW/X++sHlDqqwf8uBqTP1/9e5e8+DHsufJzL17y8cDPQ3RoYFW162fW8wekBXXgVbIr/igbE8xj7g2NRZevNWW6X3p/Wzz+7mGJi6zPsFTF0mQGQHAe0RgKlrb8wUajFMXSGQmixGzaZ+92rZswUPsRUjws3U2VKQNfPuPXzJLJPv02K1mOs09e8vHOQz1laL+ZfKI/5G32ZNwlhRe9fYjlsa0qsT30TFvgp7tXVg6uxhVm7qt66UslXvwtUvVouZbefSN9m2SufJbbZtYdgPW/MTGRb873M1s+ws/k5VGV+xI2nq/+/MbuGhTm+X2raDnD62Dy+5sQIwdZn3C5i6TIDIDgLaIwBT196YKdRimLpCIDVZjNpMPbljy8xRvSeP7Dm8b+cmEaHsTKIdj0wTCuVfXtseGmRb8J0xtEfp5rlP71i4LSdzWJ/OXdrG8WR1mvpLe5cGB/o9NG3YE/nzn8ifz9LnzKpZ/fJrZUlSh5Zsj/OitVnPFSwqXD1z6ujeQQF+Qr/n1bEAM/UB3duPHZTEfx6+b7jVYp43xfb0at/ktsd3LXoif37PxISQIH/RnLrVYmb7UVavUA8O9Pv54z+cTzQ/cwgRNYkI3bp0ynMFiw5vyH5o2rBmTcL4unNJU186c1SLphGPLch4rmBR0dosthfkK0V/OCVK1Av3vISpy7xfwNRlAkR2ENAeAZi69sZMoRbD1BUCqcli1GPq7GQf9qilj14fYQpO6ZKwPHvMFydrHgAVGmTViS3D+nRmT0myLB0Tmh1an83TsOUrooXmqb06EtE/3nqc7VA+ZmASLyE40G/lg2nCGfTv3juQPWGgv9GXP/0ZE2laMmOEg+0OZ2UM4Il5gG0u+eOHh6eM7KXT2Q4oZdsmsv0TNzw0gbfZajHfqSpLiGtSvUHNjHHiBSp3qsq2Lp0SFR7CSw4O9Js4PIV1x2oxs00bZ2cMFBb40bMburZrzrM0j4ko2+Josbswr0vDMHWZ9wuYukyAyA4C2iMAU9femCnUYpi6QiA1WYx6TN0JL7z+/oFLL2y6/OLm7947IMp+60qpaE7aajHfvHxUFHn9g4OXXtj0l9e2Cx1dWNSvlSWWl7dWHs/jQix8t6Fh1mB+etHPH0scQsQOHz11eIVk4Xevlv31jR0fP7fx85M7b1eJt1z88cPD9pFWi/mfbxdePL7x72ceV8OZR6xfMHWZ9wuYukyAyA4C2iMAU9femCnUYpi6QiA1WYymTV3SZTUd+dXpXXq9rlmTMAcz95ruIG88TF3m/QKmLhMgsoOA9gjA1LU3Zgq1GKauEEhNFgNT5+6ohgDbzJFvFqmGJrmoDTB1mfcLmLpMgMgOAtojAFPX3pgp1GKYukIgNVkMTN1FJupcsc1jInz0+isnNjuXXUO5YOoy7xcwdZkAkR0EtEcApq69MVOoxTB1hUBqshiYuqrs9qvTu66d3aOqJrmoMTB1mfcLmLpMgMgOAtojAFPX3pgp1GKYukIgNVkMTN1FJopiHROAqcu8X8DUZQJEdhDQHgGYuvbGTKEWw9QVAqnJYvj+fQiAgPsJaPKaUUejYerqGAe0AgTcSACm7kbY6qoKpq6u8XBva3JyctgHAP9tKIHk5GTb0UjJyQ3NiPSMQE5Ojns/7B5VG0zdo4YTnQGB+hCAqdeHkkemYb81PbJr6BQIuI5ARUUFEVVUVLiuCpQMArURgKnXRgbxIOCxBGDqHju0dXUMpl4XIbwPAhIEYOoSUBDlLgIwdXeRRj0goBoCMHXVDIW7GwJTdzdx1OcRBGDqHjGMWu0ETF2rI4d2g4DTBGDqTqPTekaYutZHEO1vFAIw9UbBjkoZAZg6Pgkg4HUEYOpeN+T/6zBM/X8k8H8QaAABmHoDYCGp0gRg6koTRXkgoHoCMHXVD5GrGghTdxVZlOvRBGDqHj28au8cTF3tI4T2gYDiBGDqiiPVSoEwda2MFNqpKgIwdVUNh7c1BqbubSOO/oLA7zB1r/0QwNS9dujRcTkEYOpy6CGvTAIwdZkAkR0EtEcApq69MVOoxTB1hUCiGO8iAFP3rvFWWW9h6iobEDQHBFxPAKbuesYqrQGmrtKBQbPUTQCmru7x8fDWwdQ9fIDRPRCwJwBTt2fiJTEwdS8ZaHRTWQIwdWV5orQGEYCpNwgXEoOAJxCAqXvCKDrVB5i6U9iQydsJwNS9/RPQqP2HqTcqflQOAo1BAKbeGNRVUSdMXRXDgEZojQBMXWsj5lHthal71HCiMyBQHwIw9fpQ8sg0MHWPHFZ0ytUEYOquJozyHRCAqTuAg7dAwDMJwNQ9c1zr0SuYej0gIQkIiAnA1MVE8NqNBGDqboSNqkBAHQRg6uoYh0ZoBUy9EaCjSu0TgKlrfww13AOYuoYHD00HAecIwNSd4+YBuWDqHjCI6IL7CcDU3c8cNXICMHWOAgEQ8BYCMHVvGWm7fsLU7ZAgAgTqJgBTr5sRUriMAEzdZWhRMAiolQBMXa0j4/J2wdRdjhgVeCIBmLonjqpm+gRT18xQoaEgoBQBmLpSJDVXDkxdc0OGBquBAExdDaPgtW2AqXvt0KPj3ksApu61Yw9T99qhR8flEICpy6GHvDIJwNRlAkR2ENAeAZi69sZMoRbD1BUCiWK8iwBM3bvGW2W9hamrbEDQHBBwPQGYuusZq7QGmLpKBwbNUjcBmLq6x8fDWwdT9/ABRvdAwJ4ATN2eiZfEwNS9ZKDRTWUJwNSV5YnSGkQApt4gXEgMAp5AAKbuCaPoVB9g6k5hQyZvJwBT9/ZPQKP2H6beqPhROQg0BgGYemNQV0WdMHVVDAMaoTUCMHWtjZhHtRem7lHDic6AQH0IwNTrQ8kj08DUPXJY0SlXE4Cpu5owyndAAKbuAA7eAgHPJABT98xxrUevYOr1gIQkICAmAFMXE8FrNxKAqbsRNqoCAXUQgKmrYxwaoRUw9UaAjiq1TwCmrv0x1HAPYOoaHjw0HQScIwBTd46bB+SCqXvAIKIL7icAU3c/c9TICcDUOQoEQMBbCMDUvWWk7foJU7dDgggQqJsATL1uRkjhMgIwdZehRcEgoFYCMHW1jozL2wVTdzliVOCJBGDqnjiqmukTTF0zQ4WGgoBSBGDqSpHUXDkwdc0NGRqsBgIwdTWMgte2AabutUOPjnsvAZi61449TN1rhx4dl0MApi6HHvLKJABTlwkQ2UFAewRg6tobM4VaDFNXCCSK8S4CMHXvGm+V9RamrrIBQXNAwPUEYOquZ6zSGmDqKh0YNEvdBGDq6h4fD28dTN3DBxjdAwF7AjB1eyZeEgNT95KBRjeVJQBTV5YnSmsQAZh6g3AhMQh4AgGYuieMolN9gKk7hQ2ZvJ0ATN3bPwGN2n+YeqPiR+Ug0BgEYOqNQV0VdcLUVTEMaITWCMDUtTZiHtVemLpHDSc6AwL1IQBTrw8lj0wDU/fIYUWnXE0Apu5qwijfAQGYugM4eAsEPJMATN0zx7UevYKp1wMSkoCAmABMXUwEr91IAKbuRtioCgTUQQCmro5xaIRWwNQbATqq1D4BmLr2x1DDPYCpa3jw0HQQcI4ATN05bh6QC6buAYOILrifAEzd/cxRIycAU+coEAABbyEAU/eWkbbrJ0zdDgkiQKBuAjD1uhkhhcsIwNRdhhYFg4BaCcDU1ToyLm8XTN3liFGBJxKAqXviqGqmT5o39cLCwgr8AwEQaAiB7OxsIg1f+5q5v6qvoTB19Y0JWqQBAjB1DQyS5zZRw7+tCwsLCf9AAAScImAymTz3toae1UoApl4rGrwBArUTgKnXzgbvuJyAhk39999/b8g0ItK6lQCbtXVrlaisIQSuXbvm8rsLKlAfAZi6+sYELdIAAZi6BgbJc5uobVP33HHRfM+wElrzQ4gOeCIBmLonjir65HICMHWXI0YFtROAqdfOBu/IIABTlwEPWUHAVQRg6q4ii3I9kQATdPsFhseOHfPE7qJPKiUAU1fpwGi9WTB1rY8g2u+RXcjt9QAAIABJREFUBGDqHjms6JTrCKSmpopMPT4+3nXVoWQQsCcAU7dnghgFCMDUFYCIIkBAaQIwdaWJojwPJ2A/rY4JdQ8fcvV1D6auvjHxiBbB1D1iGNEJTyMAU/e0EUV/XE9AOK2OCXXX80YNYgIwdTERvFaEAExdEYwoBASUJQBTV5YnSvMGAsJpdUyoe8OIq62PMHW1jYiHtAem7iEDiW54FgGYumeNJ3rjJgJsWh0T6m7CjWr+SACm/kceeKUQAZi6QiBRDAgoSQCmriRNlOU1BNi0OibUvWbA1dVRmLq6xsNjWgNT95ihREc8iQBM3ZNGs6F9sVgsefjnLIHk5GRnsyJfXnl5eUM/rkjPCcDUOQoElCQAU1eSJsoCAYUIwNQVAqnJYkzBAaINB/ESBNxGQJPXjDoaDVNXxzh4XCtg6h43pOiQJxCAqXvCKDrbByLKSu9/9ugq/ICAOwlkpfcngm06e93+/jvYOc8OOe0J5OXlMRWIj48nIhZOTU21WCz2iREDAiDgZgIwdTcDV1V1RLRuYYbVYsYPCLiTwLqFGTB1ObcCmLocesgrJiDczYp/p4bn5cWY8BoEGokATL2RwKuiWpi6O/UUdXECMHWZ1z9MXSZAZBcTEB4SwWQdz8uLGeE1CDQSAZh6I4FXRbUwde6OCLiTAExd5vUPU5cJENnFBETT6phQFwPCaxBoPAIw9cZj3/g1w9TdqaeoixOAqcu8+GHqMgEiuwQB4bQ6JtQlACEKBBqJAEy9kcCrolqYOndHBNxJAKYu8/qHqcsEiOwSBPi0OibUJeggCgQajwBMvfHYN37NMHV36inq4gRg6jIvfpi6TIDILk2ATatjQl2aDmJBoJEIwNQbCbwqqoWpc3dEwJ0EYOoyr38Nm/qNGzdw8JdqCWRnZ5tMJtU2Dw0rLCyUee9Adi0SgKlrcdSUajNM3Z16iro4AZi6zEtYw6bOztbhWwEiAAIg0CACMu8dyK5FAjB1LY6aUm2GqXN3RMCdBGDqMi9hzZt6RUWFTATIDgLeRgAnyHrbiPP+wtQ5Ci8MwNTdqaeoixOAqcu828DUZQJEdhDQHgGYuvbGTKEWw9QVAqnJYmDq3B0RcCcBmLrM+wVMXSZAZAcB7RGAqWtvzBRqMUxdIZCaLAam7k49RV2cAExd5v0Cpi4TILKDgPYIwNS1N2YKtRimrhBITRYDU+fuiIA7CcDUZd4vYOoyASI7CGiPAExde2OmUIth6gqB1GQxMHV36inq4gRg6jLvFzB1mQCRHQS0RwCmrr0xU6jFMHWFQGqyGJg6d0dFAneqyhQpx+MLganLvF/A1GUCRHYQ0B4BmLr2xkyhFsPUFQKpyWIa19THDkpKat+C/fRKbD1mYNLqueM/fGa9tjz1TlWZeeu8Ef26hIUG6nS6QH9jUvsWjy3IuP7+AW11xJ2thanLvF/A1KUBXrt2zRQc0KDdqZEYBJQikJycLP25VCgWpq4QSO0VA1PX3pgp1+JGNPVfKo8QkV6vY6beunl0oL+R3TDHp3bTiuZe/+DgwB7tichHr+/Xre3kkT1Te3X0N/oSUUyk6fKLmxuqvzcvH80c1Tt3TlpDM9Y//fFdi9KHdq88nlf/LIqnhKnLvIhh6tIAKyoqiCgrvf+6hRn4AQF3EmjZLJLItRcmTF36sveCWJi6FwxyrV1sdFM3BQdwC7x5+ehLe5e2i48hou6d4n+tLOFvqTYwZmASEfVKbP3lqQLeyG/P788Y2oOIWjaL/OHCIR5fn8CPHx4movatmtYnsXNpcmaNJqKndyx0LrsiuWDqtV6T9XvDtUJQvzY4mYrZhotOPmKmfvboKkU+pigEBOpPYFBKB5i6kzcFZKuLAEy9LkKe/L6qTJ3dEr89v5/J+qbFk+xvkreulP7n3X2/XapD4n+7VPLf80V3r0qvGr97teybiqLbVaX25VstZvbuTx8dlnxXGPnagUeIqGmU6bv3xAtdbl4+mti2OREVPDpdmKXOcH1M/e7Vsv+eL7p1Rbr9dVYBU/eASxqmLj2IMPU6r38kcBEBmLr0NYlYJQjA1JWgqNUyVGjqVou5vCiHGbBQtT8pz08f0t3oayAig49+VP9Ey8tbhbfcplGm7AkD/3WucNqYPr4GHyKKiwkXzRx/dXpXxtAebJlNUIDftDF9blws5oVcf//AounDwkID2SKcpPYtXt63jL9rH5g8sicRbc+Zav+W1WI+kjeHTbfzd0cP6NokIlSk9aP6J0ZHhn5/4aDVYh7VP7FZkzDWwdjo8Njo8Oq1+yz7lJG9kjq0vHWldNPiSZFhwUTkZzTMzhjIMrI0mxdPDgsNfOPQcl6j1WLetHhSWGjg6eIVVov51OEVcTHhwYF+RBRuCoqNDo+LCX/zSK4wvXvCmFOXecuAqUsDhKm75wJGLfYEYOrS1yRilSAAU1eColbLUKep36kqM4XYdJm7+KUXNoUGBRh9DcuyRhWtzXpw8mAfvd4UEvjXN3bwGyYRJbVv0aJpRFR4yPzMIeMGJxORTqf76NkNLM2vlSUdE5oZfQ3Ls8cc3pC9LGtUVHhI1Ykt7N0fPzzcuU0sEU0a0XP/Y7NWPpgWbgrS6XTHdy3iVYgCzKovPS+94PvTV7czn+aT30ntWxDRv84VCsthkd9UFFVP56+aOy59aHciCgnynzg8ZeLwlHULM1jiQSkdwk1BI/sl+hp8Mkf1XjJjZGx0OBGN7JfIS1syY4T9shYWyXpx6YVNE4ensK8seiW2njg8ZdKInldf+sMfPLw0lwZg6jJvGTB1aYAwdZdetyjcAQGYuvQ1iVglCMDUlaCo1TLUaepWi7lvclsienV/Drsx9u7amohOHbZNDLOfwxuyiWjGuH48hk2E90lq8+35/Sxy9dzxwjTvHltDRA9NG8az3LhYzKftc+ekEdGqueP4u5+U5xt89C2bRfI0/C2rxXzjYjGr8b/nbZJt//PTR7YV50T0n3f3sXfrNHWrxVzb6hf2WyAyLJj/4fHlqYIIk21y/VzZalZ+nabOkmH1i1YvV0G7YeoCGIIgTN3+ToQY9xCAqQsuRAQVJgBTVxiopopTramP7JdIRM8WPGS1mP9cvq3aRwd0by+8396uKvU3+jaJCOWRRGQKDhCuLfnyVAERJbZtztKcf2ItEQ3t3Uly1/OmUSY/o0G4GMZqMQ/r05mI/vRKPq+FB/59bi/bu4bH2AcC/Gy72Xx1ehd7S76ps0UsvKJF04cR0Zp541kMTF1TF5+sxsLUpfF5ranHRof3SmzNbw1yAjcuFled2HLz8lE5hXhhXpi69DWJWCUIwNSVoKjVMlRr6v262ebU2ZLrJ7ctqJ5Q75mYsOORacIftm8yf7qUiGKjw4W/IH67VEJEreKiWORvl0q6tI0jot5dW7+4ZzFflGK1mK+d3UNEEaZgYfk7HpnWrWM8EZ089KiwWBb+7r0DbMpcuFJcmIxPuvM5fvmm/tnr91b7WC3mY/nzhF8awNS1eh02vN0wdWlmCpr6L5VHCh6d3iuxtSk4INDf2LlNbM6s0X8/87jwIldP2P7253Tbpo3pQ0Qu3SmWty0rvX+bFtFfnLy3cxZ/S3MBmLr0NYlYJQjA1JWgqNUyVGvqTSJCq5eM/7l8m9Vi3rtmZvWDm0Zfgyk4QPTTuU0s38LF/ldV9fOXbKtEfs//+p29U0f31ut1RNSiaQSbs7dazFdf2somyEXlm4IDYiJNfC07L8dqMd+pKmOPt/7lte3CeB7+6xs7iCg0KIAvnlHc1F/db3v0dvSArqxSmLpWr8OGtxumLs1MKVP/6vQu9jyHr8GnZ2JCaq+OMZEm9gSJ6M9lfsE3bsD+9ldne2o7u2Hu5NTqEyK2Lp1SZwnyE/RKtK1rrO1ZH/nlu7MEmLr0NYlYJQjA1JWgqNUy1GnqHz27gZ0cxG6zJZtsm6jMyhjg+K5r/6vK3tRZCV+eKng0e6yf0baNTHmRbSn8Fydt62TiY2tm3x1XxN9N6tCSiJ7avoDHCAOlm+cS0fC+nXkkS//Pt2t9orTOdeoiSTBvtc2pTxnZi1WxZMZI+/YwfRc+F4t16lq9XAXthqkLYAiCipj6jYvFHVo1I6L0Id35UyZ3qsqe3/1wfGyUaHMlfnk3bsD+9ldne2p7Jubu1bKGHgNRZ121JYCpCz68dQdx8lHdjDw0BUzdQwe2Xt1SoanfvVo2vK9tdfhjC2q2Pak4ZltfXuciTPtfVbWZOvutwTT3/jTbM6m3rpQG+Bl9DT4N+g21dn46EQ3s8YcF9KzwW1dKmZeXbp7Lf0mxx2SFe63cripNiGtCRGzvF6vF/PPHtgdV27SI5rlYgM3XXDy+URjP1qmvXziBRa6aO656sf7eNTOFaWaO7199lJLQ1Jdnj6n+s+SJ/PnCZG4OY++Xel2ftSeCqUuzUcTUNy2exE5fs1+r/dulEv4tHr9mfv64+D/v7hMup+NvCQOOT3kQpqwtfP39A9+e38+/pBMms7/9Cd+VDNdm6pKJWaTiPa2Pqf92qeTf5/b+UnnEQcMcv3X9g4N1nnp942JxnWkc14I5delrErFKEICpK0FRq2WozdSvnd0zYZjtdM928TF8/ffNy0ebRtm+ebbf+ZsvUq/eONz+V5XI1P/fmd3Cc0/fLl1FRNPH9mG330kjbJuj86cz+T1ZWAWPZIF/vl3I1sovzx4jfEr1xsXiGeP6EVGXtnHC7HMmDSaitfPTWfZbV0pZMqGpWy1mf6NvoL9R2FSrxcx+C7Rv1ZQvlP3q9K5wUxARVR6v2Sbyifz57C8H/qt8/2Oz2GJ6oalvXTqFiPIeljhYStRB172Eqcu8ZcDUpQEqYupsA1T2dZuDa+Du1bKitVls9p1tyJo2KFm0VM7xKQ9vHsk1BQfMzhgoqmV37n2m4IAnt9V8W/fDhUOPzB4dHWlbEciOQpifOUS055To9ifn7IbC1TNNIYEvPL6Yt0p+T3lRooADU79dVbpvTVaPzq3YakW9Xtcnqc2Hz6xnJYwe0DUqPOTyi5uFBf700eFWcVFd29XsIXCnqmzXiunxsVGMW2x0eP6yTOGdes+qGeGmoD+9kr92fjpby/j4yvuFBTYoDFOXviYRqwQBmLoSFLVaRqObOtsdPHNU7/Qh3bt1jPfR623bondo+eWpPzxi9PSOhTqdztfgs2TGyKd3LCzbMnf13PFd2zVfMHUov5eKflWxmXLhOvWlM0e1aBrx2IKM5woWFa3NYjfwV4pqzjb6y2vbQ4MCqjdxzxjao3Tz3Kd3LNyWkzmsT+cubeN4FfaBl/YuZXf4Ni2iH5o27LEFGQ9OHsxWtDaPifj01T8sYf/4uY1sNfy8Kanbc6Z26xgfHOjHHnLlc+pWi3lA9/ZElDYoeVtO5vLsMaxS9lvAFBIYFR6yau64rUuntGwWSUTTxtT8pWG1mH+pPBIVHsJWru94ZBrbmp39KhSa+pmSXCIKCw3Me3jS0pmj3nvyMft+uToGpi7zlgFTlwYo39TZVlMBfsY658jnTbGt546JNC2dOWrdwgy2UVRIkP+lFzbx68fxKQ/fXzjob/Q1+hpEs7mdWttOdvj85E72LRt7sD2pfYvVc8fnzknrmGBbmdMxodmPH947SFl0+6vzmRgHZzewi/PwhmzeC/k95UWJAg5MvXjjA9W7CvTo3Cp3Tlr+sszxqd3YbYv9icIauXTmKGGBT+9YSET8L5+sdNv3iT06t9qzasbmxZPZeRmLpt/bppcVMnF4CvvStk9Sm/xlmcICGxSGqUtfk4hVggBMXQmKWi2jEU397tWyVnE1kx1EFOhvbNkscsKwHk9tX2D/9bLVYj5RuIT9hmLzIwYfff9u7d49tobfSw0+er7NC4u8U1Vm8NG3bRnDXn707Iau7Zqz7ETUPCai2vh5dqvFXHViy7A+ndkMDkvWMaHZofX3fmEJE/Pwpefzxg1OZqveWa4mEaFLZowUzXmx9PvWZLEjQqt3i0/u2PLi8Y2zMgbodDrhb+qLxzcyCyeiEf26sIzst8C5stUj+nVhtRh9DXMnp4q+E37HvLpF0wiWICbS9NT2BWy5/Et7l/IGWy3mRdOH6XS2x2p99Pp3zDXbsQsTuDoMU5d5y4CpSwOUb+ov7V3KZgscXwMnDz1afcxY6+bR187u4SnZerhBKR14DLsUHZzywA46Ltk0h2epOrGFiPomt2UxKx+0HfSQPqQ7/3ru5uWjQ3p1Et27G2rqDp6JEZm6Uj3lHRQGHJi65eWt/KgIliVzVG/+IM4XJwt0Ol3TKJNwjjx9iO3cuDMltlOX3zi0nIgG9+zAud24WNymRbROp+MH5rGeKvX4LExd+ppErBIEYOpKUNRqGaK7vfAWqs7wtbN7Lh7f+El5vmjjczajzO/JvPG/VB4RRf7z7cKLxzf+/czjfIkIT8wC198/cOmFTZdf3Czcml2Uxv7ljYvFfy7fdvH4xr+9uVv4u0My5aUXNrH5Mjbx//PHxaJkd6+W/e3N3Z+9voMXxX4LsCdK/37m8UvP5/HVQaK8d6rKPinPrzqxhc8JSi6+//HDw396JV/4F4KoHJe+hKnLvGXA1KUByjf1si22J8GFti15JTDDPpJ3z7CtFvMPFw4FBfgREX9svM5THtgfBvwvcqvFvGae7cC2orVZrN4mEaE6nU70LDn7XqxdfM0khP3ivzrn1Otv6kr1VBKjA1O3T39g3ezqLyW3LKnZlGZgD9uXj/yMie8vHPQzGmKjw9lNc+pom9Yza+dFsScQOFt2Gxqf2o0nkBOAqUtfk4hVggBMXQmKWi1Dc6Yu50aq6bxCU9d0R1jjYeoybxkwdWmA8k2draDo3bWOU4TY1178D25+TbKTIPgRDKKpbqvFLDrl4ebloxGmYIOPni+Aaxcf42vwYV/JscPbmsdE8PJZ4Oblo+xLMf44i6giBU1dqZ6KusBe1mnqNy8fvfrS1lOHVzyzc+FD02wnva2eW3PS25G8P2wKxr495OsF27aMYQ8eCc/IYH91rHwwjdXObkPCdT6SjaxnJExd+ppErBIEYOpKUNRqGTD1et6EGz0ZTF2r15hr2g1Tl+Yq39TZdHXTKJPja54tYrP/Oow9HfL87odZdpFA2z89Y7WYF0wdWn3u2v7HZlkt5kvP5xERn+Vlj7akdEmwb4wpJJCI+Bo7UUUKmrqCPbXvhQNTv11VunZ+Ontmny0iYv/lpv7DhUOB/sbQoAC2BHD0gK7Vz/fwZ0wjw4LZeRaiMzLCQgP5WiOYuvRVhFj1EYCpq29M3NcimLr97w51xqT26sifMVNnCxvUKsypy7zIYerSAOWb+vX3D7Dp6k/K8x18ptmz2/94S3xkaf9u7YSLLkQCLWnq55+wbUM7uKdtdXvuHNuq9OcKFrGqLS/bjmSz37T15uWjer1Or9fxJW6iiuSc3SDyVwV7as/TgamzVUADurc/V7b62/P7b10pZQuTuKlbLeb702x7bD1XsOjb8/t9DT6JbWt2fbFazOx5na9O77KvlMeIesrjnQtgTl36mkSsEgRg6kpQ1GoZMHXn7snuz/Wfd/fVdhiq+xsjv0aYusxbBkxdGqB8U7dazOxAh+wJ4s0ThZ97tkOTcCtDtk+LKSRQr9fxZ1xEAi1p6laLOSGuiV6vu3Z2T+vm0XySmD1842vwMfjo/31ur7D29558jD2TziNFFck5u0Hkr8r2lDeYBRyYOlPtf527d1DcsXzbSW9CUz9dvII9bntofTYRbcu5t3ML24rn9YPLRTUKX4p6KnzLiTBMXfqaRKwSBGDqSlDUahkwdSduyMginwBMXeYtA6YuDVARU684tpbtACXafvvzkzsnDk85UbjEajEXPDqdiHomJvz00b2tEtnHOn1od36FiAS6NlNn88fseAW+ySArZNzgZCJ6aNq9vQV/rSxhO0Dtzr23+beoIjlnN4j8VdmecjIs4MDU2fp4buq3rpSyVeZCU79TVdY8JsLoa2DbrvPDJqwW8941M4loSK9OouOrhDsMiHoqaltDX8LUpa9JxCpBAKauBEWtlgFTb+jdGOkVIQBTl3nLgKlLA1TE1K0W8+7c+9gamIS4Jlnp/R+YOKh/t3Z6vU6n07FtTW9cLGa7xia2bb5z+bSitVkZQ21ntkWFhwgPgxAJdG2mzjZxZ+uwRduVXH1pK9tPZuygpH1rsnatmM62V++T1EbooKKK5JzdIPJXZXsqun0wUx/Qvf3YQUn85+H7hlstZraJe9/ktsd3LXoif37PxISQIH/RnLrVYmYnMxNRaq+OwsJ/rSxhS4CSO7YsWpv1XMGiwtUzp47uHRTg9/U7NV9QiHoqzO5EGKYufU0iVgkCMHUlKGq1DJi6EzdkZJFPAKYu85YBU5cGqJSpWy3mN4/kDuzRnh3GRkT+Rt+0Qcnnn1jLP/1fv7M3c1RvdvIZO5sgbVAy36ubJavzlAdeGts0JiGuCd+Zlb/18XMb2WoWpvLBgX6Lpg8THntktZjtK3L67Aa2laHwsAlle8r7ZbWYZ2UMED4tysIdE5qxTSSnjOzF/l4ioqG9O7EF/RsemiAs4S+vbTf42A7ME+2YabWYv3vvQPaEgf5GX15FTKRpyYwRnLB9T4UlNzQMU5e+JhGrBAGYuhIUtVoGTL2hd2OkV4QATF3mLQOmLg1QQVNnH/QfPzz86avbvzhZIFw1IbwGfvro8JUTmy+/uPn6BweF8Sxsf6BDbUc/3Kkq+/7CQclT31hR31QUVR7P+9Mr+ZItkazoxsViJ85uuHu1TPIIBqV6ak/JQQw73oLvT//zx8WigzB+qTwSFhrob/St7YCJXytLLC9vrTyeZ//4b209ddAeB2/B1KWvScQqQQCmrgRFrZYBU3dw48VbriMAU5d5y4CpSwNU3NRddw2gZEUImLfaHjPNHNVbkdLkFAJTl74mEasEAZi6EhS1WgZMXc6dGXmdJgBTl3nLgKlLA4SpO31NajQj2xazvCin0dsPU5e+JhGrBAGYuhIUtVoGTL3Rb+/e2QCYusxbBkxdGiBM3atuKJ+f3ElEzZqE8X3lG7H7MHXpaxKxShCAqStBUatlyDf1yuN5wq0OGvE+2ShV37x8dEivTven9XNF7aIFma6owrkyf/rocMWxtfbnM9a/NJi6zFsGTF0aIEy9/hehB6S8U1X25/Jtkk8IuL93MHXpaxKxShCAqStBUatlyDR1dvR1zqzR9ndFySejblwsrjqxRbi3mH1Gd8Z8earA/ikjUQN2Lp/WPCbi7dJVonj28qW9S6uP9J6fOUT0rmT3RWkcvDxTktu9U7yf0RAS5F+4eqaDlI3yVuVx25Hnj8yWGPd6tgemLvOWAVOXBghTr+cViGSKE4CpS1+TiFWCAExdCYpaLUOmqc8c31+n03366nZ+0/v6nb1LZoxsGmUiopAg/+F9O7+8bxl/d9qYPkSUOyeNxzRi4NNXtxOR0dcguc8Bb9iSGSOI6PiumuO9eTwLTByeUn28xntPPsZeOu6+KG9tL7+pKAoJ8tfrdTPG9ZudMXDNvPG1pWzE+O6d4k3BAaKd4urfHpi6zFsGTF0aIDP1rPT+6xZm4AcE3EmAHdUk/blUKDYvzzZHolBhKEZLBGDqWhotpdsqx9S/e++A0dcwKKUD97Nvz++Pj40ioi5t42aM6ze8b2c/o6H6fL3r7x9gaeZOTq3ed3jr0ik8SyMGvjxVYPQ1mEICb1wsdtAMB6Z+/f0DfkZDmxbRLHud3XdQi/Atdmb2g5MHCyOP71qUPrR75fE8YWQjhg+sm119zMvB9bOdawNMXealrOHf1sw2KioqZCKQzH7t2jWTyTZPgH8g4H4CycnJkh9LpSJh6kqR1Fw5MHXNDZmCDZZj6kc3PVh9HsjO5dO4qy2aPoyIHpw8mC+w/qaiaO38dL7/r7Lb1/J6nQ5I7kEsKs2BqR9cb7NVfhBHnd0XlVzbyy1LphCRaNFLzqzRRPT0joW15XJz/D/eepyIhvXp7Fy9MHWZVzFMXSZAZJcgABGUgKKmKAyQmkbDrW2BqbsVt8oqk2Pq4wYnE9HVl7ZyV0vpkkBEFcfuneLH33IcuFNVdv2Dg3U+vn/jYrH9covv3jvwS+URB+X//HHxf97dV2fhwhJ+qTzy3/NFLMaBqbNTBT8/uZOlbFD3r79/4Nvz+/mfNMLamcUe3pAtjKyPqTvB57dLJf8+t9cxQGEzhOEubeMMPvpvz+8XRtYzDFOXeSeAqcsEiOwSBCCCElDUFIUBUtNouLUtMHW34lZZZU6b+t2rZaaQwOBAP6FrDujenogOrf+DYgrVrXD1TFNI4AuPL+aR31QUzZ2cGhTgR0S+Bp/Y6HD2k78sk6VpGmXKnjDw2tk9E4b10Ot1RJTcseXF4xutFvO7x9YkdWjJjvG+P62faBHL3atlRWuzOrRqxr4C9TMa0gYlV53Ywqu2Wsyx0eE9ExOEMZ++un1Evy6sovjYqGcLHqrN1Nn+YP27tePZ6+y+1WL+4cKhR2aPjo4MZa0KNwXNzxzC/yp4x7w6LiY8JMifiMJCA2OjwxPimry8b1lcTHhwoA1RuCkoNjo8Lib8zSO5cvjcrirdtyarR+dWrKd6va5PUpsPn1nPyrz0fJ4pJLB7p3gh0tVzx5tCAoXr9R+YOIiInNvIGKYu804AU5cJENklCEAEJaCoKQoDpKbRcGtbYOpuxa2yypw2dfY4ZkqXP2ju7tz7iCjQ3yj0OS6yVotZNFt88/LRHp1b6XS6OZMGH1g3e3bGQJ1OFxLkn5Xe/6W9S1nGahdMat+ieUxEbHT4wmlDe3dtXb08Oio85OD62QYffa/E1vMzhzSPiSAi0VaJ86bY1sTHRJqWzhy1bmHGsD6d2UOul17YxJtERLHR4fzlv8/tjYm0rXEd3LPDsqxRPTq3IqK4mHDJJ0rXL5wgWqhdZ/d//ri4W8cFlfzMAAAgAElEQVR41qPVc8fnzknrmGD7Q6JjQjP2XcGfy7dNGtGTRXbvFD9xeMp9aX0vvbBp4vCUdvExRNQrsfXE4SmTRvTkX2U4x6d44wNE1KNzq9w5afnLMsendmN/G/C/GdIG2b4wWT235mHWyuN5Pnp913bNhV9N7FoxnYjWL5zAAdY/AFOXeSeAqcsEiOwSBCCCElDUFIUBUtNouLUtMHW34lZZZU6b+guPLyai6WP7COXsdlXpmIFJbLZ4QPf2bxxaLnzX3tSf2r6AiJbOHMWTsWlavpWK1WJmpfXv1o7tmXunqmxgD9vMPRGtfLBmD5l/vl3ob/T1Nfhw0Tx56NHqVd2tm0dfO7uHF752fjoRCR+BFZk6W2g+dXRv/kUBE0pJU2/TItrPaOAPy1ot5jq7v/LBtOr1QulDuvOF+2w7dtEoiP6eYe2vbfWLc3wsL289V7aak7FazJmjehPRU9sXsMi/vbk7KMDP6Gv49NXtd6rKUrok6PW6D55eJ8xSXpRDRJNH9hRG1jMMU5d5J4CpywSI7BIEIIISUNQUhQFS02i4tS0wdbfiVlllIkesp2ZZLeZD67OJaMHUoaIsd6rKtudMNYUEcoPky7jtTZ3pmnAbxyN5c4jo8ZX382KJyBQcIBTi/Y/NIqIxA5N4GqvFPLJfYvUDjlwlJ4/sSURH8uYI0/xw4RBbZvPPtwtZvMjU2YT6X167t+mk1WKeMrKXvamff2ItEU0aIZZUx91vEhGq0+k+e32HsFVnSnKJqF18DI9sqKk7wYfXxQNsL5ctS+5ty8OmzIf16Vy4eiYRLZo+jCf+/+3de3gUVYL38dOdTgIhIQkBYggkXMJFxQAjF0ExAooYARUxoDCigtyEiSgCOsjFIBAQEAYhCWlUFBwRdVQUXRXGGwQCPXtRH90d39111NddZhRhtP/j2fQe9qRS3TRJdXV3VfWXh4enurrOqXM+p6vzS1F1Si4c3BlAGDH4Yt365rwkqUf4TUBSjxCQ4iEECIIhUKy0igGy0mjEtC0k9ZhyW2xnhpP66vLbhBAP3nVDyFj2/YdbK+bfKvN6Vtu0f31rvdxMl0Hl3CnrF05Wlcgzx+rMrjynrr1Axe/zyocNzbi1RJXy+7x3jr9Ke820nNlW+0uC3FjeA/rGUw/Il9qk/s3BzUKIjjlttdX6fd6Q16nfO/EaIYT2dwxtqZDd/2J/pRCic2477ZZ+n/f0sRqXK3D9/am6avmWTkmuDHNO3YCPrPP0sZoTL1Xs3/bgc2tnzS4LzNujLneR/0Ugr9WR9w/810dbdS2v37tSCNG/T6FufXNektQj/CYgqUcISPEQAgTBEChWWsUAWWk0YtoWknpMuS22M8NJvfKBwDXKv5naeOFKcD77+r1Nl/XsLISYOHqwfFeXQb89tDmrbVrDXZI1K+45smfZxsVTWqUkF+TlaB9FpA3TspKXN/9GCKFL6vKymZc3n3vKkrz/Mvhx9+NGDBBCvLB+rqxKW/lnr68RQlzcvZOuI8FJ/aej1dmZbXKy0sM/bFXX/cO7lwkhdFf2y33JX2nUpTs6JblN85N6c3z+fnzHw/eOy0xvLf/rQ/2rTep+n9dbMUO+9cC0EL+SHdkT6NGgvt11Ys15SVKP8JuApB4hIMVDCBAEQ6BYaRUDZKXRiGlbSOox5bbYzgwndXmZyt23NHk6T3BEe3/nEnlTpnxLl0GP7FmWkuxRE6HIeV10D/fRhmlZSXOSaPvsDCHEV28/oWvSsP49hRAHqs9NnKKt/LtDW0Ke8w5O6vIa/bmTR+kqD36p7b5vX4UQQj0mSW18+liN2+1yu13qZk2dktzS3KS+ZMZYIcSVA3q9W7v4u0NbztTvqH1suu6c+k9Hq/t0y2udmtI6NaXhNt8/H9BjvlOzSAgxelhf1ZfmL5DUI/wmIKlHCEjxEAIEwRAoVlrFAFlpNGLaFpJ6TLkttjPDSV3G5bEl/cOHsw+e/a0Qoqjg3EXYugxaNmaIJ8n9w5Htf3p51VtVCz99bY26lVNVqw3TcmVzkrqcMFE7HaTf5/3b4e2ZGWlut+v///HcM1N1laenpbrdrq/f26T27vd5by8dqrtOfdw1gRPzak5D7ca6ZW33f6yrSvYkeZLc//luk/r/+Mwj8lcUVVanJNcvmDZGCPH0qnvVZnJB1wW/z9scny4XBWbL+Y93z12v7/d55YNRtefUH5k5Xj7XadmcmwM3wo4YoNv185WzhRBTxw3TrW/OS5J6hN8EJPUIASkeQoAgGALFSqsYICuNRkzbQlKPKbfFdmY4qf/rW+t1Z4i/fm/Tb6aO/sv7T6qg9suJ2rIxQ7Q3nuoy6PgRvxJCLJp+4zs1iw7vXvaPr6ySE7yoGkJep96cJCovzhnYt9tfP9mmapN71yZOXcyddEOgtUtmnJua0O/zbloSuJlSm9S/PbQ52ZPUu2ueqlYuNKf78llRs8sab808VVd97dBLhRDrFzbeRKtTkvVXzA88uHT53Ft0+9V1oZlJXV7Hr5L6mfod8h5cldR9+ypSkj3d8jv8WFd1qq66qCAwR+TejfO0e5ftXPfgJO3KZi7LshY7GuzUHJK6nUbLLm0lCFp8pBggiw9Q9JpHUo+erfVrNpzU/T5vu8x0t9ulrgWXTwJKTfGMGzFg4d2l9995fd+iwEXqnTpmq7lWdBm0fu9KeZmKTMPy315dL3pxQ+OjkYwl0R+ObJezkvct6rx2Qdnmh6fK3wraZ2d8sb9SpUld5R8/tzTJ7Xa5XLPKRmxYdIecU3xIcQ9tUpfZfeV9E1QlcqE53T/xUoWcfOaG4cVPLpm67sFJ8pbNIcU9tJe865Rk/XKKmKy2acvn3jJ/ymg1kaWuC81M6nKy+Sv6Fe1ZN+fpVfcO7NtNPm5JJvWfj9fKXqunGslZLzvnttM+I/bmUZcLId6pWaSjaM5LknqEXw4k9QgBKd4osHz5cpkDCgsDj3uQyyUlJT6fr3EjliwgQFK3wCDEpwkk9fi4W2OvkSR1OQP3a1sbJ01/5vGZ/foEHhoq/yR7kiZcN/DfDpyb+KXhBPmK+25puBa89rHpMsztXDXD7XaVjRmyf9uDL22a3zDly+LpY9PTUj1J7k+ef1Ru40lyd81vrw1/rz+1QAihu0x85m0jGu7XVJO6+H3er9/bNHH04JRkj2xMkttdOrzfZ683mSExuPLdlXM6tDv3ANG8DlnPrp4pr/FQp5MH9e3ucrnUbDbahl2w+36f9/DuZVf0K/o/IZGeljpn0kht/PX7vCvvm6BVUruYM2mknCUmye1+z3tuNvTgLjTH5+TH2269bpCsTc60KOedfHR24DFG8kZS7X8+qAnX1XOOfjlR2z47Iz0t9ce6KtXC5i+Q1CP8AiCpRwhI8UaBgwcPqq8ktVBYWNi4BUvWECCpW2Mc4tAKknoc0C2zy0iS+p51c4QQ8+64VpfPvj20+ejvV9TvXalOt6sNfjlRq+Z1+elodWZGWmGn9trTyX6f97F5gcs8Kuafm9j7x7oq9ZwgVc/Jj7f9fLxWvfT7vD8fb6xZu/6vn2yr37vy2Isrg6+r8fu8ISs/U7/Dt6/Ct69C3eKpkrR8MuvVA3trd6FbDtN9teU3BzfX7Vn+p5dXBXfN7/NqlVQRuXDy421/enmVdnb5kF1ops/3H/zu6O9XqP/x+Nvh7fI+AYmpu2fglxO1//XR1r8f3yFbIqeyMfbYIzWzvmWOA/s1hKRuvzGzcotLSgKPdNb+2blzp5UbnJhtI6kn5rifPXuWpJ6wQ3/27NlIkvrfDm/PapvW5aJ2utCsC5fne/mf725qmAG9uFcX3Qa/Hn9lyFsndZvF5aWcMkX3QKW4tCTuO100/cbAlesbmly53vxWcU49wq8dknqEgBRvIqA7rc4J9SY6lnlBUrfMUMS6IST1WItbaX+RJPWGWLZ4emCyP+01J83Pan6fV15KPu6aAd6KGa9tXfB85ezbrg880/7Sonxj11S0aO8GNu7RpWNaq5TgZwAZqMrWRc7U78jrkFVUkGvslzTOqUf+HUBSj9yQGpoIaE+rc0K9CY1lXpDULTMUsW4IST3W4lbaX4RJ/ev3NuXnZs+fEu75R2Ei6Zdvrptw3cBWKcnqP10zM9Jm3jbiu0NbwpSK41v//Opq7Q2pcWxJfHd96OmHMzPS1P0GBhrDOfUIvwZI6hECUlwvoE6rc0JdT2OZ1yR1ywxFrBtCUo+1uJX2F2FSNxDRgoucqd/x+Rtrj+997Ms31+mujQ7emDXOECCpR/g1QFKPEJDiIQTkaXVOqIegscYqkro1xiEOrSCpxwHdMru0QlJ3RvSkFy0SIKlH+B1AUjcI+MMPPyznz3kEpk2blpmZeZ43Wb1848aNBj92JhUjqZsEab9qSOr2GzPzWkxSb1G+ZGOzBEjqER7EJHWDgDLrqOvtWECgRQIGP3YmFSOpmwRpv2pI6vYbM/NaTFI3K3pST4sESOoRHsQkdYOAMuu06MPKxghY5C54krrBw97+xUjq9h9D4z0gqfMzKC4CJHXjB+3/liSpGwQkqUdywB/Zsyw7s035r69XlXyxv/Krt59QL01fMDy9lOktscJ3Fknd4GFv/2IkdfuPofEekNRN/z6nwuYIWOGnnvHDxgIlSeoGByFKSb1i/q3FvQsGX9Z9d+WcMAfA3Mmj+vUpGNi3m+5pyWGKXPCtV7eU9+9TWNyrS3GvLv37FI4ccsnCu0v/5Q+rL1jQwAbv1CwSQkwuvUKWlY+CS0n2qAfaGagzZJEPd/12cukVeR2yXC5Xelrq2JL+R3+/Qrvl52+sHVLcQ/a6uHfBsP49bxr5qzX3l4V8fLS2oOFlK3xnkdQNHvb2L0ZSt/8YGu8BSd3w9zYFIxGwwk8944eNBUqS1A0OQpSS+uDLugsh3G5XZkZa8MOZ5aHy+lMLGh6/nOR2CyFeWD83kuNHW3bh3aVCiLwOWcW9ulzcvVNGm1ZCiNQUz7OrZ2o3M2VZl9S/2F+ZkuzJzEj74ch2U+qXlfzhd/e7XC6323VpUf6w/j3btE4VQqS1StGG9de2BjDbtmld3KvLZT07d7monScpAJvsSVo0/cZonIm3wncWSd3gYW//YiR1+4+h8R6Q1E38+UJVzRewwk8944eNBUqS1A0OQpSS+qC+gaR+/ZWXNYTm6hV3hzwSSof3S3K7x5b0F0LsWRfu1HvI4udb+eBdNwgh1i+cLDc4VVdd+cAkGW1Nvy5Fl9T9Pu+PdVU/Ha0+X9uMrd+1ZtbtpUM/f2OtLP7nA090y+8ghLh51OWqQpnUx10zQK35/sOtGxdPadumtRBizqSRar1ZC1b4ziKpGzzs7V+MpG7/MTTeA5K6WV/j1NMiASv81DN+2FigJEnd4CBENam/sH6uEGLwZd2DD4Yv9le63a4br+43u2xkyKT+8/Hav7z/pIEHIOuSutz1qCsuEUJsWjJF15LTx2q+fm9T+EdA/3y89puDm0Ne0BKc1HX1a1/Kev5+fId2pXb5b4e3n/x4m3bN+ZY3Lp4ihCjIy1EbBCd1+dbh3ctSUzxCiIM7H1Ybm7Jghe8skrrBw97+xUjq9h9D4z0gqZvyHU4lLRWwwk8944eNBUqS1A0OQlST+hf7K/v1KRBCHHtxpe6QWDBtjBDilc3lwUn9ta0LrhvaVz2ruXvnjt6KGar4bdcPzs5soz1P/28H1nfNb9+/T6HcJmRSlyvvv7Px1s8D1QuvHNBLXnvjcrl+dUnXvRvnqb3Ihc9eXzNx9OC0Vily4sKu+e0fL5+ojdrBSb1Tx+yBfbupem69blBRQe5PR6uXzBibmZEmhMho02rh3aW6y1H2bpx3aVG+3Eu7zPROHbM7dczult/hfMH9+crZDb/e9Op6kdrR+ZK63+e9/87rhRC3XT9YbWzKghW+s0jqBg97+xcjqdt/DI33gKRuync4lbRUwAo/9YwfNhYoSVI3OAjRTuqblgTO/s4ua3L1xY91Ve0y0wvycn4+XqtL6p+9vkYI0eWidnMnj1pdftuMW0tSkgOnhA9UL5QH1Ue7lrrdrqy2aX95/0m5ZtyIAUKI5ytny5chk/odNw5tuCa+Yv6tcptnHp/pdrtSUzzTbrrq0dk33V46NNmTJITYvuwuuYHf5/Xtq8jObCOEuGF48dJZN82ZNDInK10IcceNQ9U2wUldCNGpY7baYPjlvVulJI+64pKUZE/ZmCFTxw2TV5lXPjBJbfPihvuEED0LcysfmLR2QZm8suXKAb2mTyg5Ux/6BPyi6TfKhqlKwiT1I3uWCSHaZ2eojU1ZsMJ3Fknd4GFv/2IkdfuPofEetOiZD2yMgLkCxj+4CV+SpG7wIxDtpP79B79rlZKcmd5ae19pzYp7Go6cFffd4vd5dUn95Mfbdq2ZpT1vveWRXwshpk8oUfly7uRRQoip44b5fd59T/5GCDHmqmL1bnBS//LNdelpgbsw5S2Y3x7anJ6WmuxJen/nElXqraqF8oS3ut5mSHGPhjsyHy+fqLb5f+9s6JjTVgjxTs0iubI5SV0I0TGn7dEXlssib25/UAjRObedqrYho7dOTfmPdzfKNV/sr0xyu68deqnaQLdwpn5HQV6OEOKZxxvvkQ2T1E8fq5HfU9oh0NVp4CVJ3eAhRzEzBEjqZijatY7y8nL5AeBfBGIsUF5ebtfDxgLtJqkbHIRoJ3W/zzu59IqGM801K+5RcfBXl3RN9iTJbKpL6mobtfBPrzwuhNAm1//+6Kn83GyXy/Xa1gUFeTltWqd++eY6tb1M6rPLRr5Ts2j/tgfXL5zcPjtDCHHXzcPlNk8umao7NS7XXzmglxBCThHj21chhCjs1F77O4Pf53343nHaXxuamdTfrn5INc/v88qc/d2hLX6f9+fjtS6XS126IzfrnNsuq22atoh2ec39ZUKIARcXai+hCZPU/T6vvFT96/c2aeuJcJmkbvCQo5gZAvLHsxk1UQcCCCCAQCwESOoGlWOQ1N+ufqjh8pUhxT1kNPxo11IhxC3XDpQvz5fUP39j7bu1i/esmyOD9dD+RdpkuXfDPDkFoRBCeyWJ3+eVSV37v10ZbVo9MnO8upJk6rhhQoiq5foZaRZPHyuEeOieUr/PK8/6ay90kXuXZ8RVX5qZ1D99bY228fJsvZrp/KL2me2zM9SMMd8d2pLsSepZmKstopY/2rU0NcXTpnWqb1+FWun3ecMk9TP1O6TGqTozJ6UhqRs85ChmhgBJ3QxF6kAAAQRiJ0BSN2gdg6T+y4naHl06CiHq9wbuK50yNhCU36o6d915cFJ/bu2swk7ttVG74YITXVL3+7zdOwfqTEn2fP/hVm1mlUn99tKhO1fN2F055/2dS3Szm5cO7yeEeHVLubaU3+ddv/B2NaHh2gWB89YLpo3RbXP09yuEEJcW5cv1xpL60P5FDc9L+mJ/pazkkZnj5a8uh55++J2aRdcMurjhOpwNi+7Q7drv8372+pqOOW3dbtfeDfqbX8Mkdfn/A7k5mcEVRrKGpG7wkKOYGQIkdTMUqQMBBBCInQBJ3aB1DJK63+d9bN6tMgR/c3Bzq5TkooLcX07UypioS+rypHV+bvaedXP+/R82nj5W8+Wb64KTurdihhBC3vE5747rtIkz+Dp17bt+n3fCdQMbrmx5etW9uvVLZgTOqT987zi/zytP5N99y9W6beTl7FcO6CXXm5LUb7l2YEabVmqGmdQUz0P3lCof1YCv3n6isFN7l8ulve1VvRsmqcurZSaOZu4Xg8cIxSwoQFK34KDQJAQQQCCMAEk9DE64t2KT1P/9HzYmud2ZGWny/PHaBWUqYuqSujzj/tzaWWqDPx94QpfUvzm4OScrPScr/dPX1uRkpSe53Uf2LFPbXzCpy2vN504epYrIhWuHXtpwvvylTfP9Pu+B6sANpn2LOuu2kb9yzJ8yWq6PPKn/86urhRCLp4/9/sOt7+9c8uGu36pbWrW7/ubg5j7d8v73iU63a9er5fMl9W8Obs7NyRRC6K6VVwUNL3BOPdxxxXtRFiCpRxmY6hFAAAGTBUjqBkFjk9T9Pu+NVweuOUlyu1NTPN8e2qwCoi6py4vId61pTOpPPBS4KEV79cukG4Y0TKiy7dFpfp+3avnd8vZKdevnBZO6nLUwMyPtX/6wWjXj7eqHXC5Xx5y28mLuU3XVck7G3ZWND0/96u0n8jpkuVyuuj3nJnKJPKkfe3Flw7zyxb26PLd21gfP/vbYiyu/fHOd9lbRhulxvv9wq5yWfuV9E1SDdQshk/rh3csu6dEpGpOp+31ekrrBQ45iZgiQ1M1QpA4EEEAgdgIkdYPWMUvqL22aLy89v720cT7y4Fkad62ZJack377srr0b5pWNGeJJcrdKSVZJXUbSgX27yetDfjlRe0W/wGXf6xeeO9l8waTu93l/Pf5KOcX4IzPHb11657w7rk1J9iS53dqHH8mbSpPc7lllI7YuvfPR2TfJk9PaxydFntT9Pu+9E6/RXZSfmuKZOm7Y9x/8TsZx+ctMelrqzaMu1/1VDZYsnTpmTxw9eOLowTcMLy4qyJXVlo0ZYu78jLJVJHWDhxzFzBAgqZuhSB0IIIBA7ARI6gato5TUh/XvKYT46u0n1KnfM/U7Oue2c7lcf3zmEbXS7/POnzJaXXMi1z86+6bWqeceC9qzMPetqoW9u+aVDOoj3+2W38GT5P7k+UdVJcdeXJmS7Mlo0+q/P3pKTaT45JKpaoPghYZ5YBZPH5uZ3lpF5OLeBeomV7X9s6tnds1vvLc1r0PWxsVT1Lt+n/fgzoeFEHeOv0qt9CS5u+a3Vy9HDrlECKGdRNLv85YM6qNw/vrJtuLeBZnprZ9bO+vVLeUvrJ+7demdVw/sLYQYd80AWc89E65W7dQtPDJzvNzmH19ZpZ7q6nK52rZp3adb3rSbrtLOGa9aZcoCSd3gIUcxMwRI6mYoUgcCCCAQOwGSukHrKCX108dqgs/jnqnfoZuGRU4oLhO2Nj7+WFfl21ehrk756Wj16WM1coMfjmwPnm3wVF31Xz/ZJjf45URtcIXaytXymfod//TK43V7lqunDqm3tAtfvrnuyJ5ln7+xNvguT7/Pe/LjberCG7/P+2NdlZpvsWHKyDP1O4IdtDiry28TQjy1NHAlj/p7+lhNm9apqSketcaCCyR1g4ccxcwQIKmboUgdCCCAQOwESOoGrWVSH355b/7GRSCvQ5YQ4pIe+dq9D+rbvWGe+NapKdqVVluWz28y+LEzqZj89JpUGdXYSYCkbqfRoq0IIIDA2bMkdYOfgldeeUV3QQUvEWimQL9+/Qx+7EwqRlI3CdJ+1ZDU7TdmtBgBBBJbgKSe2ONv595XVVX17Bm4rF/+cblcAwcOfPXVV+3cpxi1naQeI2jr7Yakbr0xoUUIIIBAOAGSejgd3rO+wMmTJz/99NPPP//81KlT1m+tRVpIUrfIQMS+GST12JuzRwQQQCASAZJ6JHqURcCWAiR1Ww6bGY0mqZuhSB0IIIBA7ARI6rGzZk8IWESApG6RgYh9M0jqsTdnjwgggEAkAiT1SPQoi4AtBUjqthw2MxpNUjdDkToQQACB2AmQ1GNnzZ4QsIgASd0iAxH7ZpDUY2/OHhFAAIFIBEjqkehRFgFbCpDUbTlsZjSapG6GInUggAACsRMgqcfOmj0hYBEBkrpFBiL2zSCpx96cPSKAAAKRCJDUI9GjLAK2FJBJXYY2/k0ogczMzJKSElt+amk0AgggkJACJPWEHHY6ndgCJPWESue6zpaXlyf2x5/eI4AAAnYSIKnbabRoKwKmCHD1iymMVIIAAggggEC0BUjq0RamfgQsJ0BSt9yQ0CAEEEAAAQRCCZDUQ6mwDgFHC5DUHT28dA4BBBBAwDkCJHXnjCU9QaCZAiT1ZkKxGQIIIIAAAvEVIKnH15+9IxAHAZJ6HNDZJQIIIIAAAi0XIKm33IwSCNhcgKRu8wGk+QgggAACiSJAUk+UkaafCCgBkrqiYAEBBBBAAAErC5DUrTw6tA2BqAiQ1KPCSqUIIIAAAgiYLUBSN1uU+hCwvABJ3fJDRAMRQAABBBAICJDU+RwgkHACJPWEG3I6jAACCCBgTwGSuj3HjVYjEIEAST0CPIoigAACCCAQOwGSeuys2RMCFhEgqVtkIGgGAggggAAC4QVI6uF9eBcBBwqQ1B04qHQJAQQQQMCJAiR1J44qfUIgrABJPSwPbyKAAAIIIGAVAZK6VUaCdiAQMwGSesyo2RECCCCAAAKRCJDUI9GjLAK2FCCp23LYaDQCCCCAQOIJkNQTb8zpccILkNQT/iMAAAIIIICAPQRI6vYYJ1qJgIkCJHUTMakKAQQQQACB6AmQ1KNnS80IWFSApG7RgaFZCCCAAAIINBUgqTf14BUCCSBAUk+AQaaLCCCAAAJOECCpO2EU6QMCLRIgqbeIi40RQAABBBCIlwBJPV7y7BeBuAmQ1ONGz44RQAABBBBoiQBJvSVabIuAIwRI6o4YRjqBAAIIIOB8AZK688eYHiKgEyCp60B4iQACCCCAgDUFSOrWHBdahUAUBUjqUcSlagQQQAABBMwTIKmbZ0lNCNhEgKRuk4GimQgggAACiS5AUk/0TwD9T0ABknoCDjpdRgABBBCwowBJ3Y6jRpsRiEiApB4RH4URQAABBBCIlQBJPVbS7AcBywiQ1C0zFDQEAQQQQACBcAIk9XA6vIeAIwVI6o4cVjqFAAIIIOA8AZK688aUHiFwAQGS+gWAeBsBBBBAAAFrCJDUrTEOtAKBGAqQ1GOIza4QQAABBBAwLkBSN25HSQRsKkBSt+nA0WwEEEAAgUQTIKkn2ojTXwTOktT5ECCAAAIIIGALAZK6LYaJRiJgpgBJ3UxN6kIAAQQQQCBqAiT1qNFSMQJWFSCpW3VkaBcCCCCAAAJNBEjqTTh4gYgoBt4AAAYhSURBVEAiCJDUE2GU6SMCCCCAgAMESOoOGES6gEDLBEjqLfNiawQQQAABBOIkQFKPEzy7RSB+AiT1+NmzZwQQQAABBFogQFJvARabIuAMAZK6M8aRXiCAAAIIOF6ApO74IaaDCOgFSOp6EV4jgAACCCBgSQGSuiWHhUYhEE0Bkno0dakbAQQQQAAB0wRI6qZRUhECdhEgqdtlpGgnAggggECCC5DUE/wDQPcTUYCknoijTp8RQAABBGwoQFK34aDRZAQiEyCpR+ZHaQQQQAABBGIkQFKPETS7QcA6AiR164wFLUEAAQQQQCCMAEk9DA5vIeBMAZK6M8eVXiGAAAIIOE6ApO64IaVDCFxIgKR+ISHeRwABBBBAwBICJHVLDAONQCCWAiT1WGqzLwQQQAABBAwLkNQN01EQAbsKkNTtOnK0GwEEEEAgwQRI6gk24HQXgbNnSep8ChBAAAEEELCFAEndFsNEIxEwU4CkbqYmdSGAAAIIIBA1AZJ61GipGAGrCpDUrToytAsBBBBAAIEmAiT1Jhy8QCARBEjqiTDK9BEBBBBAwAECJHUHDCJdQKBlAiT1lnmxNQIIIIAAAnESIKnHCZ7dIhA/AZJ6/OzZMwIIIIAAAi0QIKm3AItNEXCGAEndGeNILxBAAAEEHC9AUnf8ENNBBPQCJHW9CK8RQAABBBCwpABJ3ZLDQqMQiKYAST2autSNAAIIIICAaQIkddMoqQgBuwiQ1O0yUrQTAQQQQCDBBUjqCf4BoPuJKEBST8RRp88IIIAAAjYUIKnbcNBoMgKRCZDUI/OjNAIIIIAAAjESIKnHCJrdIGAdAZK6dcaCliCAAAIIIBBGgKQeBoe3EHCmAEndmeNKrxBAAAEEHCdAUnfckNIhBC4kQFK/kBDvI4AAAgggYAkBkrolhoFGIBBLAZJ6LLXZFwIIIIAAAoYFSOqG6SiIgF0FSOp2HTnajQACCCCQYAIk9QQbcLqLwNmzJHU+BQgggAACCNhCgKRui2GikQiYKUBSN1OTuhBAAAEEEIiaAEk9arRUjIBVBUjqVh0Z2oUAAggggEATAZJ6Ew5eIJAIAiT1RBhl+ogAAggg4AABkroDBpEuINAyAZJ6y7zYGgEEEEAAgTgJkNTjBM9uEYifAEk9fvbsGQEEEEAAgRYIkNRbgMWmCDhDgKTujHGkFwgggAACjhcgqTt+iOkgAnoBkrpehNcIIIAAAghYUoCkbslhoVEIRFOApB5NXepGAAEEEEDANAGSummUVISAXQRI6nYZKdqJAAIIIJDgAiT1BP8A0P1EFCCpJ+Ko02cEEEAAARsKkNRtOGg0GYHIBEjqkflRGgEEEEAAgRgJkNRjBM1uELCOAEndOmNBSxBAAAEEEAgjQFIPg8NbCDhTgKTuzHGlVwgggAACjhMgqTtuSOkQAhcSIKlfSIj3EUAAAQQQsIQASd0Sw0AjEIilAEk9ltrsCwEEEEAAAcMCJHXDdBREwK4CJHW7jhztRgABBBBIMAGSeoINON1F4OxZkjqfAgQQQAABBGwhQFK3xTDRSATMFCCpm6lJXQgggAACCERNwPZJvV+/fiX8QQCBlggUFhYKYeNjP2rfh1SMAAIIIICAtQRs/NPa5/O1JJywLQIINAqUl5db66uI1iCAAAIIIIBAkICNk3pQX1iBAAIIIIAAAggggIBzBEjqzhlLeoIAAggggAACCCDgJAGSupNGk74ggAACCCCAAAIIOEeApO6csaQnCCCAAAIIIIAAAk4SIKk7aTTpCwIIIIAAAggggIBzBEjqzhlLeoIAAggggAACCCDgJAGSupNGk74ggAACCCCAAAIIOEeApO6csaQnCCCAAAIIIIAAAk4SIKk7aTTpCwIIIIAAAggggIBzBEjqzhlLeoIAAggggAACCCDgJAGSupNGk74ggAACCCCAAAIIOEeApO6csaQnCCCAAAIIIIAAAk4SIKk7aTTpCwIIIIAAAggggIBzBEjqzhlLeoIAAggggAACCCDgJAGSupNGk74ggAACCCCAAAIIOEeApO6csaQnCCCAAAIIIIAAAk4SIKk7aTTpCwIIIIAAAggggIBzBP4Hnhv097zK5HgAAAAASUVORK5CYII=)"
      ],
      "metadata": {
        "id": "0mMs2HguKgAB"
      }
    },
    {
      "cell_type": "markdown",
      "source": [
        "![image.png](data:image/png;base64,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)"
      ],
      "metadata": {
        "id": "gSWHikSJLMjS"
      }
    },
    {
      "cell_type": "code",
      "source": [
        "xtrain.shape"
      ],
      "metadata": {
        "colab": {
          "base_uri": "https://localhost:8080/"
        },
        "id": "_BNTBvjHJkG6",
        "outputId": "b2062346-02c1-4d78-d26b-6af14247b5df"
      },
      "execution_count": 25,
      "outputs": [
        {
          "output_type": "execute_result",
          "data": {
            "text/plain": [
              "(60000, 28, 28)"
            ]
          },
          "metadata": {},
          "execution_count": 25
        }
      ]
    },
    {
      "cell_type": "code",
      "source": [
        "ytrain_cat.shape"
      ],
      "metadata": {
        "colab": {
          "base_uri": "https://localhost:8080/"
        },
        "id": "eDtI-N1YLdbZ",
        "outputId": "5cf6c9d6-42f4-4a7a-c5bb-bd2bbfe41474"
      },
      "execution_count": 26,
      "outputs": [
        {
          "output_type": "execute_result",
          "data": {
            "text/plain": [
              "(60000, 10)"
            ]
          },
          "metadata": {},
          "execution_count": 26
        }
      ]
    },
    {
      "cell_type": "code",
      "source": [
        "from keras.models import Sequential\n",
        "from keras.layers import Dense, Dropout, Convolution2D, MaxPooling2D, Flatten, Input"
      ],
      "metadata": {
        "id": "MJwtIpTvJ8ia"
      },
      "execution_count": 27,
      "outputs": []
    },
    {
      "cell_type": "code",
      "source": [
        "model = Sequential(\n",
        "    [\n",
        "        Input(shape=(28, 28, 1)),\n",
        "        Convolution2D(32, kernel_size=(3, 3), activation=\"relu\"),\n",
        "        MaxPooling2D(pool_size=(2, 2)),\n",
        "        Convolution2D(64, kernel_size=(3, 3), activation=\"relu\"),\n",
        "        MaxPooling2D(pool_size=(2, 2)),\n",
        "        Flatten(),\n",
        "        Dropout(0.5),\n",
        "        Dense(10, activation=\"softmax\")\n",
        "    ]\n",
        ")"
      ],
      "metadata": {
        "id": "_02w28haKQnS"
      },
      "execution_count": 28,
      "outputs": []
    },
    {
      "cell_type": "code",
      "source": [
        "model.summary()"
      ],
      "metadata": {
        "colab": {
          "base_uri": "https://localhost:8080/",
          "height": 361
        },
        "id": "M9stjqcXLkQm",
        "outputId": "cc4631b3-c2b8-4dff-b8fa-e1b94d3ddbf7"
      },
      "execution_count": 29,
      "outputs": [
        {
          "output_type": "display_data",
          "data": {
            "text/plain": [
              "\u001b[1mModel: \"sequential\"\u001b[0m\n"
            ],
            "text/html": [
              "<pre style=\"white-space:pre;overflow-x:auto;line-height:normal;font-family:Menlo,'DejaVu Sans Mono',consolas,'Courier New',monospace\"><span style=\"font-weight: bold\">Model: \"sequential\"</span>\n",
              "</pre>\n"
            ]
          },
          "metadata": {}
        },
        {
          "output_type": "display_data",
          "data": {
            "text/plain": [
              "┏━━━━━━━━━━━━━━━━━━━━━━━━━━━━━━━━━━━━━━┳━━━━━━━━━━━━━━━━━━━━━━━━━━━━━┳━━━━━━━━━━━━━━━━━┓\n",
              "┃\u001b[1m \u001b[0m\u001b[1mLayer (type)                        \u001b[0m\u001b[1m \u001b[0m┃\u001b[1m \u001b[0m\u001b[1mOutput Shape               \u001b[0m\u001b[1m \u001b[0m┃\u001b[1m \u001b[0m\u001b[1m        Param #\u001b[0m\u001b[1m \u001b[0m┃\n",
              "┡━━━━━━━━━━━━━━━━━━━━━━━━━━━━━━━━━━━━━━╇━━━━━━━━━━━━━━━━━━━━━━━━━━━━━╇━━━━━━━━━━━━━━━━━┩\n",
              "│ conv2d (\u001b[38;5;33mConv2D\u001b[0m)                      │ (\u001b[38;5;45mNone\u001b[0m, \u001b[38;5;34m26\u001b[0m, \u001b[38;5;34m26\u001b[0m, \u001b[38;5;34m32\u001b[0m)          │             \u001b[38;5;34m320\u001b[0m │\n",
              "├──────────────────────────────────────┼─────────────────────────────┼─────────────────┤\n",
              "│ max_pooling2d (\u001b[38;5;33mMaxPooling2D\u001b[0m)         │ (\u001b[38;5;45mNone\u001b[0m, \u001b[38;5;34m13\u001b[0m, \u001b[38;5;34m13\u001b[0m, \u001b[38;5;34m32\u001b[0m)          │               \u001b[38;5;34m0\u001b[0m │\n",
              "├──────────────────────────────────────┼─────────────────────────────┼─────────────────┤\n",
              "│ conv2d_1 (\u001b[38;5;33mConv2D\u001b[0m)                    │ (\u001b[38;5;45mNone\u001b[0m, \u001b[38;5;34m11\u001b[0m, \u001b[38;5;34m11\u001b[0m, \u001b[38;5;34m64\u001b[0m)          │          \u001b[38;5;34m18,496\u001b[0m │\n",
              "├──────────────────────────────────────┼─────────────────────────────┼─────────────────┤\n",
              "│ max_pooling2d_1 (\u001b[38;5;33mMaxPooling2D\u001b[0m)       │ (\u001b[38;5;45mNone\u001b[0m, \u001b[38;5;34m5\u001b[0m, \u001b[38;5;34m5\u001b[0m, \u001b[38;5;34m64\u001b[0m)            │               \u001b[38;5;34m0\u001b[0m │\n",
              "├──────────────────────────────────────┼─────────────────────────────┼─────────────────┤\n",
              "│ flatten (\u001b[38;5;33mFlatten\u001b[0m)                    │ (\u001b[38;5;45mNone\u001b[0m, \u001b[38;5;34m1600\u001b[0m)                │               \u001b[38;5;34m0\u001b[0m │\n",
              "├──────────────────────────────────────┼─────────────────────────────┼─────────────────┤\n",
              "│ dropout (\u001b[38;5;33mDropout\u001b[0m)                    │ (\u001b[38;5;45mNone\u001b[0m, \u001b[38;5;34m1600\u001b[0m)                │               \u001b[38;5;34m0\u001b[0m │\n",
              "├──────────────────────────────────────┼─────────────────────────────┼─────────────────┤\n",
              "│ dense (\u001b[38;5;33mDense\u001b[0m)                        │ (\u001b[38;5;45mNone\u001b[0m, \u001b[38;5;34m10\u001b[0m)                  │          \u001b[38;5;34m16,010\u001b[0m │\n",
              "└──────────────────────────────────────┴─────────────────────────────┴─────────────────┘\n"
            ],
            "text/html": [
              "<pre style=\"white-space:pre;overflow-x:auto;line-height:normal;font-family:Menlo,'DejaVu Sans Mono',consolas,'Courier New',monospace\">┏━━━━━━━━━━━━━━━━━━━━━━━━━━━━━━━━━━━━━━┳━━━━━━━━━━━━━━━━━━━━━━━━━━━━━┳━━━━━━━━━━━━━━━━━┓\n",
              "┃<span style=\"font-weight: bold\"> Layer (type)                         </span>┃<span style=\"font-weight: bold\"> Output Shape                </span>┃<span style=\"font-weight: bold\">         Param # </span>┃\n",
              "┡━━━━━━━━━━━━━━━━━━━━━━━━━━━━━━━━━━━━━━╇━━━━━━━━━━━━━━━━━━━━━━━━━━━━━╇━━━━━━━━━━━━━━━━━┩\n",
              "│ conv2d (<span style=\"color: #0087ff; text-decoration-color: #0087ff\">Conv2D</span>)                      │ (<span style=\"color: #00d7ff; text-decoration-color: #00d7ff\">None</span>, <span style=\"color: #00af00; text-decoration-color: #00af00\">26</span>, <span style=\"color: #00af00; text-decoration-color: #00af00\">26</span>, <span style=\"color: #00af00; text-decoration-color: #00af00\">32</span>)          │             <span style=\"color: #00af00; text-decoration-color: #00af00\">320</span> │\n",
              "├──────────────────────────────────────┼─────────────────────────────┼─────────────────┤\n",
              "│ max_pooling2d (<span style=\"color: #0087ff; text-decoration-color: #0087ff\">MaxPooling2D</span>)         │ (<span style=\"color: #00d7ff; text-decoration-color: #00d7ff\">None</span>, <span style=\"color: #00af00; text-decoration-color: #00af00\">13</span>, <span style=\"color: #00af00; text-decoration-color: #00af00\">13</span>, <span style=\"color: #00af00; text-decoration-color: #00af00\">32</span>)          │               <span style=\"color: #00af00; text-decoration-color: #00af00\">0</span> │\n",
              "├──────────────────────────────────────┼─────────────────────────────┼─────────────────┤\n",
              "│ conv2d_1 (<span style=\"color: #0087ff; text-decoration-color: #0087ff\">Conv2D</span>)                    │ (<span style=\"color: #00d7ff; text-decoration-color: #00d7ff\">None</span>, <span style=\"color: #00af00; text-decoration-color: #00af00\">11</span>, <span style=\"color: #00af00; text-decoration-color: #00af00\">11</span>, <span style=\"color: #00af00; text-decoration-color: #00af00\">64</span>)          │          <span style=\"color: #00af00; text-decoration-color: #00af00\">18,496</span> │\n",
              "├──────────────────────────────────────┼─────────────────────────────┼─────────────────┤\n",
              "│ max_pooling2d_1 (<span style=\"color: #0087ff; text-decoration-color: #0087ff\">MaxPooling2D</span>)       │ (<span style=\"color: #00d7ff; text-decoration-color: #00d7ff\">None</span>, <span style=\"color: #00af00; text-decoration-color: #00af00\">5</span>, <span style=\"color: #00af00; text-decoration-color: #00af00\">5</span>, <span style=\"color: #00af00; text-decoration-color: #00af00\">64</span>)            │               <span style=\"color: #00af00; text-decoration-color: #00af00\">0</span> │\n",
              "├──────────────────────────────────────┼─────────────────────────────┼─────────────────┤\n",
              "│ flatten (<span style=\"color: #0087ff; text-decoration-color: #0087ff\">Flatten</span>)                    │ (<span style=\"color: #00d7ff; text-decoration-color: #00d7ff\">None</span>, <span style=\"color: #00af00; text-decoration-color: #00af00\">1600</span>)                │               <span style=\"color: #00af00; text-decoration-color: #00af00\">0</span> │\n",
              "├──────────────────────────────────────┼─────────────────────────────┼─────────────────┤\n",
              "│ dropout (<span style=\"color: #0087ff; text-decoration-color: #0087ff\">Dropout</span>)                    │ (<span style=\"color: #00d7ff; text-decoration-color: #00d7ff\">None</span>, <span style=\"color: #00af00; text-decoration-color: #00af00\">1600</span>)                │               <span style=\"color: #00af00; text-decoration-color: #00af00\">0</span> │\n",
              "├──────────────────────────────────────┼─────────────────────────────┼─────────────────┤\n",
              "│ dense (<span style=\"color: #0087ff; text-decoration-color: #0087ff\">Dense</span>)                        │ (<span style=\"color: #00d7ff; text-decoration-color: #00d7ff\">None</span>, <span style=\"color: #00af00; text-decoration-color: #00af00\">10</span>)                  │          <span style=\"color: #00af00; text-decoration-color: #00af00\">16,010</span> │\n",
              "└──────────────────────────────────────┴─────────────────────────────┴─────────────────┘\n",
              "</pre>\n"
            ]
          },
          "metadata": {}
        },
        {
          "output_type": "display_data",
          "data": {
            "text/plain": [
              "\u001b[1m Total params: \u001b[0m\u001b[38;5;34m34,826\u001b[0m (136.04 KB)\n"
            ],
            "text/html": [
              "<pre style=\"white-space:pre;overflow-x:auto;line-height:normal;font-family:Menlo,'DejaVu Sans Mono',consolas,'Courier New',monospace\"><span style=\"font-weight: bold\"> Total params: </span><span style=\"color: #00af00; text-decoration-color: #00af00\">34,826</span> (136.04 KB)\n",
              "</pre>\n"
            ]
          },
          "metadata": {}
        },
        {
          "output_type": "display_data",
          "data": {
            "text/plain": [
              "\u001b[1m Trainable params: \u001b[0m\u001b[38;5;34m34,826\u001b[0m (136.04 KB)\n"
            ],
            "text/html": [
              "<pre style=\"white-space:pre;overflow-x:auto;line-height:normal;font-family:Menlo,'DejaVu Sans Mono',consolas,'Courier New',monospace\"><span style=\"font-weight: bold\"> Trainable params: </span><span style=\"color: #00af00; text-decoration-color: #00af00\">34,826</span> (136.04 KB)\n",
              "</pre>\n"
            ]
          },
          "metadata": {}
        },
        {
          "output_type": "display_data",
          "data": {
            "text/plain": [
              "\u001b[1m Non-trainable params: \u001b[0m\u001b[38;5;34m0\u001b[0m (0.00 B)\n"
            ],
            "text/html": [
              "<pre style=\"white-space:pre;overflow-x:auto;line-height:normal;font-family:Menlo,'DejaVu Sans Mono',consolas,'Courier New',monospace\"><span style=\"font-weight: bold\"> Non-trainable params: </span><span style=\"color: #00af00; text-decoration-color: #00af00\">0</span> (0.00 B)\n",
              "</pre>\n"
            ]
          },
          "metadata": {}
        }
      ]
    },
    {
      "cell_type": "code",
      "source": [
        "model.compile(optimizer=\"adam\", loss=\"categorical_crossentropy\", metrics=[\"accuracy\"])"
      ],
      "metadata": {
        "id": "w7rgXpzELmcR"
      },
      "execution_count": 30,
      "outputs": []
    },
    {
      "cell_type": "code",
      "source": [
        "hist = model.fit(xtrain_scl, ytrain_cat, validation_split=0.1, epochs=20, batch_size=32)"
      ],
      "metadata": {
        "colab": {
          "base_uri": "https://localhost:8080/"
        },
        "id": "ixe4zlWlMP7U",
        "outputId": "ce10e704-94d5-410a-b74f-e9bf28efb35d"
      },
      "execution_count": 31,
      "outputs": [
        {
          "output_type": "stream",
          "name": "stdout",
          "text": [
            "Epoch 1/20\n",
            "\u001b[1m1688/1688\u001b[0m \u001b[32m━━━━━━━━━━━━━━━━━━━━\u001b[0m\u001b[37m\u001b[0m \u001b[1m13s\u001b[0m 4ms/step - accuracy: 0.8487 - loss: 0.4824 - val_accuracy: 0.9835 - val_loss: 0.0594\n",
            "Epoch 2/20\n",
            "\u001b[1m1688/1688\u001b[0m \u001b[32m━━━━━━━━━━━━━━━━━━━━\u001b[0m\u001b[37m\u001b[0m \u001b[1m15s\u001b[0m 3ms/step - accuracy: 0.9706 - loss: 0.0945 - val_accuracy: 0.9878 - val_loss: 0.0464\n",
            "Epoch 3/20\n",
            "\u001b[1m1688/1688\u001b[0m \u001b[32m━━━━━━━━━━━━━━━━━━━━\u001b[0m\u001b[37m\u001b[0m \u001b[1m10s\u001b[0m 3ms/step - accuracy: 0.9787 - loss: 0.0709 - val_accuracy: 0.9898 - val_loss: 0.0370\n",
            "Epoch 4/20\n",
            "\u001b[1m1688/1688\u001b[0m \u001b[32m━━━━━━━━━━━━━━━━━━━━\u001b[0m\u001b[37m\u001b[0m \u001b[1m6s\u001b[0m 4ms/step - accuracy: 0.9818 - loss: 0.0558 - val_accuracy: 0.9890 - val_loss: 0.0398\n",
            "Epoch 5/20\n",
            "\u001b[1m1688/1688\u001b[0m \u001b[32m━━━━━━━━━━━━━━━━━━━━\u001b[0m\u001b[37m\u001b[0m \u001b[1m9s\u001b[0m 5ms/step - accuracy: 0.9854 - loss: 0.0469 - val_accuracy: 0.9905 - val_loss: 0.0340\n",
            "Epoch 6/20\n",
            "\u001b[1m1688/1688\u001b[0m \u001b[32m━━━━━━━━━━━━━━━━━━━━\u001b[0m\u001b[37m\u001b[0m \u001b[1m9s\u001b[0m 5ms/step - accuracy: 0.9856 - loss: 0.0450 - val_accuracy: 0.9903 - val_loss: 0.0311\n",
            "Epoch 7/20\n",
            "\u001b[1m1688/1688\u001b[0m \u001b[32m━━━━━━━━━━━━━━━━━━━━\u001b[0m\u001b[37m\u001b[0m \u001b[1m8s\u001b[0m 3ms/step - accuracy: 0.9864 - loss: 0.0412 - val_accuracy: 0.9913 - val_loss: 0.0291\n",
            "Epoch 8/20\n",
            "\u001b[1m1688/1688\u001b[0m \u001b[32m━━━━━━━━━━━━━━━━━━━━\u001b[0m\u001b[37m\u001b[0m \u001b[1m5s\u001b[0m 3ms/step - accuracy: 0.9883 - loss: 0.0371 - val_accuracy: 0.9922 - val_loss: 0.0281\n",
            "Epoch 9/20\n",
            "\u001b[1m1688/1688\u001b[0m \u001b[32m━━━━━━━━━━━━━━━━━━━━\u001b[0m\u001b[37m\u001b[0m \u001b[1m10s\u001b[0m 3ms/step - accuracy: 0.9896 - loss: 0.0349 - val_accuracy: 0.9923 - val_loss: 0.0290\n",
            "Epoch 10/20\n",
            "\u001b[1m1688/1688\u001b[0m \u001b[32m━━━━━━━━━━━━━━━━━━━━\u001b[0m\u001b[37m\u001b[0m \u001b[1m10s\u001b[0m 3ms/step - accuracy: 0.9894 - loss: 0.0337 - val_accuracy: 0.9908 - val_loss: 0.0317\n",
            "Epoch 11/20\n",
            "\u001b[1m1688/1688\u001b[0m \u001b[32m━━━━━━━━━━━━━━━━━━━━\u001b[0m\u001b[37m\u001b[0m \u001b[1m6s\u001b[0m 4ms/step - accuracy: 0.9905 - loss: 0.0292 - val_accuracy: 0.9917 - val_loss: 0.0281\n",
            "Epoch 12/20\n",
            "\u001b[1m1688/1688\u001b[0m \u001b[32m━━━━━━━━━━━━━━━━━━━━\u001b[0m\u001b[37m\u001b[0m \u001b[1m10s\u001b[0m 3ms/step - accuracy: 0.9907 - loss: 0.0306 - val_accuracy: 0.9935 - val_loss: 0.0249\n",
            "Epoch 13/20\n",
            "\u001b[1m1688/1688\u001b[0m \u001b[32m━━━━━━━━━━━━━━━━━━━━\u001b[0m\u001b[37m\u001b[0m \u001b[1m10s\u001b[0m 3ms/step - accuracy: 0.9917 - loss: 0.0267 - val_accuracy: 0.9940 - val_loss: 0.0261\n",
            "Epoch 14/20\n",
            "\u001b[1m1688/1688\u001b[0m \u001b[32m━━━━━━━━━━━━━━━━━━━━\u001b[0m\u001b[37m\u001b[0m \u001b[1m10s\u001b[0m 3ms/step - accuracy: 0.9909 - loss: 0.0263 - val_accuracy: 0.9933 - val_loss: 0.0248\n",
            "Epoch 15/20\n",
            "\u001b[1m1688/1688\u001b[0m \u001b[32m━━━━━━━━━━━━━━━━━━━━\u001b[0m\u001b[37m\u001b[0m \u001b[1m6s\u001b[0m 3ms/step - accuracy: 0.9907 - loss: 0.0293 - val_accuracy: 0.9922 - val_loss: 0.0254\n",
            "Epoch 16/20\n",
            "\u001b[1m1688/1688\u001b[0m \u001b[32m━━━━━━━━━━━━━━━━━━━━\u001b[0m\u001b[37m\u001b[0m \u001b[1m5s\u001b[0m 3ms/step - accuracy: 0.9926 - loss: 0.0225 - val_accuracy: 0.9933 - val_loss: 0.0279\n",
            "Epoch 17/20\n",
            "\u001b[1m1688/1688\u001b[0m \u001b[32m━━━━━━━━━━━━━━━━━━━━\u001b[0m\u001b[37m\u001b[0m \u001b[1m6s\u001b[0m 4ms/step - accuracy: 0.9918 - loss: 0.0231 - val_accuracy: 0.9938 - val_loss: 0.0272\n",
            "Epoch 18/20\n",
            "\u001b[1m1688/1688\u001b[0m \u001b[32m━━━━━━━━━━━━━━━━━━━━\u001b[0m\u001b[37m\u001b[0m \u001b[1m10s\u001b[0m 3ms/step - accuracy: 0.9914 - loss: 0.0257 - val_accuracy: 0.9918 - val_loss: 0.0260\n",
            "Epoch 19/20\n",
            "\u001b[1m1688/1688\u001b[0m \u001b[32m━━━━━━━━━━━━━━━━━━━━\u001b[0m\u001b[37m\u001b[0m \u001b[1m10s\u001b[0m 3ms/step - accuracy: 0.9925 - loss: 0.0223 - val_accuracy: 0.9923 - val_loss: 0.0284\n",
            "Epoch 20/20\n",
            "\u001b[1m1688/1688\u001b[0m \u001b[32m━━━━━━━━━━━━━━━━━━━━\u001b[0m\u001b[37m\u001b[0m \u001b[1m10s\u001b[0m 3ms/step - accuracy: 0.9922 - loss: 0.0229 - val_accuracy: 0.9933 - val_loss: 0.0285\n"
          ]
        }
      ]
    },
    {
      "cell_type": "markdown",
      "source": [
        "## Plot the learning curve"
      ],
      "metadata": {
        "id": "9dSfgEfXNhnH"
      }
    },
    {
      "cell_type": "code",
      "source": [
        "plt.figure(figsize=(12, 4))\n",
        "plt.plot(hist.history[\"loss\"], label=\"Train Loss\")\n",
        "plt.plot(hist.history[\"val_loss\"], label=\"Validation Loss\")\n",
        "plt.xlabel(\"Epochs\")\n",
        "plt.ylabel(\"Categorical Crossentropy Loss\")\n",
        "plt.title(\"Learning Curve\")\n",
        "plt.legend()\n",
        "plt.show()"
      ],
      "metadata": {
        "colab": {
          "base_uri": "https://localhost:8080/",
          "height": 410
        },
        "id": "iUdSpnlRMwVB",
        "outputId": "c80894b1-c131-4def-85d6-c0b06f53ad3f"
      },
      "execution_count": 32,
      "outputs": [
        {
          "output_type": "display_data",
          "data": {
            "text/plain": [
              "<Figure size 1200x400 with 1 Axes>"
            ],
            "image/png": "[encoded data removed]"
          },
          "metadata": {}
        }
      ]
    },
    {
      "cell_type": "markdown",
      "source": [
        "### Model Evaluation"
      ],
      "metadata": {
        "id": "pobefzrSODQZ"
      }
    },
    {
      "cell_type": "code",
      "source": [
        "model.evaluate(xtrain_scl, ytrain_cat)"
      ],
      "metadata": {
        "colab": {
          "base_uri": "https://localhost:8080/"
        },
        "id": "8IbG_pOzN5Vg",
        "outputId": "1dc5f865-00dd-4871-e671-799a5770d167"
      },
      "execution_count": 33,
      "outputs": [
        {
          "output_type": "stream",
          "name": "stdout",
          "text": [
            "\u001b[1m1875/1875\u001b[0m \u001b[32m━━━━━━━━━━━━━━━━━━━━\u001b[0m\u001b[37m\u001b[0m \u001b[1m5s\u001b[0m 3ms/step - accuracy: 0.9979 - loss: 0.0062\n"
          ]
        },
        {
          "output_type": "execute_result",
          "data": {
            "text/plain": [
              "[0.008452048525214195, 0.9976833462715149]"
            ]
          },
          "metadata": {},
          "execution_count": 33
        }
      ]
    },
    {
      "cell_type": "code",
      "source": [
        "model.evaluate(xtest_scl, ytest_cat)"
      ],
      "metadata": {
        "colab": {
          "base_uri": "https://localhost:8080/"
        },
        "id": "znIg-eC8OJfy",
        "outputId": "e5ad467c-7339-4d08-b10a-5f569059b9e0"
      },
      "execution_count": 34,
      "outputs": [
        {
          "output_type": "stream",
          "name": "stdout",
          "text": [
            "\u001b[1m313/313\u001b[0m \u001b[32m━━━━━━━━━━━━━━━━━━━━\u001b[0m\u001b[37m\u001b[0m \u001b[1m1s\u001b[0m 2ms/step - accuracy: 0.9919 - loss: 0.0283\n"
          ]
        },
        {
          "output_type": "execute_result",
          "data": {
            "text/plain": [
              "[0.0244493018835783, 0.992900013923645]"
            ]
          },
          "metadata": {},
          "execution_count": 34
        }
      ]
    },
    {
      "cell_type": "code",
      "source": [
        "yprob_train = model.predict(xtrain_scl)\n",
        "yprob_train[0:5]"
      ],
      "metadata": {
        "colab": {
          "base_uri": "https://localhost:8080/"
        },
        "id": "c4do7JBgOPSM",
        "outputId": "f9e5f3a0-34b1-4a46-dd69-33d98dd6d2f3"
      },
      "execution_count": 35,
      "outputs": [
        {
          "output_type": "stream",
          "name": "stdout",
          "text": [
            "\u001b[1m1875/1875\u001b[0m \u001b[32m━━━━━━━━━━━━━━━━━━━━\u001b[0m\u001b[37m\u001b[0m \u001b[1m3s\u001b[0m 1ms/step\n"
          ]
        },
        {
          "output_type": "execute_result",
          "data": {
            "text/plain": [
              "array([[6.22975453e-14, 1.34189077e-14, 1.20491713e-12, 2.54642684e-03,\n",
              "        4.80588230e-17, 9.97453392e-01, 5.71388256e-16, 2.71316528e-11,\n",
              "        2.69161760e-09, 1.46634932e-07],\n",
              "       [9.99999881e-01, 1.71448764e-18, 8.23844815e-08, 1.03604674e-14,\n",
              "        9.82378241e-13, 5.38575152e-13, 1.45768251e-08, 8.02842730e-15,\n",
              "        4.20171453e-09, 2.24492798e-08],\n",
              "       [2.18900114e-18, 3.06501519e-10, 1.73129927e-10, 3.85742897e-13,\n",
              "        9.99999523e-01, 3.27737035e-12, 8.39685512e-14, 8.62012612e-08,\n",
              "        9.40046885e-09, 3.14521856e-07],\n",
              "       [8.96352381e-10, 9.99992251e-01, 6.29567225e-08, 1.92392413e-12,\n",
              "        4.75795059e-06, 4.66718719e-10, 1.43755710e-08, 7.97080702e-07,\n",
              "        2.00112027e-06, 3.88498700e-09],\n",
              "       [3.05267388e-14, 9.16066895e-15, 9.89463719e-12, 1.07177505e-11,\n",
              "        9.83966584e-06, 3.24234251e-10, 5.64268786e-16, 8.51948023e-09,\n",
              "        2.47798994e-06, 9.99987721e-01]], dtype=float32)"
            ]
          },
          "metadata": {},
          "execution_count": 35
        }
      ]
    },
    {
      "cell_type": "code",
      "source": [
        "ypred_train = np.argmax(yprob_train, axis=1)"
      ],
      "metadata": {
        "id": "4Y7EL_EEOdOB"
      },
      "execution_count": 36,
      "outputs": []
    },
    {
      "cell_type": "code",
      "source": [
        "ypred_train[0:5]"
      ],
      "metadata": {
        "colab": {
          "base_uri": "https://localhost:8080/"
        },
        "id": "5Y1JUSR9O5HC",
        "outputId": "2e8388fa-9e8c-481b-c895-70b7206dcc23"
      },
      "execution_count": 37,
      "outputs": [
        {
          "output_type": "execute_result",
          "data": {
            "text/plain": [
              "array([5, 0, 4, 1, 9])"
            ]
          },
          "metadata": {},
          "execution_count": 37
        }
      ]
    },
    {
      "cell_type": "code",
      "source": [
        "ytrain[0:5]"
      ],
      "metadata": {
        "colab": {
          "base_uri": "https://localhost:8080/"
        },
        "id": "Klg8ECt-O6aA",
        "outputId": "eaa6fe92-639b-4b04-81b9-2fee528bfc95"
      },
      "execution_count": 38,
      "outputs": [
        {
          "output_type": "execute_result",
          "data": {
            "text/plain": [
              "array([5, 0, 4, 1, 9], dtype=uint8)"
            ]
          },
          "metadata": {},
          "execution_count": 38
        }
      ]
    },
    {
      "cell_type": "code",
      "source": [
        "yprob_test = model.predict(xtest_scl)\n",
        "ypred_test = np.argmax(yprob_test, axis=1)\n",
        "ypred_test[0:5]"
      ],
      "metadata": {
        "colab": {
          "base_uri": "https://localhost:8080/"
        },
        "id": "1sViU_6yO7r6",
        "outputId": "115695ba-d26a-475b-cd15-bc9f0086fae0"
      },
      "execution_count": 39,
      "outputs": [
        {
          "output_type": "stream",
          "name": "stdout",
          "text": [
            "\u001b[1m313/313\u001b[0m \u001b[32m━━━━━━━━━━━━━━━━━━━━\u001b[0m\u001b[37m\u001b[0m \u001b[1m1s\u001b[0m 2ms/step\n"
          ]
        },
        {
          "output_type": "execute_result",
          "data": {
            "text/plain": [
              "array([7, 2, 1, 0, 4])"
            ]
          },
          "metadata": {},
          "execution_count": 39
        }
      ]
    },
    {
      "cell_type": "code",
      "source": [
        "ytest[0:5]"
      ],
      "metadata": {
        "colab": {
          "base_uri": "https://localhost:8080/"
        },
        "id": "XprYI5EfPGO9",
        "outputId": "e19c4451-7d89-42c8-c1f6-dea415b20388"
      },
      "execution_count": 40,
      "outputs": [
        {
          "output_type": "execute_result",
          "data": {
            "text/plain": [
              "array([7, 2, 1, 0, 4], dtype=uint8)"
            ]
          },
          "metadata": {},
          "execution_count": 40
        }
      ]
    },
    {
      "cell_type": "code",
      "source": [
        "from sklearn.metrics import ConfusionMatrixDisplay\n",
        "ConfusionMatrixDisplay.from_predictions(ytest, ypred_test)"
      ],
      "metadata": {
        "colab": {
          "base_uri": "https://localhost:8080/",
          "height": 467
        },
        "id": "zIetPjR-PILK",
        "outputId": "11cf991b-b9bb-4843-98c9-02cd2d70840a"
      },
      "execution_count": 41,
      "outputs": [
        {
          "output_type": "execute_result",
          "data": {
            "text/plain": [
              "<sklearn.metrics._plot.confusion_matrix.ConfusionMatrixDisplay at 0x7ce324b8cc90>"
            ]
          },
          "metadata": {},
          "execution_count": 41
        },
        {
          "output_type": "display_data",
          "data": {
            "text/plain": [
              "<Figure size 640x480 with 2 Axes>"
            ],
            "image/png": "[encoded data removed]"
          },
          "metadata": {}
        }
      ]
    },
    {
      "cell_type": "code",
      "source": [
        "from sklearn.metrics import classification_report\n",
        "print(classification_report(ytest, ypred_test))"
      ],
      "metadata": {
        "colab": {
          "base_uri": "https://localhost:8080/"
        },
        "id": "Xj63LQdpPWua",
        "outputId": "5ed52f42-e19f-4fa3-c5d6-708b172df7da"
      },
      "execution_count": 42,
      "outputs": [
        {
          "output_type": "stream",
          "name": "stdout",
          "text": [
            "              precision    recall  f1-score   support\n",
            "\n",
            "           0       1.00      1.00      1.00       980\n",
            "           1       0.99      0.99      0.99      1135\n",
            "           2       0.99      0.99      0.99      1032\n",
            "           3       0.99      1.00      0.99      1010\n",
            "           4       0.99      1.00      1.00       982\n",
            "           5       0.99      0.99      0.99       892\n",
            "           6       1.00      0.99      0.99       958\n",
            "           7       0.99      0.99      0.99      1028\n",
            "           8       0.99      0.99      0.99       974\n",
            "           9       0.99      0.99      0.99      1009\n",
            "\n",
            "    accuracy                           0.99     10000\n",
            "   macro avg       0.99      0.99      0.99     10000\n",
            "weighted avg       0.99      0.99      0.99     10000\n",
            "\n"
          ]
        }
      ]
    },
    {
      "cell_type": "markdown",
      "source": [
        "### From above results the model is a good model because f1_macro > 0.8"
      ],
      "metadata": {
        "id": "iLtkR_bEQSWH"
      }
    },
    {
      "cell_type": "markdown",
      "source": [
        "### Save the model"
      ],
      "metadata": {
        "id": "Th3ctRcLQbuf"
      }
    },
    {
      "cell_type": "code",
      "source": [
        "model.save(\"digit_model.keras\")"
      ],
      "metadata": {
        "id": "ixP0fY08QCKd"
      },
      "execution_count": 43,
      "outputs": []
    },
    {
      "cell_type": "markdown",
      "source": [
        "### Load the model"
      ],
      "metadata": {
        "id": "sJItjVxrQok_"
      }
    },
    {
      "cell_type": "code",
      "source": [
        "from keras.models import load_model\n",
        "m = load_model(\"/content/digit_model.keras\")\n",
        "m.summary()"
      ],
      "metadata": {
        "colab": {
          "base_uri": "https://localhost:8080/",
          "height": 377
        },
        "id": "h8gCYmYhQhbf",
        "outputId": "4f6ca040-5e48-406b-b354-ff7b1e1bb524"
      },
      "execution_count": 44,
      "outputs": [
        {
          "output_type": "display_data",
          "data": {
            "text/plain": [
              "\u001b[1mModel: \"sequential\"\u001b[0m\n"
            ],
            "text/html": [
              "<pre style=\"white-space:pre;overflow-x:auto;line-height:normal;font-family:Menlo,'DejaVu Sans Mono',consolas,'Courier New',monospace\"><span style=\"font-weight: bold\">Model: \"sequential\"</span>\n",
              "</pre>\n"
            ]
          },
          "metadata": {}
        },
        {
          "output_type": "display_data",
          "data": {
            "text/plain": [
              "┏━━━━━━━━━━━━━━━━━━━━━━━━━━━━━━━━━━━━━━┳━━━━━━━━━━━━━━━━━━━━━━━━━━━━━┳━━━━━━━━━━━━━━━━━┓\n",
              "┃\u001b[1m \u001b[0m\u001b[1mLayer (type)                        \u001b[0m\u001b[1m \u001b[0m┃\u001b[1m \u001b[0m\u001b[1mOutput Shape               \u001b[0m\u001b[1m \u001b[0m┃\u001b[1m \u001b[0m\u001b[1m        Param #\u001b[0m\u001b[1m \u001b[0m┃\n",
              "┡━━━━━━━━━━━━━━━━━━━━━━━━━━━━━━━━━━━━━━╇━━━━━━━━━━━━━━━━━━━━━━━━━━━━━╇━━━━━━━━━━━━━━━━━┩\n",
              "│ conv2d (\u001b[38;5;33mConv2D\u001b[0m)                      │ (\u001b[38;5;45mNone\u001b[0m, \u001b[38;5;34m26\u001b[0m, \u001b[38;5;34m26\u001b[0m, \u001b[38;5;34m32\u001b[0m)          │             \u001b[38;5;34m320\u001b[0m │\n",
              "├──────────────────────────────────────┼─────────────────────────────┼─────────────────┤\n",
              "│ max_pooling2d (\u001b[38;5;33mMaxPooling2D\u001b[0m)         │ (\u001b[38;5;45mNone\u001b[0m, \u001b[38;5;34m13\u001b[0m, \u001b[38;5;34m13\u001b[0m, \u001b[38;5;34m32\u001b[0m)          │               \u001b[38;5;34m0\u001b[0m │\n",
              "├──────────────────────────────────────┼─────────────────────────────┼─────────────────┤\n",
              "│ conv2d_1 (\u001b[38;5;33mConv2D\u001b[0m)                    │ (\u001b[38;5;45mNone\u001b[0m, \u001b[38;5;34m11\u001b[0m, \u001b[38;5;34m11\u001b[0m, \u001b[38;5;34m64\u001b[0m)          │          \u001b[38;5;34m18,496\u001b[0m │\n",
              "├──────────────────────────────────────┼─────────────────────────────┼─────────────────┤\n",
              "│ max_pooling2d_1 (\u001b[38;5;33mMaxPooling2D\u001b[0m)       │ (\u001b[38;5;45mNone\u001b[0m, \u001b[38;5;34m5\u001b[0m, \u001b[38;5;34m5\u001b[0m, \u001b[38;5;34m64\u001b[0m)            │               \u001b[38;5;34m0\u001b[0m │\n",
              "├──────────────────────────────────────┼─────────────────────────────┼─────────────────┤\n",
              "│ flatten (\u001b[38;5;33mFlatten\u001b[0m)                    │ (\u001b[38;5;45mNone\u001b[0m, \u001b[38;5;34m1600\u001b[0m)                │               \u001b[38;5;34m0\u001b[0m │\n",
              "├──────────────────────────────────────┼─────────────────────────────┼─────────────────┤\n",
              "│ dropout (\u001b[38;5;33mDropout\u001b[0m)                    │ (\u001b[38;5;45mNone\u001b[0m, \u001b[38;5;34m1600\u001b[0m)                │               \u001b[38;5;34m0\u001b[0m │\n",
              "├──────────────────────────────────────┼─────────────────────────────┼─────────────────┤\n",
              "│ dense (\u001b[38;5;33mDense\u001b[0m)                        │ (\u001b[38;5;45mNone\u001b[0m, \u001b[38;5;34m10\u001b[0m)                  │          \u001b[38;5;34m16,010\u001b[0m │\n",
              "└──────────────────────────────────────┴─────────────────────────────┴─────────────────┘\n"
            ],
            "text/html": [
              "<pre style=\"white-space:pre;overflow-x:auto;line-height:normal;font-family:Menlo,'DejaVu Sans Mono',consolas,'Courier New',monospace\">┏━━━━━━━━━━━━━━━━━━━━━━━━━━━━━━━━━━━━━━┳━━━━━━━━━━━━━━━━━━━━━━━━━━━━━┳━━━━━━━━━━━━━━━━━┓\n",
              "┃<span style=\"font-weight: bold\"> Layer (type)                         </span>┃<span style=\"font-weight: bold\"> Output Shape                </span>┃<span style=\"font-weight: bold\">         Param # </span>┃\n",
              "┡━━━━━━━━━━━━━━━━━━━━━━━━━━━━━━━━━━━━━━╇━━━━━━━━━━━━━━━━━━━━━━━━━━━━━╇━━━━━━━━━━━━━━━━━┩\n",
              "│ conv2d (<span style=\"color: #0087ff; text-decoration-color: #0087ff\">Conv2D</span>)                      │ (<span style=\"color: #00d7ff; text-decoration-color: #00d7ff\">None</span>, <span style=\"color: #00af00; text-decoration-color: #00af00\">26</span>, <span style=\"color: #00af00; text-decoration-color: #00af00\">26</span>, <span style=\"color: #00af00; text-decoration-color: #00af00\">32</span>)          │             <span style=\"color: #00af00; text-decoration-color: #00af00\">320</span> │\n",
              "├──────────────────────────────────────┼─────────────────────────────┼─────────────────┤\n",
              "│ max_pooling2d (<span style=\"color: #0087ff; text-decoration-color: #0087ff\">MaxPooling2D</span>)         │ (<span style=\"color: #00d7ff; text-decoration-color: #00d7ff\">None</span>, <span style=\"color: #00af00; text-decoration-color: #00af00\">13</span>, <span style=\"color: #00af00; text-decoration-color: #00af00\">13</span>, <span style=\"color: #00af00; text-decoration-color: #00af00\">32</span>)          │               <span style=\"color: #00af00; text-decoration-color: #00af00\">0</span> │\n",
              "├──────────────────────────────────────┼─────────────────────────────┼─────────────────┤\n",
              "│ conv2d_1 (<span style=\"color: #0087ff; text-decoration-color: #0087ff\">Conv2D</span>)                    │ (<span style=\"color: #00d7ff; text-decoration-color: #00d7ff\">None</span>, <span style=\"color: #00af00; text-decoration-color: #00af00\">11</span>, <span style=\"color: #00af00; text-decoration-color: #00af00\">11</span>, <span style=\"color: #00af00; text-decoration-color: #00af00\">64</span>)          │          <span style=\"color: #00af00; text-decoration-color: #00af00\">18,496</span> │\n",
              "├──────────────────────────────────────┼─────────────────────────────┼─────────────────┤\n",
              "│ max_pooling2d_1 (<span style=\"color: #0087ff; text-decoration-color: #0087ff\">MaxPooling2D</span>)       │ (<span style=\"color: #00d7ff; text-decoration-color: #00d7ff\">None</span>, <span style=\"color: #00af00; text-decoration-color: #00af00\">5</span>, <span style=\"color: #00af00; text-decoration-color: #00af00\">5</span>, <span style=\"color: #00af00; text-decoration-color: #00af00\">64</span>)            │               <span style=\"color: #00af00; text-decoration-color: #00af00\">0</span> │\n",
              "├──────────────────────────────────────┼─────────────────────────────┼─────────────────┤\n",
              "│ flatten (<span style=\"color: #0087ff; text-decoration-color: #0087ff\">Flatten</span>)                    │ (<span style=\"color: #00d7ff; text-decoration-color: #00d7ff\">None</span>, <span style=\"color: #00af00; text-decoration-color: #00af00\">1600</span>)                │               <span style=\"color: #00af00; text-decoration-color: #00af00\">0</span> │\n",
              "├──────────────────────────────────────┼─────────────────────────────┼─────────────────┤\n",
              "│ dropout (<span style=\"color: #0087ff; text-decoration-color: #0087ff\">Dropout</span>)                    │ (<span style=\"color: #00d7ff; text-decoration-color: #00d7ff\">None</span>, <span style=\"color: #00af00; text-decoration-color: #00af00\">1600</span>)                │               <span style=\"color: #00af00; text-decoration-color: #00af00\">0</span> │\n",
              "├──────────────────────────────────────┼─────────────────────────────┼─────────────────┤\n",
              "│ dense (<span style=\"color: #0087ff; text-decoration-color: #0087ff\">Dense</span>)                        │ (<span style=\"color: #00d7ff; text-decoration-color: #00d7ff\">None</span>, <span style=\"color: #00af00; text-decoration-color: #00af00\">10</span>)                  │          <span style=\"color: #00af00; text-decoration-color: #00af00\">16,010</span> │\n",
              "└──────────────────────────────────────┴─────────────────────────────┴─────────────────┘\n",
              "</pre>\n"
            ]
          },
          "metadata": {}
        },
        {
          "output_type": "display_data",
          "data": {
            "text/plain": [
              "\u001b[1m Total params: \u001b[0m\u001b[38;5;34m104,480\u001b[0m (408.13 KB)\n"
            ],
            "text/html": [
              "<pre style=\"white-space:pre;overflow-x:auto;line-height:normal;font-family:Menlo,'DejaVu Sans Mono',consolas,'Courier New',monospace\"><span style=\"font-weight: bold\"> Total params: </span><span style=\"color: #00af00; text-decoration-color: #00af00\">104,480</span> (408.13 KB)\n",
              "</pre>\n"
            ]
          },
          "metadata": {}
        },
        {
          "output_type": "display_data",
          "data": {
            "text/plain": [
              "\u001b[1m Trainable params: \u001b[0m\u001b[38;5;34m34,826\u001b[0m (136.04 KB)\n"
            ],
            "text/html": [
              "<pre style=\"white-space:pre;overflow-x:auto;line-height:normal;font-family:Menlo,'DejaVu Sans Mono',consolas,'Courier New',monospace\"><span style=\"font-weight: bold\"> Trainable params: </span><span style=\"color: #00af00; text-decoration-color: #00af00\">34,826</span> (136.04 KB)\n",
              "</pre>\n"
            ]
          },
          "metadata": {}
        },
        {
          "output_type": "display_data",
          "data": {
            "text/plain": [
              "\u001b[1m Non-trainable params: \u001b[0m\u001b[38;5;34m0\u001b[0m (0.00 B)\n"
            ],
            "text/html": [
              "<pre style=\"white-space:pre;overflow-x:auto;line-height:normal;font-family:Menlo,'DejaVu Sans Mono',consolas,'Courier New',monospace\"><span style=\"font-weight: bold\"> Non-trainable params: </span><span style=\"color: #00af00; text-decoration-color: #00af00\">0</span> (0.00 B)\n",
              "</pre>\n"
            ]
          },
          "metadata": {}
        },
        {
          "output_type": "display_data",
          "data": {
            "text/plain": [
              "\u001b[1m Optimizer params: \u001b[0m\u001b[38;5;34m69,654\u001b[0m (272.09 KB)\n"
            ],
            "text/html": [
              "<pre style=\"white-space:pre;overflow-x:auto;line-height:normal;font-family:Menlo,'DejaVu Sans Mono',consolas,'Courier New',monospace\"><span style=\"font-weight: bold\"> Optimizer params: </span><span style=\"color: #00af00; text-decoration-color: #00af00\">69,654</span> (272.09 KB)\n",
              "</pre>\n"
            ]
          },
          "metadata": {}
        }
      ]
    },
    {
      "cell_type": "markdown",
      "source": [
        "# Out of sample training"
      ],
      "metadata": {
        "id": "zWrR6iWxQ81u"
      }
    },
    {
      "cell_type": "code",
      "source": [
        "import cv2"
      ],
      "metadata": {
        "id": "V5eFlIapQzwJ"
      },
      "execution_count": 45,
      "outputs": []
    },
    {
      "cell_type": "code",
      "source": [
        "img = cv2.imread(\"/content/Image3.jpg\", cv2.IMREAD_GRAYSCALE)\n",
        "img"
      ],
      "metadata": {
        "colab": {
          "base_uri": "https://localhost:8080/",
          "height": 67
        },
        "id": "UqsvIzZqRlKk",
        "outputId": "0c88dc69-57bf-4b97-9596-88e594176432"
      },
      "execution_count": 46,
      "outputs": [
        {
          "output_type": "execute_result",
          "data": {
            "text/plain": [
              "array([[  1,   0,   2,   0,   0,   0,   0,   1,   0,   0,   1,   1,   1,\n",
              "          0,   0,   2,   2,   0,   3,   0,   0,   0,   0,   1,   0,   0,\n",
              "          0,   0],\n",
              "       [  1,   0,   0,   2,   0,   0,   5,   0,   0,   5,   0,   0,   0,\n",
              "          3,   1,   0,   0,   4,   0,   0,   3,   0,   0,   0,   0,   0,\n",
              "          0,   0],\n",
              "       [  1,   0,   0,   0,   3,   3,   0,   0,   1,   0,   0,   3,   0,\n",
              "          0,   2,   2,   0,   3,   0,   0,   1,   3,   0,   4,   0,   0,\n",
              "          0,   0],\n",
              "       [  2,   2,   0,   2,   0,   0,   1,   1,   1,   0,   3,   0,   0,\n",
              "          4,   0,   0,   1,   0,   5,   0,   0,   0,   0,   0,   0,   0,\n",
              "          0,   0],\n",
              "       [  0,   0,   0,   1,   0,  74, 222, 249, 255, 255, 253, 252, 255,\n",
              "        255, 253, 255, 255, 253, 250, 227,  96,   0,   3,   1,   0,   0,\n",
              "          0,   0],\n",
              "       [  0,   3,   0,   1,   0, 222, 255, 255, 255, 255, 252, 255, 255,\n",
              "        251, 255, 250, 252, 255, 255, 255, 245,   3,   1,   0,   0,   0,\n",
              "          0,   0],\n",
              "       [  0,   1,   0,   0,   2, 121, 255, 250, 252, 255, 254, 255, 250,\n",
              "        255, 255, 255, 255, 255, 253, 255, 253,   0,   0,   4,   0,   0,\n",
              "          0,   0],\n",
              "       [  0,   0,   0,   3,   2,   0,   0,   2,   1,   3,   0,   1,   0,\n",
              "          1,   0, 102, 255, 254, 255, 255, 150,   0,   0,   0,   0,   0,\n",
              "          0,   0],\n",
              "       [  0,   0,   0,   0,   0,   0,   0,   0,   0,   0,   1,   1,   0,\n",
              "          0,   1, 229, 255, 255, 255, 149,   3,   0,   0,   0,   0,   0,\n",
              "          0,   0],\n",
              "       [  0,   0,   0,   0,   0,   0,   0,   0,   1,   1,   0,   1,   2,\n",
              "         93, 227, 255, 252, 253,  10,   2,   0,   2,   0,   4,   0,   0,\n",
              "          0,   0],\n",
              "       [  0,   0,   0,   0,   0,   0,   0,   0,   1,   0,   3,   0, 126,\n",
              "        255, 247, 255, 255, 170,   0,   1,   0,   1,   0,   0,   0,   0,\n",
              "          0,   0],\n",
              "       [  0,   0,   0,   0,   0,   0,   0,   0,   1,   0,  95, 220, 255,\n",
              "        254, 255, 255, 164,  11,   0,   2,   2,   3,   3,   0,   0,   0,\n",
              "          0,   0],\n",
              "       [  0,   0,   0,   0,   0,   0,   0,   0,   0, 110, 253, 255, 252,\n",
              "        255, 182,   8,   1,   0,   3,   2,   0,   0,   0,   0,   0,   0,\n",
              "          0,   0],\n",
              "       [  0,   0,   0,   0,   0,   0,   0,   0,  75, 239, 251, 254, 255,\n",
              "        255, 255, 253, 227,  95,   0,   1,   0,   4,   0,   1,   0,   0,\n",
              "          0,   0],\n",
              "       [  0,   0,   0,   0,   0,   0,   0,   0, 220, 254, 255, 255, 249,\n",
              "        255, 255, 255, 255, 242, 106,   4,   0,   0,   0,   0,   0,   0,\n",
              "          0,   0],\n",
              "       [  0,   0,   0,   0,   0,   0,   0,   0, 120, 255, 253, 255, 255,\n",
              "        254, 254, 253, 255, 255, 255, 125,   0,   1,   0,   0,   0,   0,\n",
              "          0,   0],\n",
              "       [  0,   0,   2,   1,   0,   3,   0,   0,   1,   2,   0,   0,   0,\n",
              "          1,   0, 120, 253, 255, 251, 255, 122,   0,   0,   1,   0,   0,\n",
              "          0,   0],\n",
              "       [  1,   4,   0,   0,   1,   1,   0,   6,   0,   0,   2,   1,   1,\n",
              "          0,   3,   0,  10, 186, 254, 255, 245,   0,   4,   0,   0,   0,\n",
              "          0,   0],\n",
              "       [  0,   0,   4,   2,   1,   0,   2,   0,   3,   0,   0,   2,   0,\n",
              "          5,   0,   1,   0,   9, 255, 252, 255,   6,   0,   2,   0,   0,\n",
              "          0,   0],\n",
              "       [  3,   0,   0,   2,   0,   2,  73, 188,  96,   0,   2,   0,   2,\n",
              "          2,   0,   1,   1,  69, 255, 255, 254,   0,   0,   0,   0,   0,\n",
              "          0,   0],\n",
              "       [  0,   1,   0,   1,   0,   1, 233, 253, 242,   4,   0,   0,   0,\n",
              "          1,   2,   0,   2, 234, 253, 255, 253,   4,   1,   0,   0,   0,\n",
              "          0,   0],\n",
              "       [  3,   0,   5,   0,   2,   0, 249, 255, 255, 221, 105,   0,   1,\n",
              "          1,   0,  75, 222, 254, 254, 255, 150,   1,   0,   3,   0,   0,\n",
              "          0,   0],\n",
              "       [  0,   4,   0,   0,   2,   0, 249, 255, 252, 255, 255, 254, 252,\n",
              "        255, 253, 255, 255, 255, 255, 251,   4,   0,   0,   0,   0,   0,\n",
              "          0,   0],\n",
              "       [  1,   0,   1,   1,   1,   0, 120, 255, 255, 254, 253, 255, 255,\n",
              "        254, 255, 252, 253, 255, 253, 155,   0,   0,   0,   1,   0,   0,\n",
              "          0,   0],\n",
              "       [  0,   0,   0,   0,   0,   0,   0,   0,   9, 158, 254, 255, 253,\n",
              "        255, 251, 255, 255, 147,   2,   0,   0,   2,   2,   0,   0,   0,\n",
              "          0,   0],\n",
              "       [  0,   0,   0,   0,   0,   0,   0,   0,   0,   4,   0,   0,   2,\n",
              "          3,   0,   0,   0,   3,   0,   1,   0,   0,   0,   0,   0,   0,\n",
              "          0,   0],\n",
              "       [  0,   0,   0,   0,   0,   0,   0,   0,   1,   0,   0,   2,   0,\n",
              "          0,   0,   0,   3,   0,   5,   0,   3,   3,   0,   2,   0,   0,\n",
              "          0,   0],\n",
              "       [  0,   0,   0,   0,   0,   0,   0,   0,   0,   1,   0,   0,   5,\n",
              "          3,   0,   3,   0,   0,   0,   0,   0,   0,   0,   3,   0,   0,\n",
              "          0,   0]], dtype=uint8)"
            ],
            "text/html": [
              "<style>\n",
              "      .ndarray_repr .ndarray_raw_data {\n",
              "        display: none;\n",
              "      }\n",
              "      .ndarray_repr.show_array .ndarray_raw_data {\n",
              "        display: block;\n",
              "      }\n",
              "      .ndarray_repr.show_array .ndarray_image_preview {\n",
              "        display: none;\n",
              "      }\n",
              "      </style>\n",
              "      <div id=\"id-e44fc454-0e5c-4470-8f08-d53fdd34ea8f\" class=\"ndarray_repr\"><pre>ndarray (28, 28) <button style=\"padding: 0 2px;\">show data</button></pre><img src=\"data:image/png;base64,iVBORw0KGgoAAAANSUhEUgAAABwAAAAcCAAAAABXZoBIAAABaUlEQVR4nG2SMW5UQRBEX3XPt2xzJXIkfAbLjpAgIF4hwSUQTiwREXEAAuSjmE1WBJAgWbLQ7p+ZIvj7l2WXCkYa1XRNdXchAkAgCSLI7X06AwYYgBQUJnp+kgmCnAuVFAAiiEkyoYAY2Id4vlzbrdrNbpvVNTn9SSKWtl3t0Ztq+3HLBR3HLWMjGAtD0jltLrNsBoQSIV642zccQQJ9t/0h/0MpLleu7TwIyr8kyTv/tj+j7Xz2yat7d/vTEyLyUPh1c/WXU5FxZOfi19htt9UVohwI33d7bdsPr8pR5cLN7r3ZfrtXFyJBAYhF8+g3u30WkDiBkEjOv3Y//m2zhAgSggFx5uqTKR6RVBzP7i6JHg30lPSGPncv9KM9FEBB/GxuZbfOgWBtf3uJxMWyd99ojlGBYO1q9+pm2+POjpDEwu7N7q7N7RYOJnT2sbt5tN8HxOF4C0QyZeoQU7gng5nEETvkLuwJ8AfOe6oyNObNuAAAAABJRU5ErkJggg==\" class=\"ndarray_image_preview\" /><pre class=\"ndarray_raw_data\">array([[  1,   0,   2,   0,   0,   0,   0,   1,   0,   0,   1,   1,   1,\n",
              "          0,   0,   2,   2,   0,   3,   0,   0,   0,   0,   1,   0,   0,\n",
              "          0,   0],\n",
              "       [  1,   0,   0,   2,   0,   0,   5,   0,   0,   5,   0,   0,   0,\n",
              "          3,   1,   0,   0,   4,   0,   0,   3,   0,   0,   0,   0,   0,\n",
              "          0,   0],\n",
              "       [  1,   0,   0,   0,   3,   3,   0,   0,   1,   0,   0,   3,   0,\n",
              "          0,   2,   2,   0,   3,   0,   0,   1,   3,   0,   4,   0,   0,\n",
              "          0,   0],\n",
              "       [  2,   2,   0,   2,   0,   0,   1,   1,   1,   0,   3,   0,   0,\n",
              "          4,   0,   0,   1,   0,   5,   0,   0,   0,   0,   0,   0,   0,\n",
              "          0,   0],\n",
              "       [  0,   0,   0,   1,   0,  74, 222, 249, 255, 255, 253, 252, 255,\n",
              "        255, 253, 255, 255, 253, 250, 227,  96,   0,   3,   1,   0,   0,\n",
              "          0,   0],\n",
              "       [  0,   3,   0,   1,   0, 222, 255, 255, 255, 255, 252, 255, 255,\n",
              "        251, 255, 250, 252, 255, 255, 255, 245,   3,   1,   0,   0,   0,\n",
              "          0,   0],\n",
              "       [  0,   1,   0,   0,   2, 121, 255, 250, 252, 255, 254, 255, 250,\n",
              "        255, 255, 255, 255, 255, 253, 255, 253,   0,   0,   4,   0,   0,\n",
              "          0,   0],\n",
              "       [  0,   0,   0,   3,   2,   0,   0,   2,   1,   3,   0,   1,   0,\n",
              "          1,   0, 102, 255, 254, 255, 255, 150,   0,   0,   0,   0,   0,\n",
              "          0,   0],\n",
              "       [  0,   0,   0,   0,   0,   0,   0,   0,   0,   0,   1,   1,   0,\n",
              "          0,   1, 229, 255, 255, 255, 149,   3,   0,   0,   0,   0,   0,\n",
              "          0,   0],\n",
              "       [  0,   0,   0,   0,   0,   0,   0,   0,   1,   1,   0,   1,   2,\n",
              "         93, 227, 255, 252, 253,  10,   2,   0,   2,   0,   4,   0,   0,\n",
              "          0,   0],\n",
              "       [  0,   0,   0,   0,   0,   0,   0,   0,   1,   0,   3,   0, 126,\n",
              "        255, 247, 255, 255, 170,   0,   1,   0,   1,   0,   0,   0,   0,\n",
              "          0,   0],\n",
              "       [  0,   0,   0,   0,   0,   0,   0,   0,   1,   0,  95, 220, 255,\n",
              "        254, 255, 255, 164,  11,   0,   2,   2,   3,   3,   0,   0,   0,\n",
              "          0,   0],\n",
              "       [  0,   0,   0,   0,   0,   0,   0,   0,   0, 110, 253, 255, 252,\n",
              "        255, 182,   8,   1,   0,   3,   2,   0,   0,   0,   0,   0,   0,\n",
              "          0,   0],\n",
              "       [  0,   0,   0,   0,   0,   0,   0,   0,  75, 239, 251, 254, 255,\n",
              "        255, 255, 253, 227,  95,   0,   1,   0,   4,   0,   1,   0,   0,\n",
              "          0,   0],\n",
              "       [  0,   0,   0,   0,   0,   0,   0,   0, 220, 254, 255, 255, 249,\n",
              "        255, 255, 255, 255, 242, 106,   4,   0,   0,   0,   0,   0,   0,\n",
              "          0,   0],\n",
              "       [  0,   0,   0,   0,   0,   0,   0,   0, 120, 255, 253, 255, 255,\n",
              "        254, 254, 253, 255, 255, 255, 125,   0,   1,   0,   0,   0,   0,\n",
              "          0,   0],\n",
              "       [  0,   0,   2,   1,   0,   3,   0,   0,   1,   2,   0,   0,   0,\n",
              "          1,   0, 120, 253, 255, 251, 255, 122,   0,   0,   1,   0,   0,\n",
              "          0,   0],\n",
              "       [  1,   4,   0,   0,   1,   1,   0,   6,   0,   0,   2,   1,   1,\n",
              "          0,   3,   0,  10, 186, 254, 255, 245,   0,   4,   0,   0,   0,\n",
              "          0,   0],\n",
              "       [  0,   0,   4,   2,   1,   0,   2,   0,   3,   0,   0,   2,   0,\n",
              "          5,   0,   1,   0,   9, 255, 252, 255,   6,   0,   2,   0,   0,\n",
              "          0,   0],\n",
              "       [  3,   0,   0,   2,   0,   2,  73, 188,  96,   0,   2,   0,   2,\n",
              "          2,   0,   1,   1,  69, 255, 255, 254,   0,   0,   0,   0,   0,\n",
              "          0,   0],\n",
              "       [  0,   1,   0,   1,   0,   1, 233, 253, 242,   4,   0,   0,   0,\n",
              "          1,   2,   0,   2, 234, 253, 255, 253,   4,   1,   0,   0,   0,\n",
              "          0,   0],\n",
              "       [  3,   0,   5,   0,   2,   0, 249, 255, 255, 221, 105,   0,   1,\n",
              "          1,   0,  75, 222, 254, 254, 255, 150,   1,   0,   3,   0,   0,\n",
              "          0,   0],\n",
              "       [  0,   4,   0,   0,   2,   0, 249, 255, 252, 255, 255, 254, 252,\n",
              "        255, 253, 255, 255, 255, 255, 251,   4,   0,   0,   0,   0,   0,\n",
              "          0,   0],\n",
              "       [  1,   0,   1,   1,   1,   0, 120, 255, 255, 254, 253, 255, 255,\n",
              "        254, 255, 252, 253, 255, 253, 155,   0,   0,   0,   1,   0,   0,\n",
              "          0,   0],\n",
              "       [  0,   0,   0,   0,   0,   0,   0,   0,   9, 158, 254, 255, 253,\n",
              "        255, 251, 255, 255, 147,   2,   0,   0,   2,   2,   0,   0,   0,\n",
              "          0,   0],\n",
              "       [  0,   0,   0,   0,   0,   0,   0,   0,   0,   4,   0,   0,   2,\n",
              "          3,   0,   0,   0,   3,   0,   1,   0,   0,   0,   0,   0,   0,\n",
              "          0,   0],\n",
              "       [  0,   0,   0,   0,   0,   0,   0,   0,   1,   0,   0,   2,   0,\n",
              "          0,   0,   0,   3,   0,   5,   0,   3,   3,   0,   2,   0,   0,\n",
              "          0,   0],\n",
              "       [  0,   0,   0,   0,   0,   0,   0,   0,   0,   1,   0,   0,   5,\n",
              "          3,   0,   3,   0,   0,   0,   0,   0,   0,   0,   3,   0,   0,\n",
              "          0,   0]], dtype=uint8)</pre></div><script>\n",
              "      (() => {\n",
              "      const titles = ['show data', 'hide data'];\n",
              "      let index = 0\n",
              "      document.querySelector('#id-e44fc454-0e5c-4470-8f08-d53fdd34ea8f button').onclick = (e) => {\n",
              "        document.querySelector('#id-e44fc454-0e5c-4470-8f08-d53fdd34ea8f').classList.toggle('show_array');\n",
              "        index = (++index) % 2;\n",
              "        document.querySelector('#id-e44fc454-0e5c-4470-8f08-d53fdd34ea8f button').textContent = titles[index];\n",
              "        e.preventDefault();\n",
              "        e.stopPropagation();\n",
              "      }\n",
              "      })();\n",
              "    </script>"
            ]
          },
          "metadata": {},
          "execution_count": 46
        }
      ]
    },
    {
      "cell_type": "code",
      "source": [
        "plt.imshow(img, cmap=\"gray\")\n",
        "plt.show()"
      ],
      "metadata": {
        "colab": {
          "base_uri": "https://localhost:8080/",
          "height": 430
        },
        "id": "BvaGwx1vRsmA",
        "outputId": "a94bb515-22c0-4954-fe56-1b9bc5e0f220"
      },
      "execution_count": 47,
      "outputs": [
        {
          "output_type": "display_data",
          "data": {
            "text/plain": [
              "<Figure size 640x480 with 1 Axes>"
            ],
            "image/png": "[encoded data removed]"
          },
          "metadata": {}
        }
      ]
    },
    {
      "cell_type": "code",
      "source": [
        "img_scl = img.astype(\"float32\")/255"
      ],
      "metadata": {
        "id": "ca-f3beVR07n"
      },
      "execution_count": 48,
      "outputs": []
    },
    {
      "cell_type": "code",
      "source": [
        "img_scl = img_scl.reshape(1, 28, 28, 1)"
      ],
      "metadata": {
        "id": "hMXecNNMSJYC"
      },
      "execution_count": 49,
      "outputs": []
    },
    {
      "cell_type": "code",
      "source": [
        "img_scl"
      ],
      "metadata": {
        "colab": {
          "base_uri": "https://localhost:8080/"
        },
        "id": "LrGuJA_FVRv1",
        "outputId": "f0914ec0-0730-4989-f911-59773d9bd9d2"
      },
      "execution_count": 50,
      "outputs": [
        {
          "output_type": "execute_result",
          "data": {
            "text/plain": [
              "array([[[[0.00392157],\n",
              "         [0.        ],\n",
              "         [0.00784314],\n",
              "         [0.        ],\n",
              "         [0.        ],\n",
              "         [0.        ],\n",
              "         [0.        ],\n",
              "         [0.00392157],\n",
              "         [0.        ],\n",
              "         [0.        ],\n",
              "         [0.00392157],\n",
              "         [0.00392157],\n",
              "         [0.00392157],\n",
              "         [0.        ],\n",
              "         [0.        ],\n",
              "         [0.00784314],\n",
              "         [0.00784314],\n",
              "         [0.        ],\n",
              "         [0.01176471],\n",
              "         [0.        ],\n",
              "         [0.        ],\n",
              "         [0.        ],\n",
              "         [0.        ],\n",
              "         [0.00392157],\n",
              "         [0.        ],\n",
              "         [0.        ],\n",
              "         [0.        ],\n",
              "         [0.        ]],\n",
              "\n",
              "        [[0.00392157],\n",
              "         [0.        ],\n",
              "         [0.        ],\n",
              "         [0.00784314],\n",
              "         [0.        ],\n",
              "         [0.        ],\n",
              "         [0.01960784],\n",
              "         [0.        ],\n",
              "         [0.        ],\n",
              "         [0.01960784],\n",
              "         [0.        ],\n",
              "         [0.        ],\n",
              "         [0.        ],\n",
              "         [0.01176471],\n",
              "         [0.00392157],\n",
              "         [0.        ],\n",
              "         [0.        ],\n",
              "         [0.01568628],\n",
              "         [0.        ],\n",
              "         [0.        ],\n",
              "         [0.01176471],\n",
              "         [0.        ],\n",
              "         [0.        ],\n",
              "         [0.        ],\n",
              "         [0.        ],\n",
              "         [0.        ],\n",
              "         [0.        ],\n",
              "         [0.        ]],\n",
              "\n",
              "        [[0.00392157],\n",
              "         [0.        ],\n",
              "         [0.        ],\n",
              "         [0.        ],\n",
              "         [0.01176471],\n",
              "         [0.01176471],\n",
              "         [0.        ],\n",
              "         [0.        ],\n",
              "         [0.00392157],\n",
              "         [0.        ],\n",
              "         [0.        ],\n",
              "         [0.01176471],\n",
              "         [0.        ],\n",
              "         [0.        ],\n",
              "         [0.00784314],\n",
              "         [0.00784314],\n",
              "         [0.        ],\n",
              "         [0.01176471],\n",
              "         [0.        ],\n",
              "         [0.        ],\n",
              "         [0.00392157],\n",
              "         [0.01176471],\n",
              "         [0.        ],\n",
              "         [0.01568628],\n",
              "         [0.        ],\n",
              "         [0.        ],\n",
              "         [0.        ],\n",
              "         [0.        ]],\n",
              "\n",
              "        [[0.00784314],\n",
              "         [0.00784314],\n",
              "         [0.        ],\n",
              "         [0.00784314],\n",
              "         [0.        ],\n",
              "         [0.        ],\n",
              "         [0.00392157],\n",
              "         [0.00392157],\n",
              "         [0.00392157],\n",
              "         [0.        ],\n",
              "         [0.01176471],\n",
              "         [0.        ],\n",
              "         [0.        ],\n",
              "         [0.01568628],\n",
              "         [0.        ],\n",
              "         [0.        ],\n",
              "         [0.00392157],\n",
              "         [0.        ],\n",
              "         [0.01960784],\n",
              "         [0.        ],\n",
              "         [0.        ],\n",
              "         [0.        ],\n",
              "         [0.        ],\n",
              "         [0.        ],\n",
              "         [0.        ],\n",
              "         [0.        ],\n",
              "         [0.        ],\n",
              "         [0.        ]],\n",
              "\n",
              "        [[0.        ],\n",
              "         [0.        ],\n",
              "         [0.        ],\n",
              "         [0.00392157],\n",
              "         [0.        ],\n",
              "         [0.2901961 ],\n",
              "         [0.87058824],\n",
              "         [0.9764706 ],\n",
              "         [1.        ],\n",
              "         [1.        ],\n",
              "         [0.99215686],\n",
              "         [0.9882353 ],\n",
              "         [1.        ],\n",
              "         [1.        ],\n",
              "         [0.99215686],\n",
              "         [1.        ],\n",
              "         [1.        ],\n",
              "         [0.99215686],\n",
              "         [0.98039216],\n",
              "         [0.8901961 ],\n",
              "         [0.3764706 ],\n",
              "         [0.        ],\n",
              "         [0.01176471],\n",
              "         [0.00392157],\n",
              "         [0.        ],\n",
              "         [0.        ],\n",
              "         [0.        ],\n",
              "         [0.        ]],\n",
              "\n",
              "        [[0.        ],\n",
              "         [0.01176471],\n",
              "         [0.        ],\n",
              "         [0.00392157],\n",
              "         [0.        ],\n",
              "         [0.87058824],\n",
              "         [1.        ],\n",
              "         [1.        ],\n",
              "         [1.        ],\n",
              "         [1.        ],\n",
              "         [0.9882353 ],\n",
              "         [1.        ],\n",
              "         [1.        ],\n",
              "         [0.9843137 ],\n",
              "         [1.        ],\n",
              "         [0.98039216],\n",
              "         [0.9882353 ],\n",
              "         [1.        ],\n",
              "         [1.        ],\n",
              "         [1.        ],\n",
              "         [0.9607843 ],\n",
              "         [0.01176471],\n",
              "         [0.00392157],\n",
              "         [0.        ],\n",
              "         [0.        ],\n",
              "         [0.        ],\n",
              "         [0.        ],\n",
              "         [0.        ]],\n",
              "\n",
              "        [[0.        ],\n",
              "         [0.00392157],\n",
              "         [0.        ],\n",
              "         [0.        ],\n",
              "         [0.00784314],\n",
              "         [0.4745098 ],\n",
              "         [1.        ],\n",
              "         [0.98039216],\n",
              "         [0.9882353 ],\n",
              "         [1.        ],\n",
              "         [0.99607843],\n",
              "         [1.        ],\n",
              "         [0.98039216],\n",
              "         [1.        ],\n",
              "         [1.        ],\n",
              "         [1.        ],\n",
              "         [1.        ],\n",
              "         [1.        ],\n",
              "         [0.99215686],\n",
              "         [1.        ],\n",
              "         [0.99215686],\n",
              "         [0.        ],\n",
              "         [0.        ],\n",
              "         [0.01568628],\n",
              "         [0.        ],\n",
              "         [0.        ],\n",
              "         [0.        ],\n",
              "         [0.        ]],\n",
              "\n",
              "        [[0.        ],\n",
              "         [0.        ],\n",
              "         [0.        ],\n",
              "         [0.01176471],\n",
              "         [0.00784314],\n",
              "         [0.        ],\n",
              "         [0.        ],\n",
              "         [0.00784314],\n",
              "         [0.00392157],\n",
              "         [0.01176471],\n",
              "         [0.        ],\n",
              "         [0.00392157],\n",
              "         [0.        ],\n",
              "         [0.00392157],\n",
              "         [0.        ],\n",
              "         [0.4       ],\n",
              "         [1.        ],\n",
              "         [0.99607843],\n",
              "         [1.        ],\n",
              "         [1.        ],\n",
              "         [0.5882353 ],\n",
              "         [0.        ],\n",
              "         [0.        ],\n",
              "         [0.        ],\n",
              "         [0.        ],\n",
              "         [0.        ],\n",
              "         [0.        ],\n",
              "         [0.        ]],\n",
              "\n",
              "        [[0.        ],\n",
              "         [0.        ],\n",
              "         [0.        ],\n",
              "         [0.        ],\n",
              "         [0.        ],\n",
              "         [0.        ],\n",
              "         [0.        ],\n",
              "         [0.        ],\n",
              "         [0.        ],\n",
              "         [0.        ],\n",
              "         [0.00392157],\n",
              "         [0.00392157],\n",
              "         [0.        ],\n",
              "         [0.        ],\n",
              "         [0.00392157],\n",
              "         [0.8980392 ],\n",
              "         [1.        ],\n",
              "         [1.        ],\n",
              "         [1.        ],\n",
              "         [0.58431375],\n",
              "         [0.01176471],\n",
              "         [0.        ],\n",
              "         [0.        ],\n",
              "         [0.        ],\n",
              "         [0.        ],\n",
              "         [0.        ],\n",
              "         [0.        ],\n",
              "         [0.        ]],\n",
              "\n",
              "        [[0.        ],\n",
              "         [0.        ],\n",
              "         [0.        ],\n",
              "         [0.        ],\n",
              "         [0.        ],\n",
              "         [0.        ],\n",
              "         [0.        ],\n",
              "         [0.        ],\n",
              "         [0.00392157],\n",
              "         [0.00392157],\n",
              "         [0.        ],\n",
              "         [0.00392157],\n",
              "         [0.00784314],\n",
              "         [0.3647059 ],\n",
              "         [0.8901961 ],\n",
              "         [1.        ],\n",
              "         [0.9882353 ],\n",
              "         [0.99215686],\n",
              "         [0.03921569],\n",
              "         [0.00784314],\n",
              "         [0.        ],\n",
              "         [0.00784314],\n",
              "         [0.        ],\n",
              "         [0.01568628],\n",
              "         [0.        ],\n",
              "         [0.        ],\n",
              "         [0.        ],\n",
              "         [0.        ]],\n",
              "\n",
              "        [[0.        ],\n",
              "         [0.        ],\n",
              "         [0.        ],\n",
              "         [0.        ],\n",
              "         [0.        ],\n",
              "         [0.        ],\n",
              "         [0.        ],\n",
              "         [0.        ],\n",
              "         [0.00392157],\n",
              "         [0.        ],\n",
              "         [0.01176471],\n",
              "         [0.        ],\n",
              "         [0.49411765],\n",
              "         [1.        ],\n",
              "         [0.96862745],\n",
              "         [1.        ],\n",
              "         [1.        ],\n",
              "         [0.6666667 ],\n",
              "         [0.        ],\n",
              "         [0.00392157],\n",
              "         [0.        ],\n",
              "         [0.00392157],\n",
              "         [0.        ],\n",
              "         [0.        ],\n",
              "         [0.        ],\n",
              "         [0.        ],\n",
              "         [0.        ],\n",
              "         [0.        ]],\n",
              "\n",
              "        [[0.        ],\n",
              "         [0.        ],\n",
              "         [0.        ],\n",
              "         [0.        ],\n",
              "         [0.        ],\n",
              "         [0.        ],\n",
              "         [0.        ],\n",
              "         [0.        ],\n",
              "         [0.00392157],\n",
              "         [0.        ],\n",
              "         [0.37254903],\n",
              "         [0.8627451 ],\n",
              "         [1.        ],\n",
              "         [0.99607843],\n",
              "         [1.        ],\n",
              "         [1.        ],\n",
              "         [0.6431373 ],\n",
              "         [0.04313726],\n",
              "         [0.        ],\n",
              "         [0.00784314],\n",
              "         [0.00784314],\n",
              "         [0.01176471],\n",
              "         [0.01176471],\n",
              "         [0.        ],\n",
              "         [0.        ],\n",
              "         [0.        ],\n",
              "         [0.        ],\n",
              "         [0.        ]],\n",
              "\n",
              "        [[0.        ],\n",
              "         [0.        ],\n",
              "         [0.        ],\n",
              "         [0.        ],\n",
              "         [0.        ],\n",
              "         [0.        ],\n",
              "         [0.        ],\n",
              "         [0.        ],\n",
              "         [0.        ],\n",
              "         [0.43137255],\n",
              "         [0.99215686],\n",
              "         [1.        ],\n",
              "         [0.9882353 ],\n",
              "         [1.        ],\n",
              "         [0.7137255 ],\n",
              "         [0.03137255],\n",
              "         [0.00392157],\n",
              "         [0.        ],\n",
              "         [0.01176471],\n",
              "         [0.00784314],\n",
              "         [0.        ],\n",
              "         [0.        ],\n",
              "         [0.        ],\n",
              "         [0.        ],\n",
              "         [0.        ],\n",
              "         [0.        ],\n",
              "         [0.        ],\n",
              "         [0.        ]],\n",
              "\n",
              "        [[0.        ],\n",
              "         [0.        ],\n",
              "         [0.        ],\n",
              "         [0.        ],\n",
              "         [0.        ],\n",
              "         [0.        ],\n",
              "         [0.        ],\n",
              "         [0.        ],\n",
              "         [0.29411766],\n",
              "         [0.9372549 ],\n",
              "         [0.9843137 ],\n",
              "         [0.99607843],\n",
              "         [1.        ],\n",
              "         [1.        ],\n",
              "         [1.        ],\n",
              "         [0.99215686],\n",
              "         [0.8901961 ],\n",
              "         [0.37254903],\n",
              "         [0.        ],\n",
              "         [0.00392157],\n",
              "         [0.        ],\n",
              "         [0.01568628],\n",
              "         [0.        ],\n",
              "         [0.00392157],\n",
              "         [0.        ],\n",
              "         [0.        ],\n",
              "         [0.        ],\n",
              "         [0.        ]],\n",
              "\n",
              "        [[0.        ],\n",
              "         [0.        ],\n",
              "         [0.        ],\n",
              "         [0.        ],\n",
              "         [0.        ],\n",
              "         [0.        ],\n",
              "         [0.        ],\n",
              "         [0.        ],\n",
              "         [0.8627451 ],\n",
              "         [0.99607843],\n",
              "         [1.        ],\n",
              "         [1.        ],\n",
              "         [0.9764706 ],\n",
              "         [1.        ],\n",
              "         [1.        ],\n",
              "         [1.        ],\n",
              "         [1.        ],\n",
              "         [0.9490196 ],\n",
              "         [0.41568628],\n",
              "         [0.01568628],\n",
              "         [0.        ],\n",
              "         [0.        ],\n",
              "         [0.        ],\n",
              "         [0.        ],\n",
              "         [0.        ],\n",
              "         [0.        ],\n",
              "         [0.        ],\n",
              "         [0.        ]],\n",
              "\n",
              "        [[0.        ],\n",
              "         [0.        ],\n",
              "         [0.        ],\n",
              "         [0.        ],\n",
              "         [0.        ],\n",
              "         [0.        ],\n",
              "         [0.        ],\n",
              "         [0.        ],\n",
              "         [0.47058824],\n",
              "         [1.        ],\n",
              "         [0.99215686],\n",
              "         [1.        ],\n",
              "         [1.        ],\n",
              "         [0.99607843],\n",
              "         [0.99607843],\n",
              "         [0.99215686],\n",
              "         [1.        ],\n",
              "         [1.        ],\n",
              "         [1.        ],\n",
              "         [0.49019608],\n",
              "         [0.        ],\n",
              "         [0.00392157],\n",
              "         [0.        ],\n",
              "         [0.        ],\n",
              "         [0.        ],\n",
              "         [0.        ],\n",
              "         [0.        ],\n",
              "         [0.        ]],\n",
              "\n",
              "        [[0.        ],\n",
              "         [0.        ],\n",
              "         [0.00784314],\n",
              "         [0.00392157],\n",
              "         [0.        ],\n",
              "         [0.01176471],\n",
              "         [0.        ],\n",
              "         [0.        ],\n",
              "         [0.00392157],\n",
              "         [0.00784314],\n",
              "         [0.        ],\n",
              "         [0.        ],\n",
              "         [0.        ],\n",
              "         [0.00392157],\n",
              "         [0.        ],\n",
              "         [0.47058824],\n",
              "         [0.99215686],\n",
              "         [1.        ],\n",
              "         [0.9843137 ],\n",
              "         [1.        ],\n",
              "         [0.47843137],\n",
              "         [0.        ],\n",
              "         [0.        ],\n",
              "         [0.00392157],\n",
              "         [0.        ],\n",
              "         [0.        ],\n",
              "         [0.        ],\n",
              "         [0.        ]],\n",
              "\n",
              "        [[0.00392157],\n",
              "         [0.01568628],\n",
              "         [0.        ],\n",
              "         [0.        ],\n",
              "         [0.00392157],\n",
              "         [0.00392157],\n",
              "         [0.        ],\n",
              "         [0.02352941],\n",
              "         [0.        ],\n",
              "         [0.        ],\n",
              "         [0.00784314],\n",
              "         [0.00392157],\n",
              "         [0.00392157],\n",
              "         [0.        ],\n",
              "         [0.01176471],\n",
              "         [0.        ],\n",
              "         [0.03921569],\n",
              "         [0.7294118 ],\n",
              "         [0.99607843],\n",
              "         [1.        ],\n",
              "         [0.9607843 ],\n",
              "         [0.        ],\n",
              "         [0.01568628],\n",
              "         [0.        ],\n",
              "         [0.        ],\n",
              "         [0.        ],\n",
              "         [0.        ],\n",
              "         [0.        ]],\n",
              "\n",
              "        [[0.        ],\n",
              "         [0.        ],\n",
              "         [0.01568628],\n",
              "         [0.00784314],\n",
              "         [0.00392157],\n",
              "         [0.        ],\n",
              "         [0.00784314],\n",
              "         [0.        ],\n",
              "         [0.01176471],\n",
              "         [0.        ],\n",
              "         [0.        ],\n",
              "         [0.00784314],\n",
              "         [0.        ],\n",
              "         [0.01960784],\n",
              "         [0.        ],\n",
              "         [0.00392157],\n",
              "         [0.        ],\n",
              "         [0.03529412],\n",
              "         [1.        ],\n",
              "         [0.9882353 ],\n",
              "         [1.        ],\n",
              "         [0.02352941],\n",
              "         [0.        ],\n",
              "         [0.00784314],\n",
              "         [0.        ],\n",
              "         [0.        ],\n",
              "         [0.        ],\n",
              "         [0.        ]],\n",
              "\n",
              "        [[0.01176471],\n",
              "         [0.        ],\n",
              "         [0.        ],\n",
              "         [0.00784314],\n",
              "         [0.        ],\n",
              "         [0.00784314],\n",
              "         [0.28627452],\n",
              "         [0.7372549 ],\n",
              "         [0.3764706 ],\n",
              "         [0.        ],\n",
              "         [0.00784314],\n",
              "         [0.        ],\n",
              "         [0.00784314],\n",
              "         [0.00784314],\n",
              "         [0.        ],\n",
              "         [0.00392157],\n",
              "         [0.00392157],\n",
              "         [0.27058825],\n",
              "         [1.        ],\n",
              "         [1.        ],\n",
              "         [0.99607843],\n",
              "         [0.        ],\n",
              "         [0.        ],\n",
              "         [0.        ],\n",
              "         [0.        ],\n",
              "         [0.        ],\n",
              "         [0.        ],\n",
              "         [0.        ]],\n",
              "\n",
              "        [[0.        ],\n",
              "         [0.00392157],\n",
              "         [0.        ],\n",
              "         [0.00392157],\n",
              "         [0.        ],\n",
              "         [0.00392157],\n",
              "         [0.9137255 ],\n",
              "         [0.99215686],\n",
              "         [0.9490196 ],\n",
              "         [0.01568628],\n",
              "         [0.        ],\n",
              "         [0.        ],\n",
              "         [0.        ],\n",
              "         [0.00392157],\n",
              "         [0.00784314],\n",
              "         [0.        ],\n",
              "         [0.00784314],\n",
              "         [0.91764706],\n",
              "         [0.99215686],\n",
              "         [1.        ],\n",
              "         [0.99215686],\n",
              "         [0.01568628],\n",
              "         [0.00392157],\n",
              "         [0.        ],\n",
              "         [0.        ],\n",
              "         [0.        ],\n",
              "         [0.        ],\n",
              "         [0.        ]],\n",
              "\n",
              "        [[0.01176471],\n",
              "         [0.        ],\n",
              "         [0.01960784],\n",
              "         [0.        ],\n",
              "         [0.00784314],\n",
              "         [0.        ],\n",
              "         [0.9764706 ],\n",
              "         [1.        ],\n",
              "         [1.        ],\n",
              "         [0.8666667 ],\n",
              "         [0.4117647 ],\n",
              "         [0.        ],\n",
              "         [0.00392157],\n",
              "         [0.00392157],\n",
              "         [0.        ],\n",
              "         [0.29411766],\n",
              "         [0.87058824],\n",
              "         [0.99607843],\n",
              "         [0.99607843],\n",
              "         [1.        ],\n",
              "         [0.5882353 ],\n",
              "         [0.00392157],\n",
              "         [0.        ],\n",
              "         [0.01176471],\n",
              "         [0.        ],\n",
              "         [0.        ],\n",
              "         [0.        ],\n",
              "         [0.        ]],\n",
              "\n",
              "        [[0.        ],\n",
              "         [0.01568628],\n",
              "         [0.        ],\n",
              "         [0.        ],\n",
              "         [0.00784314],\n",
              "         [0.        ],\n",
              "         [0.9764706 ],\n",
              "         [1.        ],\n",
              "         [0.9882353 ],\n",
              "         [1.        ],\n",
              "         [1.        ],\n",
              "         [0.99607843],\n",
              "         [0.9882353 ],\n",
              "         [1.        ],\n",
              "         [0.99215686],\n",
              "         [1.        ],\n",
              "         [1.        ],\n",
              "         [1.        ],\n",
              "         [1.        ],\n",
              "         [0.9843137 ],\n",
              "         [0.01568628],\n",
              "         [0.        ],\n",
              "         [0.        ],\n",
              "         [0.        ],\n",
              "         [0.        ],\n",
              "         [0.        ],\n",
              "         [0.        ],\n",
              "         [0.        ]],\n",
              "\n",
              "        [[0.00392157],\n",
              "         [0.        ],\n",
              "         [0.00392157],\n",
              "         [0.00392157],\n",
              "         [0.00392157],\n",
              "         [0.        ],\n",
              "         [0.47058824],\n",
              "         [1.        ],\n",
              "         [1.        ],\n",
              "         [0.99607843],\n",
              "         [0.99215686],\n",
              "         [1.        ],\n",
              "         [1.        ],\n",
              "         [0.99607843],\n",
              "         [1.        ],\n",
              "         [0.9882353 ],\n",
              "         [0.99215686],\n",
              "         [1.        ],\n",
              "         [0.99215686],\n",
              "         [0.60784316],\n",
              "         [0.        ],\n",
              "         [0.        ],\n",
              "         [0.        ],\n",
              "         [0.00392157],\n",
              "         [0.        ],\n",
              "         [0.        ],\n",
              "         [0.        ],\n",
              "         [0.        ]],\n",
              "\n",
              "        [[0.        ],\n",
              "         [0.        ],\n",
              "         [0.        ],\n",
              "         [0.        ],\n",
              "         [0.        ],\n",
              "         [0.        ],\n",
              "         [0.        ],\n",
              "         [0.        ],\n",
              "         [0.03529412],\n",
              "         [0.61960787],\n",
              "         [0.99607843],\n",
              "         [1.        ],\n",
              "         [0.99215686],\n",
              "         [1.        ],\n",
              "         [0.9843137 ],\n",
              "         [1.        ],\n",
              "         [1.        ],\n",
              "         [0.5764706 ],\n",
              "         [0.00784314],\n",
              "         [0.        ],\n",
              "         [0.        ],\n",
              "         [0.00784314],\n",
              "         [0.00784314],\n",
              "         [0.        ],\n",
              "         [0.        ],\n",
              "         [0.        ],\n",
              "         [0.        ],\n",
              "         [0.        ]],\n",
              "\n",
              "        [[0.        ],\n",
              "         [0.        ],\n",
              "         [0.        ],\n",
              "         [0.        ],\n",
              "         [0.        ],\n",
              "         [0.        ],\n",
              "         [0.        ],\n",
              "         [0.        ],\n",
              "         [0.        ],\n",
              "         [0.01568628],\n",
              "         [0.        ],\n",
              "         [0.        ],\n",
              "         [0.00784314],\n",
              "         [0.01176471],\n",
              "         [0.        ],\n",
              "         [0.        ],\n",
              "         [0.        ],\n",
              "         [0.01176471],\n",
              "         [0.        ],\n",
              "         [0.00392157],\n",
              "         [0.        ],\n",
              "         [0.        ],\n",
              "         [0.        ],\n",
              "         [0.        ],\n",
              "         [0.        ],\n",
              "         [0.        ],\n",
              "         [0.        ],\n",
              "         [0.        ]],\n",
              "\n",
              "        [[0.        ],\n",
              "         [0.        ],\n",
              "         [0.        ],\n",
              "         [0.        ],\n",
              "         [0.        ],\n",
              "         [0.        ],\n",
              "         [0.        ],\n",
              "         [0.        ],\n",
              "         [0.00392157],\n",
              "         [0.        ],\n",
              "         [0.        ],\n",
              "         [0.00784314],\n",
              "         [0.        ],\n",
              "         [0.        ],\n",
              "         [0.        ],\n",
              "         [0.        ],\n",
              "         [0.01176471],\n",
              "         [0.        ],\n",
              "         [0.01960784],\n",
              "         [0.        ],\n",
              "         [0.01176471],\n",
              "         [0.01176471],\n",
              "         [0.        ],\n",
              "         [0.00784314],\n",
              "         [0.        ],\n",
              "         [0.        ],\n",
              "         [0.        ],\n",
              "         [0.        ]],\n",
              "\n",
              "        [[0.        ],\n",
              "         [0.        ],\n",
              "         [0.        ],\n",
              "         [0.        ],\n",
              "         [0.        ],\n",
              "         [0.        ],\n",
              "         [0.        ],\n",
              "         [0.        ],\n",
              "         [0.        ],\n",
              "         [0.00392157],\n",
              "         [0.        ],\n",
              "         [0.        ],\n",
              "         [0.01960784],\n",
              "         [0.01176471],\n",
              "         [0.        ],\n",
              "         [0.01176471],\n",
              "         [0.        ],\n",
              "         [0.        ],\n",
              "         [0.        ],\n",
              "         [0.        ],\n",
              "         [0.        ],\n",
              "         [0.        ],\n",
              "         [0.        ],\n",
              "         [0.01176471],\n",
              "         [0.        ],\n",
              "         [0.        ],\n",
              "         [0.        ],\n",
              "         [0.        ]]]], dtype=float32)"
            ]
          },
          "metadata": {},
          "execution_count": 50
        }
      ]
    },
    {
      "cell_type": "code",
      "source": [
        "prob = model.predict(img_scl)\n",
        "prob"
      ],
      "metadata": {
        "colab": {
          "base_uri": "https://localhost:8080/"
        },
        "id": "Ch6Kc_4OSKHj",
        "outputId": "59425723-1276-429f-d1ef-32db9c0677cd"
      },
      "execution_count": 52,
      "outputs": [
        {
          "output_type": "stream",
          "name": "stdout",
          "text": [
            "\u001b[1m1/1\u001b[0m \u001b[32m━━━━━━━━━━━━━━━━━━━━\u001b[0m\u001b[37m\u001b[0m \u001b[1m0s\u001b[0m 151ms/step\n"
          ]
        },
        {
          "output_type": "execute_result",
          "data": {
            "text/plain": [
              "array([[1.9101261e-26, 3.3465560e-22, 7.7292588e-16, 1.0000000e+00,\n",
              "        3.4733692e-22, 6.8143082e-13, 3.8651663e-23, 1.9793637e-19,\n",
              "        1.3009614e-15, 6.8480236e-18]], dtype=float32)"
            ]
          },
          "metadata": {},
          "execution_count": 52
        }
      ]
    },
    {
      "cell_type": "code",
      "source": [
        "np.max(prob)"
      ],
      "metadata": {
        "colab": {
          "base_uri": "https://localhost:8080/"
        },
        "id": "AuVBQXkdSjB0",
        "outputId": "f13c2442-139f-443a-b2f3-4c394cf29647"
      },
      "execution_count": 54,
      "outputs": [
        {
          "output_type": "execute_result",
          "data": {
            "text/plain": [
              "1.0"
            ]
          },
          "metadata": {},
          "execution_count": 54
        }
      ]
    },
    {
      "cell_type": "code",
      "source": [
        "pred = np.argmax(prob, axis=1)"
      ],
      "metadata": {
        "id": "qavmlAANYqG0"
      },
      "execution_count": 55,
      "outputs": []
    },
    {
      "cell_type": "code",
      "source": [
        "pred"
      ],
      "metadata": {
        "colab": {
          "base_uri": "https://localhost:8080/"
        },
        "id": "k4eL4dTqYxpe",
        "outputId": "8b81dead-3f88-4469-a71a-0c4663327093"
      },
      "execution_count": 56,
      "outputs": [
        {
          "output_type": "execute_result",
          "data": {
            "text/plain": [
              "array([3])"
            ]
          },
          "metadata": {},
          "execution_count": 56
        }
      ]
    },
    {
      "cell_type": "code",
      "source": [
        "def predict_digit(model, img_path):\n",
        "  img = cv2.imread(img_path, cv2.IMREAD_GRAYSCALE)\n",
        "  plt.imshow(img, cmap=\"gray\")\n",
        "  plt.show()\n",
        "  img_scl = img.astype(\"float32\")/255\n",
        "  img_scl = img.reshape(1, 28, 28, 1)\n",
        "  prob = model.predict(img_scl)\n",
        "  pred = np.argmax(prob, axis=1)\n",
        "  max_prob = np.max(prob, axis=1)\n",
        "  return pred, max_prob"
      ],
      "metadata": {
        "id": "NDtNwx4OYyIx"
      },
      "execution_count": 57,
      "outputs": []
    },
    {
      "cell_type": "code",
      "source": [
        "predict_digit(model, \"/content/Image7.jpg\")"
      ],
      "metadata": {
        "colab": {
          "base_uri": "https://localhost:8080/",
          "height": 467
        },
        "id": "vRwiDWIbZWDI",
        "outputId": "5aa8c297-08f6-4a6d-a199-c6ffede77370"
      },
      "execution_count": 58,
      "outputs": [
        {
          "output_type": "display_data",
          "data": {
            "text/plain": [
              "<Figure size 640x480 with 1 Axes>"
            ],
            "image/png": "[encoded data removed]"
          },
          "metadata": {}
        },
        {
          "output_type": "stream",
          "name": "stdout",
          "text": [
            "\u001b[1m1/1\u001b[0m \u001b[32m━━━━━━━━━━━━━━━━━━━━\u001b[0m\u001b[37m\u001b[0m \u001b[1m1s\u001b[0m 613ms/step\n"
          ]
        },
        {
          "output_type": "execute_result",
          "data": {
            "text/plain": [
              "(array([2]), array([1.], dtype=float32))"
            ]
          },
          "metadata": {},
          "execution_count": 58
        }
      ]
    },
    {
      "cell_type": "code",
      "source": [
        "predict_digit(model, \"/content/Image8.jpg\")"
      ],
      "metadata": {
        "colab": {
          "base_uri": "https://localhost:8080/",
          "height": 467
        },
        "id": "5D3yDf_lZmx5",
        "outputId": "bc120303-fb07-42f7-e21e-edc339a7c9a4"
      },
      "execution_count": 59,
      "outputs": [
        {
          "output_type": "display_data",
          "data": {
            "text/plain": [
              "<Figure size 640x480 with 1 Axes>"
            ],
            "image/png": "[encoded data removed]"
          },
          "metadata": {}
        },
        {
          "output_type": "stream",
          "name": "stdout",
          "text": [
            "\u001b[1m1/1\u001b[0m \u001b[32m━━━━━━━━━━━━━━━━━━━━\u001b[0m\u001b[37m\u001b[0m \u001b[1m0s\u001b[0m 46ms/step\n"
          ]
        },
        {
          "output_type": "execute_result",
          "data": {
            "text/plain": [
              "(array([8]), array([1.], dtype=float32))"
            ]
          },
          "metadata": {},
          "execution_count": 59
        }
      ]
    },
    {
      "cell_type": "code",
      "source": [
        "predict_digit(model, \"/content/Image5.png\")"
      ],
      "metadata": {
        "colab": {
          "base_uri": "https://localhost:8080/",
          "height": 467
        },
        "id": "oAM5nhKoZ-PY",
        "outputId": "4d6254ab-eebc-41cd-ab9e-bfb5c277350e"
      },
      "execution_count": 61,
      "outputs": [
        {
          "output_type": "display_data",
          "data": {
            "text/plain": [
              "<Figure size 640x480 with 1 Axes>"
            ],
            "image/png": "[encoded data removed]"
          },
          "metadata": {}
        },
        {
          "output_type": "stream",
          "name": "stdout",
          "text": [
            "\u001b[1m1/1\u001b[0m \u001b[32m━━━━━━━━━━━━━━━━━━━━\u001b[0m\u001b[37m\u001b[0m \u001b[1m0s\u001b[0m 44ms/step\n"
          ]
        },
        {
          "output_type": "execute_result",
          "data": {
            "text/plain": [
              "(array([5]), array([1.], dtype=float32))"
            ]
          },
          "metadata": {},
          "execution_count": 61
        }
      ]
    },
    {
      "cell_type": "code",
      "source": [],
      "metadata": {
        "id": "6n3dMSFnaRhW"
      },
      "execution_count": null,
      "outputs": []
    }
  ]
}